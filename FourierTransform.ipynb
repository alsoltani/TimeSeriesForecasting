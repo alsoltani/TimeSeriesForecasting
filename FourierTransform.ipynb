{
 "cells": [
  {
   "cell_type": "code",
   "execution_count": 66,
   "metadata": {
    "collapsed": false
   },
   "outputs": [],
   "source": [
    "import numpy as np\n",
    "import pandas as pd\n",
    "import pywt\n",
    "from sklearn.cross_validation import train_test_split\n",
    "from sklearn.ensemble import RandomForestRegressor\n",
    "from sklearn.cross_validation import cross_val_score\n",
    "from sklearn.grid_search import GridSearchCV"
   ]
  },
  {
   "cell_type": "markdown",
   "metadata": {},
   "source": [
    "### Wavelet Transform Class.\n",
    "DictT.dot is a method corresponding to the DWT operator."
   ]
  },
  {
   "cell_type": "code",
   "execution_count": 67,
   "metadata": {
    "collapsed": true
   },
   "outputs": [],
   "source": [
    "class DictT(object):\n",
    "\n",
    "    def __init__(self, name, level):\n",
    "            self.name = name\n",
    "            self.level = level\n",
    "            self.sizes = []\n",
    "\n",
    "    def dot(self, mat):\n",
    "\n",
    "        m = []\n",
    "\n",
    "        if mat.shape[0] != mat.size:\n",
    "            for i in xrange(mat.shape[1]):\n",
    "                c = pywt.wavedec(mat[:, i], self.name, level=self.level)\n",
    "                self.sizes.append(map(len, c))\n",
    "                c = np.concatenate(c)\n",
    "                m.append(c)\n",
    "            return np.asarray(m).T\n",
    "        else:\n",
    "            c = pywt.wavedec(mat, self.name, level=self.level)\n",
    "            self.sizes.append(map(len, c))\n",
    "            return np.concatenate(c)"
   ]
  },
  {
   "cell_type": "markdown",
   "metadata": {},
   "source": [
    "### Import data."
   ]
  },
  {
   "cell_type": "code",
   "execution_count": 68,
   "metadata": {
    "collapsed": false
   },
   "outputs": [],
   "source": [
    "training = pd.read_csv('Data/training_input.csv', delimiter=',')\n",
    "output = pd.read_csv('Data/training_output.csv', delimiter=';')\n",
    "\n",
    "training = training.drop(pd.isnull(training).any(1).nonzero()[0]).reset_index(drop=True)\n",
    "training = pd.merge(training, output, on='ID', how='inner')\n",
    "\n",
    "x = training.drop([\"ID\", \"date\", \"product_id\", \"TARGET\"], axis=1).values\n",
    "y = training[\"TARGET\"].values"
   ]
  },
  {
   "cell_type": "code",
   "execution_count": 69,
   "metadata": {
    "collapsed": false
   },
   "outputs": [
    {
     "name": "stdout",
     "output_type": "stream",
     "text": [
      "Full labelled set :\n",
      "(513947, 54) \n",
      "(513947,)\n"
     ]
    }
   ],
   "source": [
    "print \"Full labelled set :\\n\", x.shape, \"\\n\", y.shape"
   ]
  },
  {
   "cell_type": "markdown",
   "metadata": {},
   "source": [
    "### Create wavelet dictionary.\n",
    "NB: 'db1' is the classical DFT operator."
   ]
  },
  {
   "cell_type": "code",
   "execution_count": 70,
   "metadata": {
    "collapsed": true
   },
   "outputs": [],
   "source": [
    "wave_name = 'db17'\n",
    "wave_level = None\n",
    "wavelet_operator_t = DictT(level=wave_level, name=wave_name)\n",
    "\n",
    "basis_t = wavelet_operator_t.dot(np.identity(x.shape[1]))\n",
    "basis_t /= np.sqrt(np.sum(basis_t ** 2, axis=0))\n",
    "basis = basis_t.T"
   ]
  },
  {
   "cell_type": "markdown",
   "metadata": {},
   "source": [
    "### Regression.\n",
    "Training, validation split the transformed data, using Fourier/Wavelet."
   ]
  },
  {
   "cell_type": "code",
   "execution_count": 71,
   "metadata": {
    "collapsed": false
   },
   "outputs": [],
   "source": [
    "x_train, x_val, y_train, y_val = train_test_split(\n",
    "    x.dot(basis), y, test_size=0.2, random_state=0)"
   ]
  },
  {
   "cell_type": "code",
   "execution_count": 72,
   "metadata": {
    "collapsed": false
   },
   "outputs": [
    {
     "name": "stdout",
     "output_type": "stream",
     "text": [
      "Training set :\n",
      "(411157, 54) \n",
      "(411157,)\n",
      "Validation set :\n",
      "(102790, 54) \n",
      "(102790,)\n"
     ]
    }
   ],
   "source": [
    "print \"Training set :\\n\", x_train.shape, \"\\n\", y_train.shape\n",
    "print \"Validation set :\\n\", x_val.shape, \"\\n\", y_val.shape"
   ]
  },
  {
   "cell_type": "markdown",
   "metadata": {},
   "source": [
    "Supervised learning method.    \n",
    "_TODO:_ Use GridSearchCV for the best parameters."
   ]
  },
  {
   "cell_type": "code",
   "execution_count": null,
   "metadata": {
    "collapsed": false
   },
   "outputs": [],
   "source": [
    "%%time\n",
    "\n",
    "reg_grid = {\n",
    "    \"max_depth\": [10, 20, 40, None],\n",
    "    \"max_features\": [20, 30, 40, 'auto'],\n",
    "    \"min_samples_split\": [1, 5, 10],\n",
    "    \"min_samples_leaf\": [1, 5, 10],\n",
    "    \"bootstrap\": [True, False]}\n",
    "\n",
    "reg = GridSearchCV(RandomForestRegressor(n_estimators=50, n_jobs=-1),\n",
    "                   param_grid=reg_grid, n_jobs=-1, verbose=5)\n",
    "reg.fit(x_train, y_train)\n",
    "y_val_pred = reg.predict(x_val)\n",
    "\n",
    "params = reg.best_params_\n",
    "print params"
   ]
  },
  {
   "cell_type": "markdown",
   "metadata": {},
   "source": [
    "### Mean Absolute Percentage Error."
   ]
  },
  {
   "cell_type": "code",
   "execution_count": 64,
   "metadata": {
    "collapsed": false
   },
   "outputs": [
    {
     "name": "stdout",
     "output_type": "stream",
     "text": [
      "MAPE : 30.5809283056\n"
     ]
    }
   ],
   "source": [
    "def mean_absolute_percentage_error(y_true, y_pred): \n",
    "    \n",
    "    # y_true, y_pred = check_array(y_true, y_pred)\n",
    "\n",
    "    \"\"\"\n",
    "    Note: does not handle mix 1d representation\n",
    "    if _is_1d(y_true): \n",
    "        y_true, y_pred = _check_1d_array(y_true, y_pred)\n",
    "    \"\"\"\n",
    "\n",
    "    return np.mean(np.abs((y_true - y_pred) / y_true)) * 100\n",
    "\n",
    "print \"MAPE :\", mean_absolute_percentage_error(y_val, y_val_pred)"
   ]
  }
 ],
 "metadata": {
  "kernelspec": {
   "display_name": "Python 2",
   "language": "python",
   "name": "python2"
  },
  "language_info": {
   "codemirror_mode": {
    "name": "ipython",
    "version": 2
   },
   "file_extension": ".py",
   "mimetype": "text/x-python",
   "name": "python",
   "nbconvert_exporter": "python",
   "pygments_lexer": "ipython2",
   "version": "2.7.10"
  }
 },
 "nbformat": 4,
 "nbformat_minor": 0
}
