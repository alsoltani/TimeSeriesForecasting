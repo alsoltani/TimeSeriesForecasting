{
 "cells": [
  {
   "cell_type": "markdown",
   "metadata": {},
   "source": [
    "# Machine Learning Project : Capital Fund Management\n",
    "_Arnaud Lecoules & Alain Soltani_"
   ]
  },
  {
   "cell_type": "markdown",
   "metadata": {},
   "source": [
    "The goal of this challenge is to predict for several American stocks how much volume will be traded during a certain period of time. Because American stock markets open at 9:30am and close at 4:00pm, we are provided with trading data between 9:30am and 2:00pm and asked to predict trading activity from 2:00pm to 4:00pm."
   ]
  },
  {
   "cell_type": "code",
   "execution_count": 26,
   "metadata": {
    "collapsed": false
   },
   "outputs": [],
   "source": [
    "%matplotlib inline\n",
    "import pandas as pd\n",
    "import time\n",
    "import numpy as np\n",
    "import matplotlib.pyplot as plt\n",
    "pd.options.mode.chained_assignment = None  # default='warn'\n",
    "plt.style.use('ggplot')"
   ]
  },
  {
   "cell_type": "markdown",
   "metadata": {},
   "source": [
    "The measure of the error choosen by the challenge is the Mean Absolute Percentage Error (MAPE)."
   ]
  },
  {
   "cell_type": "code",
   "execution_count": 27,
   "metadata": {
    "collapsed": true
   },
   "outputs": [],
   "source": [
    "def mean_absolute_percentage_error(y_true, y_pred): \n",
    "\n",
    "    return np.mean(np.abs((y_true - y_pred) / y_true)) * 100"
   ]
  },
  {
   "cell_type": "markdown",
   "metadata": {},
   "source": [
    "## I. Descriptive Statistics\n",
    "The training data contains 613220 examples for 1882 different dates and 352 examples.    \n",
    "The testing data contains 614098 examples, for which we aim at predicting the target values."
   ]
  },
  {
   "cell_type": "code",
   "execution_count": 28,
   "metadata": {
    "collapsed": false
   },
   "outputs": [],
   "source": [
    "Training = pd.read_csv('training_input.csv', delimiter=',')\n",
    "Output = pd.read_csv('training_output.csv', delimiter=';')\n",
    "Testing = pd.read_csv('testing_input.csv', delimiter=',')"
   ]
  },
  {
   "cell_type": "code",
   "execution_count": 29,
   "metadata": {
    "collapsed": false
   },
   "outputs": [
    {
     "name": "stdout",
     "output_type": "stream",
     "text": [
      "(613220, 57)\n"
     ]
    },
    {
     "data": {
      "text/html": [
       "<div>\n",
       "<table border=\"1\" class=\"dataframe\">\n",
       "  <thead>\n",
       "    <tr style=\"text-align: right;\">\n",
       "      <th></th>\n",
       "      <th>ID</th>\n",
       "      <th>date</th>\n",
       "      <th>product_id</th>\n",
       "      <th>09:30:00</th>\n",
       "      <th>09:35:00</th>\n",
       "      <th>09:40:00</th>\n",
       "      <th>09:45:00</th>\n",
       "      <th>09:50:00</th>\n",
       "      <th>09:55:00</th>\n",
       "      <th>10:00:00</th>\n",
       "      <th>...</th>\n",
       "      <th>13:10:00</th>\n",
       "      <th>13:15:00</th>\n",
       "      <th>13:20:00</th>\n",
       "      <th>13:25:00</th>\n",
       "      <th>13:30:00</th>\n",
       "      <th>13:35:00</th>\n",
       "      <th>13:40:00</th>\n",
       "      <th>13:45:00</th>\n",
       "      <th>13:50:00</th>\n",
       "      <th>13:55:00</th>\n",
       "    </tr>\n",
       "  </thead>\n",
       "  <tbody>\n",
       "    <tr>\n",
       "      <th>0</th>\n",
       "      <td>1</td>\n",
       "      <td>1</td>\n",
       "      <td>236</td>\n",
       "      <td>24138818.08</td>\n",
       "      <td>2457975.00</td>\n",
       "      <td>741777.14</td>\n",
       "      <td>973487.28</td>\n",
       "      <td>764018.92</td>\n",
       "      <td>1074769.92</td>\n",
       "      <td>3056492.88</td>\n",
       "      <td>...</td>\n",
       "      <td>810609.36</td>\n",
       "      <td>818269.86</td>\n",
       "      <td>629216.64</td>\n",
       "      <td>1467907.56</td>\n",
       "      <td>984992.90</td>\n",
       "      <td>959853.30</td>\n",
       "      <td>892596.88</td>\n",
       "      <td>528573.62</td>\n",
       "      <td>973928.60</td>\n",
       "      <td>972596.43</td>\n",
       "    </tr>\n",
       "    <tr>\n",
       "      <th>1</th>\n",
       "      <td>2</td>\n",
       "      <td>1</td>\n",
       "      <td>238</td>\n",
       "      <td>8897508.62</td>\n",
       "      <td>104198.40</td>\n",
       "      <td>61840.92</td>\n",
       "      <td>78523.02</td>\n",
       "      <td>128729.16</td>\n",
       "      <td>60789.84</td>\n",
       "      <td>18072.62</td>\n",
       "      <td>...</td>\n",
       "      <td>19140.84</td>\n",
       "      <td>12707.50</td>\n",
       "      <td>25131.87</td>\n",
       "      <td>24124.80</td>\n",
       "      <td>46132.35</td>\n",
       "      <td>51850.26</td>\n",
       "      <td>46478.41</td>\n",
       "      <td>17199.00</td>\n",
       "      <td>34500.62</td>\n",
       "      <td>37690.24</td>\n",
       "    </tr>\n",
       "    <tr>\n",
       "      <th>2</th>\n",
       "      <td>3</td>\n",
       "      <td>1</td>\n",
       "      <td>242</td>\n",
       "      <td>6461968.95</td>\n",
       "      <td>109497.00</td>\n",
       "      <td>152577.00</td>\n",
       "      <td>164024.00</td>\n",
       "      <td>204372.00</td>\n",
       "      <td>321545.70</td>\n",
       "      <td>346236.00</td>\n",
       "      <td>...</td>\n",
       "      <td>96203.00</td>\n",
       "      <td>33978.00</td>\n",
       "      <td>239729.60</td>\n",
       "      <td>67860.00</td>\n",
       "      <td>68478.00</td>\n",
       "      <td>105222.24</td>\n",
       "      <td>101646.00</td>\n",
       "      <td>79128.00</td>\n",
       "      <td>101248.00</td>\n",
       "      <td>367120.00</td>\n",
       "    </tr>\n",
       "    <tr>\n",
       "      <th>3</th>\n",
       "      <td>4</td>\n",
       "      <td>1</td>\n",
       "      <td>243</td>\n",
       "      <td>6822223.20</td>\n",
       "      <td>220467.28</td>\n",
       "      <td>161594.35</td>\n",
       "      <td>264893.44</td>\n",
       "      <td>300326.20</td>\n",
       "      <td>707391.68</td>\n",
       "      <td>327428.00</td>\n",
       "      <td>...</td>\n",
       "      <td>437946.60</td>\n",
       "      <td>7096.00</td>\n",
       "      <td>514560.06</td>\n",
       "      <td>1395147.39</td>\n",
       "      <td>984468.82</td>\n",
       "      <td>565263.30</td>\n",
       "      <td>286416.00</td>\n",
       "      <td>71518.14</td>\n",
       "      <td>155752.10</td>\n",
       "      <td>123690.00</td>\n",
       "    </tr>\n",
       "    <tr>\n",
       "      <th>4</th>\n",
       "      <td>5</td>\n",
       "      <td>1</td>\n",
       "      <td>261</td>\n",
       "      <td>36632811.84</td>\n",
       "      <td>4470974.95</td>\n",
       "      <td>1448461.05</td>\n",
       "      <td>1500694.38</td>\n",
       "      <td>944346.50</td>\n",
       "      <td>958685.76</td>\n",
       "      <td>1685234.07</td>\n",
       "      <td>...</td>\n",
       "      <td>429049.72</td>\n",
       "      <td>289330.13</td>\n",
       "      <td>578565.65</td>\n",
       "      <td>358484.80</td>\n",
       "      <td>440292.16</td>\n",
       "      <td>795697.65</td>\n",
       "      <td>565374.30</td>\n",
       "      <td>832022.43</td>\n",
       "      <td>1425134.40</td>\n",
       "      <td>2310369.30</td>\n",
       "    </tr>\n",
       "  </tbody>\n",
       "</table>\n",
       "<p>5 rows × 57 columns</p>\n",
       "</div>"
      ],
      "text/plain": [
       "   ID  date  product_id     09:30:00    09:35:00    09:40:00    09:45:00  \\\n",
       "0   1     1         236  24138818.08  2457975.00   741777.14   973487.28   \n",
       "1   2     1         238   8897508.62   104198.40    61840.92    78523.02   \n",
       "2   3     1         242   6461968.95   109497.00   152577.00   164024.00   \n",
       "3   4     1         243   6822223.20   220467.28   161594.35   264893.44   \n",
       "4   5     1         261  36632811.84  4470974.95  1448461.05  1500694.38   \n",
       "\n",
       "    09:50:00    09:55:00    10:00:00     ...       13:10:00   13:15:00  \\\n",
       "0  764018.92  1074769.92  3056492.88     ...      810609.36  818269.86   \n",
       "1  128729.16    60789.84    18072.62     ...       19140.84   12707.50   \n",
       "2  204372.00   321545.70   346236.00     ...       96203.00   33978.00   \n",
       "3  300326.20   707391.68   327428.00     ...      437946.60    7096.00   \n",
       "4  944346.50   958685.76  1685234.07     ...      429049.72  289330.13   \n",
       "\n",
       "    13:20:00    13:25:00   13:30:00   13:35:00   13:40:00   13:45:00  \\\n",
       "0  629216.64  1467907.56  984992.90  959853.30  892596.88  528573.62   \n",
       "1   25131.87    24124.80   46132.35   51850.26   46478.41   17199.00   \n",
       "2  239729.60    67860.00   68478.00  105222.24  101646.00   79128.00   \n",
       "3  514560.06  1395147.39  984468.82  565263.30  286416.00   71518.14   \n",
       "4  578565.65   358484.80  440292.16  795697.65  565374.30  832022.43   \n",
       "\n",
       "     13:50:00    13:55:00  \n",
       "0   973928.60   972596.43  \n",
       "1    34500.62    37690.24  \n",
       "2   101248.00   367120.00  \n",
       "3   155752.10   123690.00  \n",
       "4  1425134.40  2310369.30  \n",
       "\n",
       "[5 rows x 57 columns]"
      ]
     },
     "execution_count": 29,
     "metadata": {},
     "output_type": "execute_result"
    }
   ],
   "source": [
    "print Training.shape\n",
    "Training.head()"
   ]
  },
  {
   "cell_type": "code",
   "execution_count": 30,
   "metadata": {
    "collapsed": false
   },
   "outputs": [
    {
     "name": "stdout",
     "output_type": "stream",
     "text": [
      "(613220, 2)\n"
     ]
    },
    {
     "data": {
      "text/html": [
       "<div>\n",
       "<table border=\"1\" class=\"dataframe\">\n",
       "  <thead>\n",
       "    <tr style=\"text-align: right;\">\n",
       "      <th></th>\n",
       "      <th>ID</th>\n",
       "      <th>TARGET</th>\n",
       "    </tr>\n",
       "  </thead>\n",
       "  <tbody>\n",
       "    <tr>\n",
       "      <th>0</th>\n",
       "      <td>1</td>\n",
       "      <td>36523251.91</td>\n",
       "    </tr>\n",
       "    <tr>\n",
       "      <th>1</th>\n",
       "      <td>2</td>\n",
       "      <td>5645118.17</td>\n",
       "    </tr>\n",
       "    <tr>\n",
       "      <th>2</th>\n",
       "      <td>3</td>\n",
       "      <td>8103847.53</td>\n",
       "    </tr>\n",
       "    <tr>\n",
       "      <th>3</th>\n",
       "      <td>4</td>\n",
       "      <td>20047809.46</td>\n",
       "    </tr>\n",
       "    <tr>\n",
       "      <th>4</th>\n",
       "      <td>5</td>\n",
       "      <td>36833075.51</td>\n",
       "    </tr>\n",
       "  </tbody>\n",
       "</table>\n",
       "</div>"
      ],
      "text/plain": [
       "   ID       TARGET\n",
       "0   1  36523251.91\n",
       "1   2   5645118.17\n",
       "2   3   8103847.53\n",
       "3   4  20047809.46\n",
       "4   5  36833075.51"
      ]
     },
     "execution_count": 30,
     "metadata": {},
     "output_type": "execute_result"
    }
   ],
   "source": [
    "print Output.shape\n",
    "Output.head()"
   ]
  },
  {
   "cell_type": "code",
   "execution_count": 31,
   "metadata": {
    "collapsed": false
   },
   "outputs": [
    {
     "name": "stdout",
     "output_type": "stream",
     "text": [
      "(614098, 57)\n"
     ]
    },
    {
     "data": {
      "text/html": [
       "<div>\n",
       "<table border=\"1\" class=\"dataframe\">\n",
       "  <thead>\n",
       "    <tr style=\"text-align: right;\">\n",
       "      <th></th>\n",
       "      <th>ID</th>\n",
       "      <th>date</th>\n",
       "      <th>product_id</th>\n",
       "      <th>09:30:00</th>\n",
       "      <th>09:35:00</th>\n",
       "      <th>09:40:00</th>\n",
       "      <th>09:45:00</th>\n",
       "      <th>09:50:00</th>\n",
       "      <th>09:55:00</th>\n",
       "      <th>10:00:00</th>\n",
       "      <th>...</th>\n",
       "      <th>13:10:00</th>\n",
       "      <th>13:15:00</th>\n",
       "      <th>13:20:00</th>\n",
       "      <th>13:25:00</th>\n",
       "      <th>13:30:00</th>\n",
       "      <th>13:35:00</th>\n",
       "      <th>13:40:00</th>\n",
       "      <th>13:45:00</th>\n",
       "      <th>13:50:00</th>\n",
       "      <th>13:55:00</th>\n",
       "    </tr>\n",
       "  </thead>\n",
       "  <tbody>\n",
       "    <tr>\n",
       "      <th>0</th>\n",
       "      <td>618557</td>\n",
       "      <td>1885</td>\n",
       "      <td>236</td>\n",
       "      <td>2302200.0360</td>\n",
       "      <td>988064.0616</td>\n",
       "      <td>543489.991500</td>\n",
       "      <td>505995.0237</td>\n",
       "      <td>741703.9884</td>\n",
       "      <td>447160.007000</td>\n",
       "      <td>711509.977800</td>\n",
       "      <td>...</td>\n",
       "      <td>147245.9931</td>\n",
       "      <td>243313.99620</td>\n",
       "      <td>179172.0056</td>\n",
       "      <td>268716.0000</td>\n",
       "      <td>192089.997000</td>\n",
       "      <td>108850.9983</td>\n",
       "      <td>294813.9816</td>\n",
       "      <td>243238.007600</td>\n",
       "      <td>159849.997500</td>\n",
       "      <td>242934.0000</td>\n",
       "    </tr>\n",
       "    <tr>\n",
       "      <th>1</th>\n",
       "      <td>618558</td>\n",
       "      <td>1885</td>\n",
       "      <td>238</td>\n",
       "      <td>87239.9964</td>\n",
       "      <td>50791.9986</td>\n",
       "      <td>116016.003200</td>\n",
       "      <td>57944.0000</td>\n",
       "      <td>94418.9961</td>\n",
       "      <td>247689.993200</td>\n",
       "      <td>174960.004800</td>\n",
       "      <td>...</td>\n",
       "      <td>58184.0024</td>\n",
       "      <td>21809.99910</td>\n",
       "      <td>29104.0008</td>\n",
       "      <td>72699.9970</td>\n",
       "      <td>14552.000400</td>\n",
       "      <td>72809.9980</td>\n",
       "      <td>94809.0000</td>\n",
       "      <td>21887.999700</td>\n",
       "      <td>168061.000000</td>\n",
       "      <td>43848.0012</td>\n",
       "    </tr>\n",
       "    <tr>\n",
       "      <th>2</th>\n",
       "      <td>618559</td>\n",
       "      <td>1885</td>\n",
       "      <td>242</td>\n",
       "      <td>558983.7500</td>\n",
       "      <td>268320.7600</td>\n",
       "      <td>359088.736475</td>\n",
       "      <td>397291.8800</td>\n",
       "      <td>377122.4800</td>\n",
       "      <td>433278.553887</td>\n",
       "      <td>786367.949364</td>\n",
       "      <td>...</td>\n",
       "      <td>133100.0050</td>\n",
       "      <td>374543.41407</td>\n",
       "      <td>228502.0000</td>\n",
       "      <td>114207.9957</td>\n",
       "      <td>189646.642857</td>\n",
       "      <td>117518.8000</td>\n",
       "      <td>105959.9100</td>\n",
       "      <td>154334.714224</td>\n",
       "      <td>38355.558564</td>\n",
       "      <td>56175.0000</td>\n",
       "    </tr>\n",
       "    <tr>\n",
       "      <th>3</th>\n",
       "      <td>618560</td>\n",
       "      <td>1885</td>\n",
       "      <td>243</td>\n",
       "      <td>343979.9790</td>\n",
       "      <td>65540.0000</td>\n",
       "      <td>199957.993900</td>\n",
       "      <td>81850.0050</td>\n",
       "      <td>68754.0042</td>\n",
       "      <td>101555.993800</td>\n",
       "      <td>222088.000000</td>\n",
       "      <td>...</td>\n",
       "      <td>162199.9950</td>\n",
       "      <td>104095.99680</td>\n",
       "      <td>191868.0000</td>\n",
       "      <td>3254.0001</td>\n",
       "      <td>100874.003100</td>\n",
       "      <td>26007.9984</td>\n",
       "      <td>328250.0000</td>\n",
       "      <td>58572.001800</td>\n",
       "      <td>52032.000000</td>\n",
       "      <td>35760.9978</td>\n",
       "    </tr>\n",
       "    <tr>\n",
       "      <th>4</th>\n",
       "      <td>618561</td>\n",
       "      <td>1885</td>\n",
       "      <td>261</td>\n",
       "      <td>982676.0000</td>\n",
       "      <td>901675.9827</td>\n",
       "      <td>526209.979800</td>\n",
       "      <td>875279.9664</td>\n",
       "      <td>1735031.9336</td>\n",
       "      <td>1285104.049200</td>\n",
       "      <td>481528.000000</td>\n",
       "      <td>...</td>\n",
       "      <td>176460.0068</td>\n",
       "      <td>140211.00000</td>\n",
       "      <td>212708.0041</td>\n",
       "      <td>119324.0023</td>\n",
       "      <td>129899.997500</td>\n",
       "      <td>312059.9880</td>\n",
       "      <td>416239.9920</td>\n",
       "      <td>416160.000000</td>\n",
       "      <td>296400.000000</td>\n",
       "      <td>202838.9922</td>\n",
       "    </tr>\n",
       "  </tbody>\n",
       "</table>\n",
       "<p>5 rows × 57 columns</p>\n",
       "</div>"
      ],
      "text/plain": [
       "       ID  date  product_id      09:30:00     09:35:00       09:40:00  \\\n",
       "0  618557  1885         236  2302200.0360  988064.0616  543489.991500   \n",
       "1  618558  1885         238    87239.9964   50791.9986  116016.003200   \n",
       "2  618559  1885         242   558983.7500  268320.7600  359088.736475   \n",
       "3  618560  1885         243   343979.9790   65540.0000  199957.993900   \n",
       "4  618561  1885         261   982676.0000  901675.9827  526209.979800   \n",
       "\n",
       "      09:45:00      09:50:00        09:55:00       10:00:00     ...       \\\n",
       "0  505995.0237   741703.9884   447160.007000  711509.977800     ...        \n",
       "1   57944.0000    94418.9961   247689.993200  174960.004800     ...        \n",
       "2  397291.8800   377122.4800   433278.553887  786367.949364     ...        \n",
       "3   81850.0050    68754.0042   101555.993800  222088.000000     ...        \n",
       "4  875279.9664  1735031.9336  1285104.049200  481528.000000     ...        \n",
       "\n",
       "      13:10:00      13:15:00     13:20:00     13:25:00       13:30:00  \\\n",
       "0  147245.9931  243313.99620  179172.0056  268716.0000  192089.997000   \n",
       "1   58184.0024   21809.99910   29104.0008   72699.9970   14552.000400   \n",
       "2  133100.0050  374543.41407  228502.0000  114207.9957  189646.642857   \n",
       "3  162199.9950  104095.99680  191868.0000    3254.0001  100874.003100   \n",
       "4  176460.0068  140211.00000  212708.0041  119324.0023  129899.997500   \n",
       "\n",
       "      13:35:00     13:40:00       13:45:00       13:50:00     13:55:00  \n",
       "0  108850.9983  294813.9816  243238.007600  159849.997500  242934.0000  \n",
       "1   72809.9980   94809.0000   21887.999700  168061.000000   43848.0012  \n",
       "2  117518.8000  105959.9100  154334.714224   38355.558564   56175.0000  \n",
       "3   26007.9984  328250.0000   58572.001800   52032.000000   35760.9978  \n",
       "4  312059.9880  416239.9920  416160.000000  296400.000000  202838.9922  \n",
       "\n",
       "[5 rows x 57 columns]"
      ]
     },
     "execution_count": 31,
     "metadata": {},
     "output_type": "execute_result"
    }
   ],
   "source": [
    "print Testing.shape\n",
    "Testing.head()"
   ]
  },
  {
   "cell_type": "code",
   "execution_count": 32,
   "metadata": {
    "collapsed": false
   },
   "outputs": [
    {
     "name": "stdout",
     "output_type": "stream",
     "text": [
      "Number of product_id : 352\n",
      "Number of date : 1882\n"
     ]
    }
   ],
   "source": [
    "print 'Number of product_id :', len(Training['product_id'].unique())\n",
    "print 'Number of date :', len(Training['date'].unique())"
   ]
  },
  {
   "cell_type": "markdown",
   "metadata": {},
   "source": [
    "The main difficulty arising with this data set is the large numbers of missing values — from one entry to the entire row — in both the training and testing sets. Hence there are two key issues : predict the target values, and deal with the missing values. "
   ]
  },
  {
   "cell_type": "code",
   "execution_count": 33,
   "metadata": {
    "collapsed": false
   },
   "outputs": [
    {
     "name": "stdout",
     "output_type": "stream",
     "text": [
      "Number of rows with missing values in the test set : 99273\n"
     ]
    }
   ],
   "source": [
    "print 'Number of rows with missing values in the test set :',Training.shape[0] - Training.dropna().shape[0]"
   ]
  },
  {
   "cell_type": "markdown",
   "metadata": {},
   "source": [
    "We study the number of missing values row by row (for the rows with missing entries) : we plot the histogram of missing values for a single row ; most of the examples in this dataset have only 1 or 2 missing values. 3 rows are without any entry in the testing set. Thus, an important topic will be controlling the error on these null test examples."
   ]
  },
  {
   "cell_type": "code",
   "execution_count": 43,
   "metadata": {
    "collapsed": false
   },
   "outputs": [
    {
     "name": "stdout",
     "output_type": "stream",
     "text": [
      "Distribution of the rows with missing values in the train set\n"
     ]
    },
    {
     "data": {
      "text/plain": [
       "<matplotlib.axes._subplots.AxesSubplot at 0x11b0d8b10>"
      ]
     },
     "execution_count": 43,
     "metadata": {},
     "output_type": "execute_result"
    },
    {
     "data": {
      "image/png": "[encoded data removed]",
      "text/plain": [
       "<matplotlib.figure.Figure at 0x11ac90a10>"
      ]
     },
     "metadata": {},
     "output_type": "display_data"
    }
   ],
   "source": [
    "print 'Distribution of the rows with missing values in the train set'\n",
    "(Training.shape[1] - Training.count(axis=1)).value_counts()[1:].plot(kind='bar',\n",
    "                                                                     figsize=(14, 6), \n",
    "                                                                     colormap=plt.get_cmap(\"plasma\"))"
   ]
  },
  {
   "cell_type": "code",
   "execution_count": 44,
   "metadata": {
    "collapsed": false
   },
   "outputs": [
    {
     "name": "stdout",
     "output_type": "stream",
     "text": [
      "Distribution of the rows with missing values in the test set\n"
     ]
    },
    {
     "data": {
      "text/plain": [
       "<matplotlib.axes._subplots.AxesSubplot at 0x11e192890>"
      ]
     },
     "execution_count": 44,
     "metadata": {},
     "output_type": "execute_result"
    },
    {
     "data": {
      "image/png": "[encoded data removed]",
      "text/plain": [
       "<matplotlib.figure.Figure at 0x11e107790>"
      ]
     },
     "metadata": {},
     "output_type": "display_data"
    }
   ],
   "source": [
    "print 'Distribution of the rows with missing values in the test set'\n",
    "(Testing.shape[1] - Testing.count(axis=1)).value_counts()[1:].plot(kind='bar',\n",
    "                                                                   figsize=(14, 6),\n",
    "                                                                   colormap=plt.get_cmap(\"plasma\"))"
   ]
  },
  {
   "cell_type": "markdown",
   "metadata": {},
   "source": [
    "The distribution are quite the same, between the train set and the test set.    \n",
    "We also looked for the features with the most missing values."
   ]
  },
  {
   "cell_type": "code",
   "execution_count": 45,
   "metadata": {
    "collapsed": false
   },
   "outputs": [
    {
     "name": "stdout",
     "output_type": "stream",
     "text": [
      "Distribution of the missing values in the train set by features\n"
     ]
    },
    {
     "data": {
      "text/plain": [
       "<matplotlib.axes._subplots.AxesSubplot at 0x111803a10>"
      ]
     },
     "execution_count": 45,
     "metadata": {},
     "output_type": "execute_result"
    },
    {
     "data": {
      "image/png": "[encoded data removed]",
      "text/plain": [
       "<matplotlib.figure.Figure at 0x111799d90>"
      ]
     },
     "metadata": {},
     "output_type": "display_data"
    }
   ],
   "source": [
    "print 'Distribution of the missing values in the train set by features'\n",
    "(Training.shape[0] - Training.count(axis=0)).sort_values(ascending=False)[:-3].plot(kind='bar',\n",
    "                                                                                    figsize=(14, 6),\n",
    "                                                                                    colormap=plt.get_cmap(\"plasma\"))"
   ]
  },
  {
   "cell_type": "code",
   "execution_count": 46,
   "metadata": {
    "collapsed": false
   },
   "outputs": [
    {
     "name": "stdout",
     "output_type": "stream",
     "text": [
      "Distribution of the missing values in the test set by features\n"
     ]
    },
    {
     "data": {
      "text/plain": [
       "<matplotlib.axes._subplots.AxesSubplot at 0x121ffeb10>"
      ]
     },
     "execution_count": 46,
     "metadata": {},
     "output_type": "execute_result"
    },
    {
     "data": {
      "image/png": "[encoded data removed]",
      "text/plain": [
       "<matplotlib.figure.Figure at 0x1220e3090>"
      ]
     },
     "metadata": {},
     "output_type": "display_data"
    }
   ],
   "source": [
    "print 'Distribution of the missing values in the test set by features'\n",
    "(Testing.shape[0] - Testing.count(axis=0)).sort_values(ascending=False)[:-3].plot(kind='bar',\n",
    "                                                                                  figsize=(14, 6),\n",
    "                                                                                  colormap=plt.get_cmap(\"plasma\"))"
   ]
  },
  {
   "cell_type": "markdown",
   "metadata": {},
   "source": [
    "We clearly see that the two graphs are very similar, with a sur-representation of the missing values for the first temporal variable '09:30:00'."
   ]
  },
  {
   "cell_type": "markdown",
   "metadata": {},
   "source": [
    "## II. Our supervised model, without the missing values"
   ]
  },
  {
   "cell_type": "markdown",
   "metadata": {},
   "source": [
    "To have a good initial understanding of the quality of our predictor, we remove here all the examples with missing entries, and build our prediction model on the fully-filled data."
   ]
  },
  {
   "cell_type": "code",
   "execution_count": 38,
   "metadata": {
    "collapsed": true
   },
   "outputs": [],
   "source": [
    "train = pd.merge(Training, Output, on='ID', how='inner')\n",
    "train_full = train.drop(pd.isnull(train).any(1).nonzero()[0]).reset_index(drop=True)"
   ]
  },
  {
   "cell_type": "markdown",
   "metadata": {},
   "source": [
    "### II. A. Unfruitul attempts\n",
    "Many predictors were tested during this phase, a large part of it coming from the sklearn library.    \n",
    "One great issue for us was the format of the data : having a time-series dataset in place of a classical feature matrix led us to search for a convenient frequential or time-frequential decomposition, e.g. a representation in a Discrete Fourier Transform/Discrete Wavelet Transform basis.\n",
    "\n",
    "We used a Daubechies wavelet dictionary, with different numbers of vanishing moments. As we recall, the Daubechies wavelets with only one vanishing moment is the Discrete Fourier transform."
   ]
  },
  {
   "cell_type": "markdown",
   "metadata": {},
   "source": [
    "#### II. A. I. Discrete Wavelet Transform.\n",
    "\n",
    "Wavelelets $\\phi_{Q}$ are translations and dilatations of an initial function $\\phi$. "
   ]
  },
  {
   "cell_type": "markdown",
   "metadata": {},
   "source": [
    "In the following we will thus consider a family of $\\mathbb{L}^{2}(\\mathbb{R})$, $(\\phi_{jk})_{j,k \\in \\mathbb{Z}}$ such that : \n",
    "$$\\phi_{jk}(t) = 2^{\\frac{j}{2}}\\phi(2^{j}t-k)  \\phi \\in \\mathbb{L}^{2}(\\mathbb{R}).$$\n",
    "$\\phi$ is called the scaling function.\n",
    " \n",
    "Mallat suggested an algorithm allowing a very fast wavelet decomposition computation.\n",
    "The theoretical framework is based on _Multiresolution Analysis_ ; we call Multiresolution Analysis a family $(V_{j})_{j \\in \\mathbb{Z}}$ of $\\mathbb{L}^{2}(\\mathbb{R})$ subsets with the following properties : \n",
    "\n",
    "$$V_{j} = \\{ \\sum_{k \\in \\mathbb{Z}} a_{k}\\phi_{jk} : a_{k} \\in \\mathbb{R} \\}$$\n",
    "$$V_{j} \\subset V_{j+1}$$\n",
    "$$\\bigcap_{j \\in \\mathbb{Z}} V_{j} = \\{0\\} $$\n",
    "$$\\overline{\\bigcup_{j \\in \\mathbb{Z}} V_{j}} = \\mathbb{L}^{2}(\\mathbb{R}).$$\n",
    "\n",
    "Here $\\phi \\in V_{0} \\subset V_{1}$, $\\exists$ $(m_{0}[k])_{k \\in \\mathbb{Z}}$ such that :\n",
    "$$\n",
    " \\phi(t) = 2\\sum_{k \\in \\mathbb{Z}} m_{0}[k]\\phi(2t-k).\n",
    "$$"
   ]
  },
  {
   "cell_type": "markdown",
   "metadata": {},
   "source": [
    "We call the sequence $(m_{0})$ the first filter. Wavelets are seen as a way to describe _at level j_ the difference between the two subsets $V_{j}$ and $V_{j+1}$. \n",
    "\n",
    "A particularly interesting level is the level $0$ :\n",
    "$ \\exists W_{0} |\n",
    "V_{0}\\oplus W_{0} = V_{1}.$\n",
    "\n",
    "And there exists a function $\\psi$, called _mother wavelet_, that generates $W_0$ : \n",
    "$$\n",
    "W_{0} = \\{ t \\mapsto \\sum_{k \\in \\mathbb{Z}} d_{k} \\psi(t-k) : d_{k} \\in \\mathbb{R} \\}\n",
    "$$\n",
    "\n",
    "Since $\\psi \\in V_{1}$, there is a sequence $(m_{1})$ such that :\n",
    "$$\n",
    "\\psi(t) = \\sum_{k \\in \\mathbb{Z}} m_{1}[k]\\phi(2t-k)\n",
    "$$\n",
    "$(m_{1})$ is the second filter. \n",
    "\n",
    "The interesting thing about these filters is that their specification provides the whole information about the wavelet decomposition, through the following formulas :\n",
    "$$\n",
    "\\hat{\\phi}(w) = \\prod_{k = 1}^{+ \\infty} m_{0}(\\frac{w}{2^{k}})\n",
    "\\hat{\\psi}(w) = m_{1}(\\frac{w}{2})\\hat{\\phi}(\\frac{w}{2})\n",
    "$$\n",
    "\n",
    "Let us note $W_{j}$ such that $\\forall j \\in \\mathbb{Z}, V_{j+1} = V_{j} \\oplus W_{j}$. Then :\n",
    "$$\n",
    "\\mathbb{L}^{2}(\\mathbb{R}) = \\bigoplus_{j=-\\infty}^{+\\infty} W_{j} = V_{j} \\oplus \\bigoplus_{k=j}^{+\\infty} W_{k}.\n",
    "$$"
   ]
  },
  {
   "cell_type": "markdown",
   "metadata": {},
   "source": [
    "**Computing the decomposition**\n",
    "\n",
    "Due to the intricate connection between the subsets, we reason iteratively and compute at each step the following basis shift :\n",
    "$$\n",
    "V_{j+1} \\leftrightarrow V_{j} \\oplus W_{j}\n",
    "$$\n",
    "\n",
    "Since $(\\phi_{j,k})_{k \\in \\mathbb{Z}}$ is a basis of $V_{j}$\n",
    "and $(\\psi_{j,k})_{k \\in \\mathbb{Z}}$ a basis of $W_{j}$, the problem consists in finding the following transformation :\n",
    "\n",
    "$$\n",
    "\\{ \\phi_{j+1,k} : k \\in \\mathbb{Z}\\} \\leftrightarrow \\{\\phi_{j,k} : k \\in \\mathbb{Z}\\} \\cup \\{ \\psi_{j,k} : k \\in \\mathbb{Z}\\}\n",
    "$$\n",
    "\n",
    "With $(a_{j+1,k})_{k \\in \\mathbb{Z}}$, (respectively $(a_{j,k})_{k \\in \\mathbb{Z}}$ and $(d_{j,k})_{k \\in \\mathbb{Z}}$), the coordinates of a signal in $V_{j+1}$ (resp. $V_{j}$ and $W_{j}$), the problem is equivalent to :\n",
    "$$\n",
    "l_{2}(\\mathbb{Z}) \\rightarrow l_{2}(\\mathbb{Z}) \\times l_{2}(\\mathbb{Z})$$\n",
    "$$\n",
    "(a_{j+1,k})_{k \\in \\mathbb{Z}} \\rightarrow [(a_{j,k})_{k \\in \\mathbb{Z}} ; (d_{j,k})_{k \\in \\mathbb{Z}}]\n",
    "$$\n",
    "\n",
    "The filters $(m_{0})$ and $(m_{1})$ will play a key role in the computation of the discrete wavelet transform and its inverse.\n",
    "Indeed, for any $j \\in \\mathbb{Z}$, we have the following transform formulas  : "
   ]
  },
  {
   "cell_type": "markdown",
   "metadata": {},
   "source": [
    "**Inverse wavelet transform**: \n",
    "$$\n",
    "a_{j+1,k} = \\frac{1}{2} \\sum_{l \\in \\mathbb{Z}} m_{0}[2l-k]a_{j,l}+m_{1}[2l-k] d_{j,l}.\n",
    "$$\n",
    "**Forward wavelet transform**:\n",
    "$$\n",
    "a_{j,k} = 2 \\sum_{l \\in \\mathbb{Z}} \\tilde{m}_{0}[l] a_{j+1,2l-k}\n",
    "$$\n",
    "$$\n",
    "d_{j,k} = 2 \\sum_{l \\in \\mathbb{Z}} \\tilde{m}_{1}[l] d_{j+1,2l-k}.\n",
    "$$\n",
    "\n",
    "In practice, when processing signals, we only have sampled values at times [$t_{1}$,...,$t_{n}$] - so that we deal with elements of $\\mathbb{R}^{n}$ instead of $\\mathbb{L}^{2}(\\mathbb{R})$. In this case, there is a level of resolution $j$ such that the observed signal $y \\in V_{j}$. In other words, there is a level of resolution which contains the whole information. \n",
    "\n",
    "Suppose that we want to represent the vector $y$ on level $j-2$.\n",
    "\n",
    "$\\bullet$ **First Step :** we project the signal on\n",
    "$\n",
    "V_{j-1} \\oplus W_{j-1}.\n",
    "$\n",
    "\n",
    "$\\bullet$ **Second Step :** we project the signal on\n",
    "$\n",
    "V_{j-2} \\oplus W_{j-2} \\oplus W_{j-1}.\n",
    "$\n",
    "\n",
    "We obtain $3$ vectors $cA$ (the signal projected on $V_{j-2}$), $cD_{j-2}$ and $cD_{j-1}$ (the signal projected respectively on $W_{j-2}$ and $W_{j-1}$) ; we proceed iteratively to finally obtain vectors $cA,cD_{1},...,cD_{j-1}$.\n",
    "\n",
    "Concatenated vector $\\lambda = [cA,cD_{1},...,cD_{j-1}]^T$ represents the wavelet decomposition of an example y, in our model.\n",
    "This decomposition allows us to handily create the transposed wavelet dictionary, by implementing it on the canonical basis of $\\mathbb{R}^n$ : we obtain a matrix $G$, such that every decomposition $\\lambda$ of a time series $y$ can be written $\\lambda=Gy$.\n",
    "$G^T$ becomes our explanatory dictionary."
   ]
  },
  {
   "cell_type": "code",
   "execution_count": 98,
   "metadata": {
    "collapsed": true
   },
   "outputs": [],
   "source": [
    "import pywt\n",
    "\n",
    "class DictT(object):\n",
    "\n",
    "    def __init__(self, name, level):\n",
    "            self.name = name\n",
    "            self.level = level\n",
    "            self.sizes = []\n",
    "\n",
    "    def dot(self, mat):\n",
    "\n",
    "        m = []\n",
    "\n",
    "        if mat.shape[0] != mat.size:\n",
    "            for i in xrange(mat.shape[1]):\n",
    "                c = pywt.wavedec(mat[:, i], self.name, level=self.level)\n",
    "                self.sizes.append(map(len, c))\n",
    "                c = np.concatenate(c)\n",
    "                m.append(c)\n",
    "            return np.asarray(m).T\n",
    "        else:\n",
    "            c = pywt.wavedec(mat, self.name, level=self.level)\n",
    "            self.sizes.append(map(len, c))\n",
    "            return np.concatenate(c)"
   ]
  },
  {
   "cell_type": "markdown",
   "metadata": {},
   "source": [
    "Now, to compute the transformation for the matrix X, we simply replace it by the following ('db20' are Daubechies wavelets with 20 vanishing moments) : "
   ]
  },
  {
   "cell_type": "code",
   "execution_count": 99,
   "metadata": {
    "collapsed": false
   },
   "outputs": [],
   "source": [
    "wave_name = 'db20'\n",
    "wave_level = None\n",
    "wavelet_operator_t = DictT(level=wave_level, name=wave_name)\n",
    "\n",
    "basis_t = wavelet_operator_t.dot(np.identity(X.shape[1]))\n",
    "basis_t /= np.sqrt(np.sum(basis_t ** 2, axis=0))\n",
    "basis = basis_t.T"
   ]
  },
  {
   "cell_type": "markdown",
   "metadata": {},
   "source": [
    "Now X becomes X.dot(basis) as an input for the regression model. Unfortunately, the Discrete Wavelet Transform (or Fourier Transform) gives us poorer results than simplest methods as the final one, described below. Furthermore, when dealing with missing values, the DWT/DFT of interpolated data (see section below) introduces the interpolation noise at all levels, and makes this representation an unconvenient choice in this challenge."
   ]
  },
  {
   "cell_type": "markdown",
   "metadata": {},
   "source": [
    "#### II. A. II. Convolutional Neural Networks.\n",
    "\n",
    "We also looked at Deep Learning models for our regression phase. Amongst others, we tried LSTM and Convolutional Neural Networks on the dataset. As one of the participants within the team had a laptop with Nvidia GPU for faster calculation, we rented an Amazon Web Services EC2-G2 Cluster, with 1 GPU and 8 CPU, to train our Deep Learning models.\n",
    "\n",
    "We used the library Keras to easily form the Networks, and played vastly with parameters, including the learning step for the Adam optimizer, the number of filters or the filter length for each Convolutional Layer.\n",
    "\n",
    "Unfortunately, no parameter configuration gave us a training score lower than 32%. We remain confident that this approach still holds a lot of potential, and that we could obtain greater results with more experiments."
   ]
  },
  {
   "cell_type": "code",
   "execution_count": null,
   "metadata": {
    "collapsed": true
   },
   "outputs": [],
   "source": [
    "from keras.models import Sequential\n",
    "from keras.layers.core import Dense, Dropout, Activation\n",
    "from keras.layers.convolutional import Convolution1D, MaxPooling1D\n",
    "from keras.layers.core import Flatten\n",
    "from keras.optimizers import Adam\n",
    "\n",
    "# Reshape data.\n",
    "\n",
    "train_shape = (x_train.shape[0], x_train.shape[1], 1)\n",
    "val_shape = (x_val.shape[0], x_val.shape[1], 1)\n",
    "\n",
    "x_train_2 = np.reshape(x_train, train_shape).astype(theano.config.floatX)\n",
    "x_val_2 = np.reshape(x_val, val_shape).astype(theano.config.floatX)\n",
    "\n",
    "# CNN Model.\n",
    "\n",
    "model = Sequential()\n",
    "model.add(Convolution1D(nb_filter=16,\n",
    "                        filter_length=2,\n",
    "                        init='glorot_uniform',\n",
    "                        input_shape=(x_train.shape[1], 1)))\n",
    "model.add(Activation('relu'))\n",
    "model.add(MaxPooling1D(3))\n",
    "model.add(Dropout(0.5))\n",
    "model.add(Convolution1D(nb_filter=32,\n",
    "                        filter_length=4,\n",
    "                        init='glorot_uniform'))\n",
    "model.add(Activation('relu'))\n",
    "model.add(MaxPooling1D(2))\n",
    "model.add(Dropout(0.5))\n",
    "model.add(Flatten())\n",
    "model.add(Dense(128, init='glorot_uniform'))\n",
    "model.add(Activation('relu'))\n",
    "model.add(Dropout(0.5))\n",
    "model.add(Dense(1))\n",
    "\n",
    "learning_rate = 10\n",
    "batch_size = 100\n",
    "nb_epoch = 10\n",
    "\n",
    "adam = Adam(lr=learning_rate)\n",
    "model.compile(loss='mean_absolute_percentage_error', optimizer=adam)\n",
    "\n",
    "print 'Training | Batch size :', batch_size, \", Number of epochs :\", nb_epoch\n",
    "model.fit(x_train_2, y_train, batch_size=batch_size, nb_epoch=nb_epoch,\n",
    "          validation_data=(x_val_2, y_val), show_accuracy=True)\n",
    "score, acc = model.evaluate(x_val_2, y_val, batch_size=batch_size,\n",
    "                            show_accuracy=True)\n",
    "\n",
    "print 'Test score :', score\n",
    "print 'Test accuracy:', acc"
   ]
  },
  {
   "cell_type": "markdown",
   "metadata": {},
   "source": [
    "### II. B. Final Regressor"
   ]
  },
  {
   "cell_type": "markdown",
   "metadata": {},
   "source": [
    "After testing various predictors, our main choice was the $\\textsf{RandomForestRegressor}$, with a parameter selection using $\\textsf{GridSearchCV}$ on a shortened dataset. This was the only reasonable method to perform a grid search, considering the large training times occuring on such large data."
   ]
  },
  {
   "cell_type": "code",
   "execution_count": 39,
   "metadata": {
    "collapsed": false
   },
   "outputs": [],
   "source": [
    "features = train_full.drop(['ID','product_id','TARGET'], axis=1)\n",
    "X_columns = train_full.columns.drop(['ID','product_id','TARGET'])\n",
    "X = features.values\n",
    "y = train_full['TARGET'].values"
   ]
  },
  {
   "cell_type": "code",
   "execution_count": 40,
   "metadata": {
    "collapsed": true
   },
   "outputs": [],
   "source": [
    "from sklearn.cross_validation import train_test_split\n",
    "\n",
    "X_train, X_test, y_train, y_test = train_test_split(\n",
    "    X, y, test_size=0.2, random_state=0)"
   ]
  },
  {
   "cell_type": "code",
   "execution_count": 67,
   "metadata": {
    "collapsed": false
   },
   "outputs": [
    {
     "name": "stdout",
     "output_type": "stream",
     "text": [
      "CPU times: user 13 µs, sys: 0 ns, total: 13 µs\n",
      "Wall time: 16 µs\n"
     ]
    }
   ],
   "source": [
    "%%time\n",
    "from sklearn.ensemble import RandomForestRegressor\n",
    "from sklearn.cross_validation import cross_val_score\n",
    "\n",
    "n_estimators = 50\n",
    "max_depth = 15\n",
    "max_features = 40\n",
    "reg = RandomForestRegressor(n_estimators=n_estimators, max_depth=max_depth, max_features=max_features)\n",
    "\n",
    "reg.fit(X_train, y_train)\n",
    "\n",
    "y_pred = reg.predict(X_test)\n",
    "\n",
    "print \"MAPE :\", mean_absolute_percentage_error(y_test, y_pred)"
   ]
  },
  {
   "cell_type": "markdown",
   "metadata": {},
   "source": [
    "Using our trained predictor, we can now focus on the importance of each variable."
   ]
  },
  {
   "cell_type": "code",
   "execution_count": null,
   "metadata": {
    "collapsed": false,
    "scrolled": true
   },
   "outputs": [],
   "source": [
    "ordering = np.argsort(reg.feature_importances_)[::-1]\n",
    "importances = reg.feature_importances_[ordering]\n",
    "feature_names = X_columns[ordering]\n",
    "\n",
    "pd.DataFrame(importances, index=feature_names).plot(kind='bar', figsize=(14, 6), colormap=plt.get_cmap(\"plasma\"))"
   ]
  },
  {
   "cell_type": "markdown",
   "metadata": {},
   "source": [
    "We tried to relaunch the model without the features of lowest importance, which can bring noise in our regression. We try several possibilities, but the results weren't very convincing to fully remove them.     \n",
    "However, we dropped the 'date' from further models, considering it had the least importance within the entire pool of variables."
   ]
  },
  {
   "cell_type": "markdown",
   "metadata": {},
   "source": [
    "As mentioned earlier, we tried several other models without great success. Here is an example of an $\\textsf{AdaBoostRegressor}$ evaluated on the same data :"
   ]
  },
  {
   "cell_type": "code",
   "execution_count": 39,
   "metadata": {
    "collapsed": false
   },
   "outputs": [
    {
     "name": "stdout",
     "output_type": "stream",
     "text": [
      "MAPE : 36.379279734\n",
      "CPU times: user 6min 59s, sys: 2.79 s, total: 7min 2s\n",
      "Wall time: 7min 7s\n"
     ]
    }
   ],
   "source": [
    "%%time\n",
    "from sklearn.ensemble import ExtraTreesRegressor\n",
    "from sklearn.cross_validation import cross_val_score\n",
    "from sklearn.ensemble import AdaBoostRegressor\n",
    "\n",
    "regto = AdaBoostRegressor(base_estimator=reg, n_estimators=20, learning_rate=0.8)\n",
    "\n",
    "regto.fit(X_train, y_train)\n",
    "\n",
    "y_pred = regto.predict(X_test)\n",
    "\n",
    "print \"MAPE :\", mean_absolute_percentage_error(y_test, y_pred)"
   ]
  },
  {
   "cell_type": "markdown",
   "metadata": {},
   "source": [
    "## III. Dealing with missing values\n",
    "### III. A. Removing the first temporal variable"
   ]
  },
  {
   "cell_type": "markdown",
   "metadata": {},
   "source": [
    "As we saw earlier, the first temporal variable '09:30:00' accounts for a large amount of the missing data.    \n",
    "Moreover, we see that this variable has one of the least importance in our model ; hence, we decided to remove it from future predictions.    \n",
    "The effect of this removal was the augmentation the train set size, as we only took observations without missing values — without changing the performance of our model."
   ]
  },
  {
   "cell_type": "code",
   "execution_count": 57,
   "metadata": {
    "collapsed": false
   },
   "outputs": [
    {
     "name": "stdout",
     "output_type": "stream",
     "text": [
      " (613220, 58)\n",
      "(613220, 57)\n"
     ]
    }
   ],
   "source": [
    "Training_new = train.copy()\n",
    "Training_new.drop([\"09:30:00\"], axis=1, inplace=True)\n",
    "print train.shape\n",
    "print Training_new.shape"
   ]
  },
  {
   "cell_type": "code",
   "execution_count": 58,
   "metadata": {
    "collapsed": false
   },
   "outputs": [
    {
     "name": "stdout",
     "output_type": "stream",
     "text": [
      "Number of rows without missing values with the feature 09:30:00 in train set : 513947\n",
      "Number of rows without missing values without the feature 09:30:00 in train set : 534215\n"
     ]
    }
   ],
   "source": [
    "print 'Number of rows without missing values with the feature 09:30:00 in train set :', train.\\\n",
    "    drop(pd.isnull(train).any(1).nonzero()[0]).shape[0]\n",
    "print 'Number of rows without missing values without the feature 09:30:00 in train set :', Training_new.\\\n",
    "    drop(pd.isnull(Training_new).any(1).nonzero()[0]).shape[0]"
   ]
  },
  {
   "cell_type": "code",
   "execution_count": 59,
   "metadata": {
    "collapsed": false
   },
   "outputs": [
    {
     "name": "stdout",
     "output_type": "stream",
     "text": [
      "(614098, 57)\n",
      "(614098, 56)\n"
     ]
    }
   ],
   "source": [
    "Testing_new = Testing.copy()\n",
    "Testing_new.drop([\"09:30:00\"], axis=1, inplace=True)\n",
    "print Testing.shape\n",
    "print Testing_new.shape"
   ]
  },
  {
   "cell_type": "code",
   "execution_count": 60,
   "metadata": {
    "collapsed": false
   },
   "outputs": [
    {
     "name": "stdout",
     "output_type": "stream",
     "text": [
      "Number of rows without missing values with the feature 09:30:00 in train set : 514539\n",
      "Number of rows without missing values without the feature 09:30:00 in train set: 535162\n"
     ]
    }
   ],
   "source": [
    "print 'Number of rows without missing values with the feature 09:30:00 in train set :', Testing.drop(pd.isnull\n",
    "                                                                        (Testing).any(1).nonzero()[0]).shape[0]\n",
    "print 'Number of rows without missing values without the feature 09:30:00 in train set:', Testing_new.drop(pd.isnull\n",
    "                                                                        (Testing_new).any(1).nonzero()[0]).shape[0]"
   ]
  },
  {
   "cell_type": "markdown",
   "metadata": {},
   "source": [
    "In the test set and the train set, this method allows us to gain around 20000 observations without missing values.     \n",
    "We thus gain in size for the train set and the observations of the test set that we can predict with our model."
   ]
  },
  {
   "cell_type": "code",
   "execution_count": 61,
   "metadata": {
    "collapsed": true
   },
   "outputs": [],
   "source": [
    "train_full = Training_new.drop(pd.isnull(Training_new).any(1).nonzero()[0])"
   ]
  },
  {
   "cell_type": "code",
   "execution_count": 62,
   "metadata": {
    "collapsed": false
   },
   "outputs": [],
   "source": [
    "features = train_full.drop(['ID','product_id','date','TARGET'], axis=1)\n",
    "X_columns = train_full.columns.drop(['ID','product_id','date','TARGET'])\n",
    "X = features.values\n",
    "y = train_full['TARGET'].values"
   ]
  },
  {
   "cell_type": "code",
   "execution_count": 63,
   "metadata": {
    "collapsed": false
   },
   "outputs": [],
   "source": [
    "from sklearn.cross_validation import train_test_split\n",
    "\n",
    "X_train, X_test, y_train, y_test = train_test_split(\n",
    "    X, y, test_size=0.2, random_state=0)"
   ]
  },
  {
   "cell_type": "code",
   "execution_count": 64,
   "metadata": {
    "collapsed": false
   },
   "outputs": [
    {
     "name": "stdout",
     "output_type": "stream",
     "text": [
      "MAPE : 29.6441237583\n",
      "CPU times: user 17min 55s, sys: 12.1 s, total: 18min 7s\n",
      "Wall time: 19min 7s\n"
     ]
    }
   ],
   "source": [
    "%%time\n",
    "from sklearn.ensemble import RandomForestRegressor\n",
    "from sklearn.cross_validation import cross_val_score\n",
    "\n",
    "n_estimators = 50\n",
    "max_depth = 15\n",
    "max_features = 40\n",
    "reg = RandomForestRegressor(n_estimators=n_estimators, max_depth=max_depth, max_features=max_features)\n",
    "\n",
    "reg.fit(X_train, y_train)\n",
    "\n",
    "y_pred = reg.predict(X_test)\n",
    "\n",
    "print \"MAPE :\", mean_absolute_percentage_error(y_test, y_pred)"
   ]
  },
  {
   "cell_type": "markdown",
   "metadata": {},
   "source": [
    "### III. B. Filling missing values"
   ]
  },
  {
   "cell_type": "markdown",
   "metadata": {},
   "source": [
    "We tried several techniques to interpolate the missing values : sklearn's $\\textsf{Imputer}$ (the worst we tried), as well as the entire range of pandas' interpolation techniques inherited from scipy.     \n",
    "We will onyl present here only our best result : the time interpolation method from scipy."
   ]
  },
  {
   "cell_type": "markdown",
   "metadata": {},
   "source": [
    "We separate the train set into two subsets : the observations without missing values (train_filled) and the observations with missing values (train_missing)."
   ]
  },
  {
   "cell_type": "code",
   "execution_count": 68,
   "metadata": {
    "collapsed": false
   },
   "outputs": [
    {
     "name": "stdout",
     "output_type": "stream",
     "text": [
      "(534215, 57)\n"
     ]
    }
   ],
   "source": [
    "train_filled = Training_new.drop(pd.isnull(Training_new).any(1).nonzero()[0]).reset_index(drop=True)\n",
    "train_missing = Training_new[~Training_new[\"ID\"].isin(train_filled[\"ID\"].tolist())]\n",
    "print train_filled.shape"
   ]
  },
  {
   "cell_type": "markdown",
   "metadata": {},
   "source": [
    "We present time-wise interpolation for one single row, with missing values."
   ]
  },
  {
   "cell_type": "code",
   "execution_count": 77,
   "metadata": {
    "collapsed": false
   },
   "outputs": [
    {
     "name": "stdout",
     "output_type": "stream",
     "text": [
      "Missing values : 28\n"
     ]
    },
    {
     "data": {
      "text/plain": [
       "<matplotlib.axes._subplots.AxesSubplot at 0x11c984c10>"
      ]
     },
     "execution_count": 77,
     "metadata": {},
     "output_type": "execute_result"
    },
    {
     "data": {
      "image/png": "[encoded data removed]",
      "text/plain": [
       "<matplotlib.figure.Figure at 0x1091a1410>"
      ]
     },
     "metadata": {},
     "output_type": "display_data"
    }
   ],
   "source": [
    "row = train_missing.drop([\"ID\", \"date\", \"product_id\", \"TARGET\"], axis=1).ix[613193] # [62691]\n",
    "row.index = pd.to_datetime(row.index)\n",
    "print \"Missing values :\", np.isnan(row).sum()\n",
    "\n",
    "d = {\"time\": row.interpolate(method=\"time\"),\"none\": row}\n",
    "pd.DataFrame(d).plot(colormap=plt.get_cmap(\"bwr\"), figsize=(14, 6))"
   ]
  },
  {
   "cell_type": "markdown",
   "metadata": {},
   "source": [
    "We then filled all the observations."
   ]
  },
  {
   "cell_type": "code",
   "execution_count": 100,
   "metadata": {
    "collapsed": false
   },
   "outputs": [],
   "source": [
    "def fill_missing_time(row):\n",
    "    \n",
    "    row.index = pd.to_datetime(row.index)\n",
    "    return row.interpolate(method=\"time\").fillna(method=\"backfill\")\n",
    "\n",
    "numeric_cols = train_missing.columns.drop([\"ID\", \"date\", \"product_id\", \"TARGET\"])\n",
    "train_missing[numeric_cols] = train_missing[numeric_cols].apply(fill_missing_time, axis=1)"
   ]
  },
  {
   "cell_type": "code",
   "execution_count": 153,
   "metadata": {
    "collapsed": false
   },
   "outputs": [
    {
     "name": "stdout",
     "output_type": "stream",
     "text": [
      "Dataset shape after filling :\n",
      "(613199, 57)\n"
     ]
    }
   ],
   "source": [
    "train_full = pd.concat([train_filled, train_missing], axis=0)\n",
    "print \"Dataset shape after filling :\\n\", train_full.shape"
   ]
  },
  {
   "cell_type": "code",
   "execution_count": 154,
   "metadata": {
    "collapsed": true
   },
   "outputs": [],
   "source": [
    "features = train_full.drop([\"ID\", \"date\", \"product_id\", \"TARGET\"], axis=1)\n",
    "X_columns = train_full.columns.drop([\"ID\", \"date\", \"product_id\", \"TARGET\"])\n",
    "X, y = features.values, train_full['TARGET'].values"
   ]
  },
  {
   "cell_type": "code",
   "execution_count": 155,
   "metadata": {
    "collapsed": true
   },
   "outputs": [],
   "source": [
    "X_train, X_test, y_train, y_test = train_test_split(\n",
    "    X, y, test_size=0.2, random_state=42)"
   ]
  },
  {
   "cell_type": "code",
   "execution_count": 91,
   "metadata": {
    "collapsed": false
   },
   "outputs": [
    {
     "name": "stdout",
     "output_type": "stream",
     "text": [
      "MAPE : 29.6429418639\n",
      "CPU times: user 18min 14s, sys: 13.5 s, total: 18min 28s\n",
      "Wall time: 19min 53s\n"
     ]
    }
   ],
   "source": [
    "%%time\n",
    "from sklearn.ensemble import RandomForestRegressor\n",
    "from sklearn.cross_validation import cross_val_score\n",
    "\n",
    "n_estimators = 50\n",
    "max_depth = 15\n",
    "max_features = 40\n",
    "reg = RandomForestRegressor(n_estimators=n_estimators, max_depth=max_depth, max_features=max_features)\n",
    "\n",
    "reg.fit(X_train, y_train)\n",
    "\n",
    "y_pred = reg.predict(X_test)\n",
    "\n",
    "print \"MAPE :\", mean_absolute_percentage_error(y_test, y_pred)"
   ]
  },
  {
   "cell_type": "markdown",
   "metadata": {},
   "source": [
    "We tested here only on the observations with missing values, the result is pretty bad."
   ]
  },
  {
   "cell_type": "markdown",
   "metadata": {},
   "source": [
    "## IV. Workaround without interpolation"
   ]
  },
  {
   "cell_type": "markdown",
   "metadata": {
    "collapsed": true
   },
   "source": [
    "One important remark : the metric we use penalizes not only the distance between the true value and the value predicted, but also the relative position of these two.     \n",
    "\n",
    "For example let us denote $y_{pred}$ our prediction and $y_{true}$ the true value: if $y_{pred} = 10$ and $y_{true} = 100$, the distance between the two is 90 and the MAPE is 90%; but if $y_{pred} = 100$ and $y_{true} = 10$, the distance is still 90 but the MAPE is now 900%. That is why we decided, for the examples with too many missing values, to assign the minimum if the TARGET in the train set for this product. This way, we have a maximum of 100% error for these observations. That's a way to limit the error for the observations with missing values. \n",
    "\n",
    "So we test this on the observations of the train set with missing values."
   ]
  },
  {
   "cell_type": "code",
   "execution_count": 92,
   "metadata": {
    "collapsed": false
   },
   "outputs": [
    {
     "name": "stdout",
     "output_type": "stream",
     "text": [
      "train_filled (534215, 57)\n",
      "train_missing (79005, 57)\n"
     ]
    }
   ],
   "source": [
    "train_filled = Training_new.drop(pd.isnull(Training_new).any(1).nonzero()[0]).reset_index(drop=True)\n",
    "train_missing = Training_new[~Training_new[\"ID\"].isin(train_filled[\"ID\"].tolist())]\n",
    "\n",
    "print 'train_filled',train_filled.shape\n",
    "print 'train_missing',train_missing.shape"
   ]
  },
  {
   "cell_type": "code",
   "execution_count": 93,
   "metadata": {
    "collapsed": false
   },
   "outputs": [
    {
     "name": "stdout",
     "output_type": "stream",
     "text": [
      "MAPE : 83.5862773074\n"
     ]
    }
   ],
   "source": [
    "min_per_product_id = train.groupby(\"product_id\").agg({\"TARGET\": np.min})\n",
    "\n",
    "validation_under = train_missing[[\"ID\", \"product_id\"]].copy().join(min_per_product_id, on=\"product_id\")\n",
    "validation = validation_under.sort_values(by=\"ID\")\n",
    "\n",
    "print \"MAPE :\", mean_absolute_percentage_error(train_missing[\"TARGET\"].values, validation[\"TARGET\"].values)"
   ]
  },
  {
   "cell_type": "markdown",
   "metadata": {},
   "source": [
    "So for these observations we have a MAPE of 84%. But we observed also that by product, the feature 'TARGET' has a large standard deviation (almost equal to the mean)."
   ]
  },
  {
   "cell_type": "code",
   "execution_count": 80,
   "metadata": {
    "collapsed": false
   },
   "outputs": [
    {
     "data": {
      "text/html": [
       "<div>\n",
       "<table border=\"1\" class=\"dataframe\">\n",
       "  <thead>\n",
       "    <tr style=\"text-align: right;\">\n",
       "      <th></th>\n",
       "      <th>TARGET_mean</th>\n",
       "      <th>TARGET_std</th>\n",
       "    </tr>\n",
       "    <tr>\n",
       "      <th>product_id</th>\n",
       "      <th></th>\n",
       "      <th></th>\n",
       "    </tr>\n",
       "  </thead>\n",
       "  <tbody>\n",
       "    <tr>\n",
       "      <th>236</th>\n",
       "      <td>24157732.043920</td>\n",
       "      <td>17776699.155772</td>\n",
       "    </tr>\n",
       "    <tr>\n",
       "      <th>238</th>\n",
       "      <td>5825229.925770</td>\n",
       "      <td>4655058.589438</td>\n",
       "    </tr>\n",
       "    <tr>\n",
       "      <th>242</th>\n",
       "      <td>19649724.759512</td>\n",
       "      <td>15224305.210163</td>\n",
       "    </tr>\n",
       "    <tr>\n",
       "      <th>243</th>\n",
       "      <td>8249545.655585</td>\n",
       "      <td>6406010.022325</td>\n",
       "    </tr>\n",
       "    <tr>\n",
       "      <th>261</th>\n",
       "      <td>30402004.119214</td>\n",
       "      <td>20845333.894698</td>\n",
       "    </tr>\n",
       "  </tbody>\n",
       "</table>\n",
       "</div>"
      ],
      "text/plain": [
       "                TARGET_mean       TARGET_std\n",
       "product_id                                  \n",
       "236         24157732.043920  17776699.155772\n",
       "238          5825229.925770   4655058.589438\n",
       "242         19649724.759512  15224305.210163\n",
       "243          8249545.655585   6406010.022325\n",
       "261         30402004.119214  20845333.894698"
      ]
     },
     "execution_count": 80,
     "metadata": {},
     "output_type": "execute_result"
    }
   ],
   "source": [
    "mean_per_product_id = train.groupby(\"product_id\").agg({\"TARGET\": np.mean})\n",
    "mean_per_product_id.columns = ['TARGET_mean']\n",
    "\n",
    "std_per_product_id = train.groupby(\"product_id\").agg({\"TARGET\": np.std})\n",
    "std_per_product_id.columns = ['TARGET_std']\n",
    "\n",
    "pd.concat([mean_per_product_id, std_per_product_id], axis=1).head()"
   ]
  },
  {
   "cell_type": "markdown",
   "metadata": {},
   "source": [
    "It means that the minimum is far from the other values. So we decided to use not the minimum but a value above, but a readjustment of it instead. "
   ]
  },
  {
   "cell_type": "code",
   "execution_count": 81,
   "metadata": {
    "collapsed": false
   },
   "outputs": [
    {
     "name": "stdout",
     "output_type": "stream",
     "text": [
      "MAPE : 83.5862773074\n",
      "MAPE : 69.9682064614\n",
      "MAPE : 62.706405248\n",
      "MAPE : 61.7711984429\n",
      "MAPE : 65.5130846126\n"
     ]
    }
   ],
   "source": [
    "print \"MAPE :\", mean_absolute_percentage_error(train_missing[\"TARGET\"].values, validation[\"TARGET\"].values)\n",
    "print \"MAPE :\", mean_absolute_percentage_error(train_missing[\"TARGET\"].values, 2 * validation[\"TARGET\"].values)\n",
    "print \"MAPE :\", mean_absolute_percentage_error(train_missing[\"TARGET\"].values, 3 * validation[\"TARGET\"].values)\n",
    "print \"MAPE :\", mean_absolute_percentage_error(train_missing[\"TARGET\"].values, 4 * validation[\"TARGET\"].values)\n",
    "print \"MAPE :\", mean_absolute_percentage_error(train_missing[\"TARGET\"].values, 5 * validation[\"TARGET\"].values)"
   ]
  },
  {
   "cell_type": "markdown",
   "metadata": {
    "collapsed": true
   },
   "source": [
    "Using ground trial, we settled for the following value of minimal readjustment :"
   ]
  },
  {
   "cell_type": "code",
   "execution_count": 90,
   "metadata": {
    "collapsed": false
   },
   "outputs": [
    {
     "name": "stdout",
     "output_type": "stream",
     "text": [
      "MAPE : 61.480089348\n"
     ]
    }
   ],
   "source": [
    "print \"MAPE :\", mean_absolute_percentage_error(train_missing[\"TARGET\"].values, 3.65 * validation[\"TARGET\"].values)"
   ]
  },
  {
   "cell_type": "markdown",
   "metadata": {},
   "source": [
    "## V. Prediction on the test set\n",
    "As we did earlier, we separate our test set into two subsets : one without any missing entry, and the rest.    \n",
    "In the first case, we will use our trained regressor for the prediction ; in the second case, we will control the error by outputing the readjusted minimal value per product."
   ]
  },
  {
   "cell_type": "code",
   "execution_count": null,
   "metadata": {
    "collapsed": true
   },
   "outputs": [],
   "source": [
    "test_filled = Testing_new.drop(pd.isnull(Testing_new).any(1).nonzero()[0]).reset_index(drop=True)\n",
    "test_missing = Testing_new[~Testing_new[\"ID\"].isin(test_filled[\"ID\"].tolist())]"
   ]
  },
  {
   "cell_type": "markdown",
   "metadata": {},
   "source": [
    "We train our model on the entire set."
   ]
  },
  {
   "cell_type": "code",
   "execution_count": null,
   "metadata": {
    "collapsed": true
   },
   "outputs": [],
   "source": [
    "train_full = Training_new.drop(pd.isnull(Training_new).any(1).nonzero()[0])"
   ]
  },
  {
   "cell_type": "code",
   "execution_count": null,
   "metadata": {
    "collapsed": true
   },
   "outputs": [],
   "source": [
    "features = train_full.drop(['ID','product_id','date','TARGET'], axis=1)\n",
    "X_columns = train_full.columns.drop(['ID','product_id','date','TARGET'])\n",
    "X = features.values\n",
    "y = train_full['TARGET'].values"
   ]
  },
  {
   "cell_type": "code",
   "execution_count": null,
   "metadata": {
    "collapsed": true
   },
   "outputs": [],
   "source": [
    "%%time\n",
    "from sklearn.ensemble import RandomForestRegressor\n",
    "from sklearn.cross_validation import cross_val_score\n",
    "\n",
    "n_estimators = 50\n",
    "max_depth = 15\n",
    "max_features = 40\n",
    "reg = RandomForestRegressor(n_estimators=n_estimators, max_depth=max_depth, max_features=max_features)\n",
    "\n",
    "reg.fit(X, y)"
   ]
  },
  {
   "cell_type": "markdown",
   "metadata": {},
   "source": [
    "We predict the target value for the rows without missing entries."
   ]
  },
  {
   "cell_type": "code",
   "execution_count": null,
   "metadata": {
    "collapsed": true
   },
   "outputs": [],
   "source": [
    "y_pred_filled = reg.predict(test_filled[numeric_cols].values)\n",
    "\n",
    "submission_filled = test_filled[[\"ID\", \"product_id\"]].copy()\n",
    "submission_filled[\"TARGET\"] = y_pred_filled\n",
    "submission_filled.head()"
   ]
  },
  {
   "cell_type": "markdown",
   "metadata": {},
   "source": [
    "For the rest, we output the readjusted minimal value per product."
   ]
  },
  {
   "cell_type": "code",
   "execution_count": null,
   "metadata": {
    "collapsed": true
   },
   "outputs": [],
   "source": [
    "min_per_product_id = train.groupby(\"product_id\").agg({\"TARGET\": np.min})\n",
    "min_per_product_id.head()"
   ]
  },
  {
   "cell_type": "code",
   "execution_count": null,
   "metadata": {
    "collapsed": true
   },
   "outputs": [],
   "source": [
    "submission_missing = test_missing.copy().join(min_per_product_id, on=\"product_id\")\n",
    "submission_missing.head()"
   ]
  },
  {
   "cell_type": "code",
   "execution_count": null,
   "metadata": {
    "collapsed": true
   },
   "outputs": [],
   "source": [
    "submission_missing[\"TARGET\"] = 3.65 * submission_missing[\"TARGET\"]"
   ]
  },
  {
   "cell_type": "markdown",
   "metadata": {},
   "source": [
    "We finally concatenate the results, sort by ID, and output them in the format required for the challenge."
   ]
  },
  {
   "cell_type": "code",
   "execution_count": null,
   "metadata": {
    "collapsed": true
   },
   "outputs": [],
   "source": [
    "submission = pd.concat([submission_filled, submission_missing], axis=0).sort_values(by=\"ID\")\n",
    "submission = submission[['ID','TARGET']]\n",
    "print submission.shape\n",
    "submission.head()"
   ]
  },
  {
   "cell_type": "code",
   "execution_count": null,
   "metadata": {
    "collapsed": true
   },
   "outputs": [],
   "source": [
    "submission.to_csv(\"Submission.csv\", sep=\";\", index=False)"
   ]
  }
 ],
 "metadata": {
  "kernelspec": {
   "display_name": "Python 2",
   "language": "python",
   "name": "python2"
  },
  "language_info": {
   "codemirror_mode": {
    "name": "ipython",
    "version": 2
   },
   "file_extension": ".py",
   "mimetype": "text/x-python",
   "name": "python",
   "nbconvert_exporter": "python",
   "pygments_lexer": "ipython2",
   "version": "2.7.10"
  }
 },
 "nbformat": 4,
 "nbformat_minor": 0
}
