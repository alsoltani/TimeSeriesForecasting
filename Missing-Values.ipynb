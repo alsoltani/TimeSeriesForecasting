{
 "cells": [
  {
   "cell_type": "code",
   "execution_count": 1,
   "metadata": {},
   "outputs": [],
   "source": [
    "import pandas as pd\n",
    "import time\n",
    "import numpy as np"
   ]
  },
  {
   "cell_type": "markdown",
   "metadata": {},
   "source": [
    "# Filling of missing values"
   ]
  },
  {
   "cell_type": "code",
   "execution_count": 2,
   "metadata": {},
   "outputs": [],
   "source": [
    "Training = pd.read_csv('Data/training_input.csv', delimiter=',')"
   ]
  },
  {
   "cell_type": "code",
   "execution_count": 30,
   "metadata": {},
   "outputs": [
    {
     "data": {
      "text/plain": [
       "(613220, 57)"
      ]
     },
     "execution_count": 30,
     "output_type": "execute_result",
     "metadata": {}
    }
   ],
   "source": [
    "Training.shape"
   ]
  },
  {
   "cell_type": "code",
   "execution_count": 3,
   "metadata": {},
   "outputs": [],
   "source": [
    "TrainingMissing = Training.iloc[pd.isnull(Training).any(1).nonzero()[0]]"
   ]
  },
  {
   "cell_type": "code",
   "execution_count": 4,
   "metadata": {},
   "outputs": [],
   "source": [
    "TrainingMissing = TrainingMissing.reset_index(drop=True)"
   ]
  },
  {
   "cell_type": "code",
   "execution_count": 5,
   "metadata": {},
   "outputs": [
    {
     "data": {
      "text/html": [
       "<div>\n",
       "<table border=\"1\" class=\"dataframe\">\n",
       "  <thead>\n",
       "    <tr style=\"text-align: right;\">\n",
       "      <th></th>\n",
       "      <th>ID</th>\n",
       "      <th>date</th>\n",
       "      <th>product_id</th>\n",
       "      <th>09:30:00</th>\n",
       "      <th>09:35:00</th>\n",
       "      <th>09:40:00</th>\n",
       "      <th>09:45:00</th>\n",
       "      <th>09:50:00</th>\n",
       "      <th>09:55:00</th>\n",
       "      <th>10:00:00</th>\n",
       "      <th>...</th>\n",
       "      <th>13:10:00</th>\n",
       "      <th>13:15:00</th>\n",
       "      <th>13:20:00</th>\n",
       "      <th>13:25:00</th>\n",
       "      <th>13:30:00</th>\n",
       "      <th>13:35:00</th>\n",
       "      <th>13:40:00</th>\n",
       "      <th>13:45:00</th>\n",
       "      <th>13:50:00</th>\n",
       "      <th>13:55:00</th>\n",
       "    </tr>\n",
       "  </thead>\n",
       "  <tbody>\n",
       "    <tr>\n",
       "      <th>0</th>\n",
       "      <td>6</td>\n",
       "      <td>1</td>\n",
       "      <td>267</td>\n",
       "      <td>8091607.23</td>\n",
       "      <td>200855.00</td>\n",
       "      <td>254585.18</td>\n",
       "      <td>182094.78</td>\n",
       "      <td>239248.65</td>\n",
       "      <td>295739.52</td>\n",
       "      <td>224983.14</td>\n",
       "      <td>...</td>\n",
       "      <td>48647.50</td>\n",
       "      <td>134951.50</td>\n",
       "      <td>172651.50</td>\n",
       "      <td>231768.23</td>\n",
       "      <td>NaN</td>\n",
       "      <td>10164.00</td>\n",
       "      <td>161273.64</td>\n",
       "      <td>245219.00</td>\n",
       "      <td>118459.64</td>\n",
       "      <td>70953.90</td>\n",
       "    </tr>\n",
       "    <tr>\n",
       "      <th>1</th>\n",
       "      <td>23</td>\n",
       "      <td>1</td>\n",
       "      <td>409</td>\n",
       "      <td>3967038.72</td>\n",
       "      <td>49270.40</td>\n",
       "      <td>72597.00</td>\n",
       "      <td>49056.54</td>\n",
       "      <td>105244.80</td>\n",
       "      <td>109664.24</td>\n",
       "      <td>72702.00</td>\n",
       "      <td>...</td>\n",
       "      <td>97035.72</td>\n",
       "      <td>94930.00</td>\n",
       "      <td>109808.12</td>\n",
       "      <td>53813.32</td>\n",
       "      <td>32897.56</td>\n",
       "      <td>142312.95</td>\n",
       "      <td>20532.20</td>\n",
       "      <td>20807.80</td>\n",
       "      <td>38365.11</td>\n",
       "      <td>NaN</td>\n",
       "    </tr>\n",
       "    <tr>\n",
       "      <th>2</th>\n",
       "      <td>29</td>\n",
       "      <td>1</td>\n",
       "      <td>447</td>\n",
       "      <td>NaN</td>\n",
       "      <td>4902746.25</td>\n",
       "      <td>123692.64</td>\n",
       "      <td>126432.00</td>\n",
       "      <td>90729.22</td>\n",
       "      <td>225985.34</td>\n",
       "      <td>127063.09</td>\n",
       "      <td>...</td>\n",
       "      <td>110715.28</td>\n",
       "      <td>45155.70</td>\n",
       "      <td>116440.34</td>\n",
       "      <td>106385.16</td>\n",
       "      <td>89622.00</td>\n",
       "      <td>124051.29</td>\n",
       "      <td>68860.00</td>\n",
       "      <td>79177.41</td>\n",
       "      <td>299000.72</td>\n",
       "      <td>185450.66</td>\n",
       "    </tr>\n",
       "    <tr>\n",
       "      <th>3</th>\n",
       "      <td>30</td>\n",
       "      <td>1</td>\n",
       "      <td>449</td>\n",
       "      <td>5642713.00</td>\n",
       "      <td>168978.59</td>\n",
       "      <td>252366.66</td>\n",
       "      <td>212968.04</td>\n",
       "      <td>92013.80</td>\n",
       "      <td>102185.00</td>\n",
       "      <td>186739.00</td>\n",
       "      <td>...</td>\n",
       "      <td>121237.65</td>\n",
       "      <td>70216.02</td>\n",
       "      <td>215304.70</td>\n",
       "      <td>57243.78</td>\n",
       "      <td>67538.61</td>\n",
       "      <td>301868.55</td>\n",
       "      <td>45289.71</td>\n",
       "      <td>200126.97</td>\n",
       "      <td>99121.12</td>\n",
       "      <td>79086.00</td>\n",
       "    </tr>\n",
       "    <tr>\n",
       "      <th>4</th>\n",
       "      <td>60</td>\n",
       "      <td>1</td>\n",
       "      <td>839</td>\n",
       "      <td>NaN</td>\n",
       "      <td>7261088.04</td>\n",
       "      <td>118917.12</td>\n",
       "      <td>178083.00</td>\n",
       "      <td>99840.15</td>\n",
       "      <td>66552.40</td>\n",
       "      <td>115056.54</td>\n",
       "      <td>...</td>\n",
       "      <td>85395.84</td>\n",
       "      <td>37900.00</td>\n",
       "      <td>79485.00</td>\n",
       "      <td>135654.40</td>\n",
       "      <td>56820.66</td>\n",
       "      <td>53071.20</td>\n",
       "      <td>75540.00</td>\n",
       "      <td>31273.56</td>\n",
       "      <td>50951.73</td>\n",
       "      <td>68079.56</td>\n",
       "    </tr>\n",
       "  </tbody>\n",
       "</table>\n",
       "<p>5 rows × 57 columns</p>\n",
       "</div>"
      ]
     },
     "output_type": "execute_result",
     "metadata": {}
    }
   ],
   "source": [
    "TrainingMissing.head()"
   ]
  },
  {
   "cell_type": "code",
   "execution_count": 17,
   "metadata": {},
   "outputs": [],
   "source": [
    "#TrainingMissing.iloc[0,3:]"
   ]
  },
  {
   "cell_type": "markdown",
   "metadata": {},
   "source": [
    "# First Idea"
   ]
  },
  {
   "cell_type": "markdown",
   "metadata": {},
   "source": [
    "Our first idea is to use the complete days for the same product. Thus we want to see if there is a correlation between the time series of a same product."
   ]
  },
  {
   "cell_type": "code",
   "execution_count": 6,
   "metadata": {},
   "outputs": [],
   "source": [
    "Test267 = Training[Training['product_id'] == 267].reset_index(drop=True)"
   ]
  },
  {
   "cell_type": "code",
   "execution_count": 7,
   "metadata": {},
   "outputs": [
    {
     "data": {
      "text/html": [
       "<div>\n",
       "<table border=\"1\" class=\"dataframe\">\n",
       "  <thead>\n",
       "    <tr style=\"text-align: right;\">\n",
       "      <th></th>\n",
       "      <th>ID</th>\n",
       "      <th>date</th>\n",
       "      <th>product_id</th>\n",
       "      <th>09:30:00</th>\n",
       "      <th>09:35:00</th>\n",
       "      <th>09:40:00</th>\n",
       "      <th>09:45:00</th>\n",
       "      <th>09:50:00</th>\n",
       "      <th>09:55:00</th>\n",
       "      <th>10:00:00</th>\n",
       "      <th>...</th>\n",
       "      <th>13:10:00</th>\n",
       "      <th>13:15:00</th>\n",
       "      <th>13:20:00</th>\n",
       "      <th>13:25:00</th>\n",
       "      <th>13:30:00</th>\n",
       "      <th>13:35:00</th>\n",
       "      <th>13:40:00</th>\n",
       "      <th>13:45:00</th>\n",
       "      <th>13:50:00</th>\n",
       "      <th>13:55:00</th>\n",
       "    </tr>\n",
       "  </thead>\n",
       "  <tbody>\n",
       "    <tr>\n",
       "      <th>0</th>\n",
       "      <td>6</td>\n",
       "      <td>1</td>\n",
       "      <td>267</td>\n",
       "      <td>8091607.2300</td>\n",
       "      <td>200855.000</td>\n",
       "      <td>254585.1800</td>\n",
       "      <td>182094.7800</td>\n",
       "      <td>239248.6500</td>\n",
       "      <td>295739.5200</td>\n",
       "      <td>224983.1400</td>\n",
       "      <td>...</td>\n",
       "      <td>48647.5000</td>\n",
       "      <td>134951.5000</td>\n",
       "      <td>172651.5000</td>\n",
       "      <td>231768.23</td>\n",
       "      <td>NaN</td>\n",
       "      <td>10164.00</td>\n",
       "      <td>161273.64</td>\n",
       "      <td>245219.00</td>\n",
       "      <td>118459.64</td>\n",
       "      <td>70953.90</td>\n",
       "    </tr>\n",
       "    <tr>\n",
       "      <th>1</th>\n",
       "      <td>358</td>\n",
       "      <td>2</td>\n",
       "      <td>267</td>\n",
       "      <td>1510629.9114</td>\n",
       "      <td>496502.000</td>\n",
       "      <td>304086.0000</td>\n",
       "      <td>250097.9854</td>\n",
       "      <td>399503.9768</td>\n",
       "      <td>284460.0000</td>\n",
       "      <td>318015.0185</td>\n",
       "      <td>...</td>\n",
       "      <td>211805.9877</td>\n",
       "      <td>328710.9809</td>\n",
       "      <td>351083.9796</td>\n",
       "      <td>370445.00</td>\n",
       "      <td>412514.00</td>\n",
       "      <td>198490.00</td>\n",
       "      <td>403884.00</td>\n",
       "      <td>205394.00</td>\n",
       "      <td>331584.00</td>\n",
       "      <td>400432.00</td>\n",
       "    </tr>\n",
       "    <tr>\n",
       "      <th>2</th>\n",
       "      <td>978</td>\n",
       "      <td>4</td>\n",
       "      <td>267</td>\n",
       "      <td>512487.7000</td>\n",
       "      <td>831157.760</td>\n",
       "      <td>1056646.0300</td>\n",
       "      <td>470614.6400</td>\n",
       "      <td>373647.6000</td>\n",
       "      <td>966734.0400</td>\n",
       "      <td>520505.3500</td>\n",
       "      <td>...</td>\n",
       "      <td>1053542.4000</td>\n",
       "      <td>345372.1700</td>\n",
       "      <td>185485.3000</td>\n",
       "      <td>735669.22</td>\n",
       "      <td>678953.99</td>\n",
       "      <td>773766.99</td>\n",
       "      <td>532827.00</td>\n",
       "      <td>210624.81</td>\n",
       "      <td>728071.68</td>\n",
       "      <td>1022121.24</td>\n",
       "    </tr>\n",
       "    <tr>\n",
       "      <th>3</th>\n",
       "      <td>1598</td>\n",
       "      <td>6</td>\n",
       "      <td>267</td>\n",
       "      <td>131850.0000</td>\n",
       "      <td>718730.041</td>\n",
       "      <td>440755.9749</td>\n",
       "      <td>89555.9949</td>\n",
       "      <td>156017.0089</td>\n",
       "      <td>50605.0029</td>\n",
       "      <td>139679.9920</td>\n",
       "      <td>...</td>\n",
       "      <td>71791.0000</td>\n",
       "      <td>17510.0000</td>\n",
       "      <td>73542.0000</td>\n",
       "      <td>52500.00</td>\n",
       "      <td>98056.00</td>\n",
       "      <td>31500.00</td>\n",
       "      <td>26265.00</td>\n",
       "      <td>150672.00</td>\n",
       "      <td>71832.00</td>\n",
       "      <td>103368.00</td>\n",
       "    </tr>\n",
       "    <tr>\n",
       "      <th>4</th>\n",
       "      <td>1950</td>\n",
       "      <td>7</td>\n",
       "      <td>267</td>\n",
       "      <td>334122.0000</td>\n",
       "      <td>41586.000</td>\n",
       "      <td>80248.0000</td>\n",
       "      <td>93080.0000</td>\n",
       "      <td>119105.0000</td>\n",
       "      <td>63184.0000</td>\n",
       "      <td>125019.0000</td>\n",
       "      <td>...</td>\n",
       "      <td>89032.0000</td>\n",
       "      <td>76002.0000</td>\n",
       "      <td>57360.0000</td>\n",
       "      <td>97512.00</td>\n",
       "      <td>57360.00</td>\n",
       "      <td>50190.00</td>\n",
       "      <td>63140.00</td>\n",
       "      <td>47388.00</td>\n",
       "      <td>27284.00</td>\n",
       "      <td>113444.00</td>\n",
       "    </tr>\n",
       "  </tbody>\n",
       "</table>\n",
       "<p>5 rows × 57 columns</p>\n",
       "</div>"
      ]
     },
     "output_type": "execute_result",
     "metadata": {}
    }
   ],
   "source": [
    "Test267.head()"
   ]
  },
  {
   "cell_type": "code",
   "execution_count": 8,
   "metadata": {},
   "outputs": [],
   "source": [
    "Test267 = Test267.drop(pd.isnull(Test267).any(1).nonzero()[0]).reset_index(drop = True)"
   ]
  },
  {
   "cell_type": "code",
   "execution_count": 9,
   "metadata": {},
   "outputs": [],
   "source": [
    "del Test267['ID'],Test267['date'],Test267['product_id']"
   ]
  },
  {
   "cell_type": "code",
   "execution_count": 10,
   "metadata": {},
   "outputs": [
    {
     "name": "stdout",
     "output_type": "stream",
     "text": [
      "[[ 1.         -0.0203954   0.08745534  0.49530647  0.0572036   0.07145631]\n",
      " [-0.0203954   1.          0.01902363 -0.19910509  0.02233614 -0.16763977]\n",
      " [ 0.08745534  0.01902363  1.          0.03151256 -0.15913989  0.32836028]\n",
      " [ 0.49530647 -0.19910509  0.03151256  1.          0.01627805  0.24421717]\n",
      " [ 0.0572036   0.02233614 -0.15913989  0.01627805  1.         -0.19684703]\n",
      " [ 0.07145631 -0.16763977  0.32836028  0.24421717 -0.19684703  1.        ]]\n"
     ]
    }
   ],
   "source": [
    "print np.corrcoef(np.array(Test267.iloc[range(0,6)]))"
   ]
  },
  {
   "cell_type": "markdown",
   "metadata": {},
   "source": [
    "The correlations are low we drop this idea."
   ]
  },
  {
   "cell_type": "markdown",
   "metadata": {},
   "source": [
    "## Second idea"
   ]
  },
  {
   "cell_type": "markdown",
   "metadata": {},
   "source": [
    "Check for correlations betwenn product on the same date"
   ]
  },
  {
   "cell_type": "code",
   "execution_count": 16,
   "metadata": {},
   "outputs": [
    {
     "name": "stdout",
     "output_type": "stream",
     "text": [
      "nombres de dates (1882,)\n",
      "nombres de produits (352,)\n"
     ]
    }
   ],
   "source": [
    "print \"nombres de dates\",Training['date'].value_counts().shape\n",
    "print \"nombres de produits\",Training['product_id'].value_counts().shape"
   ]
  },
  {
   "cell_type": "code",
   "execution_count": 17,
   "metadata": {},
   "outputs": [],
   "source": [
    "TestFull = Training.drop(pd.isnull(Training).any(1).nonzero()[0]).reset_index(drop = True)"
   ]
  },
  {
   "cell_type": "code",
   "execution_count": 18,
   "metadata": {},
   "outputs": [
    {
     "data": {
      "text/plain": [
       "1516    351\n",
       "777     350\n",
       "876     349\n",
       "331     349\n",
       "1673    349\n",
       "1405    349\n",
       "890     349\n",
       "1555    349\n",
       "478     348\n",
       "72      348\n",
       "967     348\n",
       "963     348\n",
       "1756    348\n",
       "1729    348\n",
       "882     348\n",
       "1685    348\n",
       "1200    348\n",
       "1184    348\n",
       "296     348\n",
       "1706    348\n",
       "306     347\n",
       "1193    347\n",
       "1376    347\n",
       "1297    347\n",
       "1531    347\n",
       "1270    347\n",
       "449     347\n",
       "746     346\n",
       "1866    346\n",
       "848     346\n",
       "       ... \n",
       "904      95\n",
       "616      95\n",
       "207      95\n",
       "1609     94\n",
       "915      93\n",
       "996      93\n",
       "1005     92\n",
       "144      90\n",
       "1377     90\n",
       "1732     89\n",
       "1472     88\n",
       "47       88\n",
       "457      88\n",
       "48       88\n",
       "712      87\n",
       "63       87\n",
       "431      85\n",
       "687      85\n",
       "538      85\n",
       "617      83\n",
       "1412     80\n",
       "1056     78\n",
       "1735     30\n",
       "314       2\n",
       "103       1\n",
       "1110      1\n",
       "311       1\n",
       "1495      1\n",
       "693       1\n",
       "1208      1\n",
       "Name: date, dtype: int64"
      ]
     },
     "execution_count": 18,
     "output_type": "execute_result",
     "metadata": {}
    }
   ],
   "source": [
    "TestFull['date'].value_counts()"
   ]
  },
  {
   "cell_type": "code",
   "execution_count": 19,
   "metadata": {},
   "outputs": [],
   "source": [
    "TestDate = TestFull[TestFull['date']==1516]"
   ]
  },
  {
   "cell_type": "code",
   "execution_count": 20,
   "metadata": {},
   "outputs": [],
   "source": [
    "del TestDate['ID'],TestDate['date'],TestDate['product_id']"
   ]
  },
  {
   "cell_type": "code",
   "execution_count": 21,
   "metadata": {},
   "outputs": [
    {
     "data": {
      "text/html": [
       "<div>\n",
       "<table border=\"1\" class=\"dataframe\">\n",
       "  <thead>\n",
       "    <tr style=\"text-align: right;\">\n",
       "      <th></th>\n",
       "      <th>09:30:00</th>\n",
       "      <th>09:35:00</th>\n",
       "      <th>09:40:00</th>\n",
       "      <th>09:45:00</th>\n",
       "      <th>09:50:00</th>\n",
       "      <th>09:55:00</th>\n",
       "      <th>10:00:00</th>\n",
       "      <th>10:05:00</th>\n",
       "      <th>10:10:00</th>\n",
       "      <th>10:15:00</th>\n",
       "      <th>...</th>\n",
       "      <th>13:10:00</th>\n",
       "      <th>13:15:00</th>\n",
       "      <th>13:20:00</th>\n",
       "      <th>13:25:00</th>\n",
       "      <th>13:30:00</th>\n",
       "      <th>13:35:00</th>\n",
       "      <th>13:40:00</th>\n",
       "      <th>13:45:00</th>\n",
       "      <th>13:50:00</th>\n",
       "      <th>13:55:00</th>\n",
       "    </tr>\n",
       "  </thead>\n",
       "  <tbody>\n",
       "    <tr>\n",
       "      <th>410922</th>\n",
       "      <td>4037832.78</td>\n",
       "      <td>1347850.40</td>\n",
       "      <td>2070120.15</td>\n",
       "      <td>4895197.20</td>\n",
       "      <td>2778297.48</td>\n",
       "      <td>1454243.73</td>\n",
       "      <td>1200015.85</td>\n",
       "      <td>1887696.250</td>\n",
       "      <td>1553792.49</td>\n",
       "      <td>2314705.17</td>\n",
       "      <td>...</td>\n",
       "      <td>726977.66</td>\n",
       "      <td>1008437.08</td>\n",
       "      <td>1635168.97</td>\n",
       "      <td>1141354.1952</td>\n",
       "      <td>2580499.68</td>\n",
       "      <td>801452.80</td>\n",
       "      <td>2260203.910</td>\n",
       "      <td>912579.9800</td>\n",
       "      <td>3465323.3800</td>\n",
       "      <td>1490994.94</td>\n",
       "    </tr>\n",
       "    <tr>\n",
       "      <th>410923</th>\n",
       "      <td>364176.00</td>\n",
       "      <td>265503.70</td>\n",
       "      <td>717347.80</td>\n",
       "      <td>633052.88</td>\n",
       "      <td>469596.42</td>\n",
       "      <td>393848.00</td>\n",
       "      <td>373838.00</td>\n",
       "      <td>387502.500</td>\n",
       "      <td>245742.12</td>\n",
       "      <td>324921.84</td>\n",
       "      <td>...</td>\n",
       "      <td>341464.40</td>\n",
       "      <td>356353.20</td>\n",
       "      <td>501259.20</td>\n",
       "      <td>402682.3200</td>\n",
       "      <td>569794.82</td>\n",
       "      <td>261605.52</td>\n",
       "      <td>379157.600</td>\n",
       "      <td>937992.7600</td>\n",
       "      <td>401333.5800</td>\n",
       "      <td>507725.00</td>\n",
       "    </tr>\n",
       "    <tr>\n",
       "      <th>410924</th>\n",
       "      <td>864817.13</td>\n",
       "      <td>2376450.00</td>\n",
       "      <td>1976189.23</td>\n",
       "      <td>2265644.25</td>\n",
       "      <td>781484.40</td>\n",
       "      <td>1215011.52</td>\n",
       "      <td>3943854.72</td>\n",
       "      <td>1734996.900</td>\n",
       "      <td>1984813.20</td>\n",
       "      <td>1689480.00</td>\n",
       "      <td>...</td>\n",
       "      <td>337288.00</td>\n",
       "      <td>337212.00</td>\n",
       "      <td>319824.00</td>\n",
       "      <td>293172.0000</td>\n",
       "      <td>1158764.03</td>\n",
       "      <td>884114.96</td>\n",
       "      <td>837339.174</td>\n",
       "      <td>1017310.1400</td>\n",
       "      <td>482673.4500</td>\n",
       "      <td>629578.98</td>\n",
       "    </tr>\n",
       "    <tr>\n",
       "      <th>410925</th>\n",
       "      <td>1520075.04</td>\n",
       "      <td>834019.35</td>\n",
       "      <td>1347795.12</td>\n",
       "      <td>1232024.33</td>\n",
       "      <td>563066.24</td>\n",
       "      <td>1066079.52</td>\n",
       "      <td>1715451.21</td>\n",
       "      <td>1554975.400</td>\n",
       "      <td>1056590.00</td>\n",
       "      <td>799837.08</td>\n",
       "      <td>...</td>\n",
       "      <td>304641.81</td>\n",
       "      <td>369595.71</td>\n",
       "      <td>344968.00</td>\n",
       "      <td>270383.0400</td>\n",
       "      <td>606272.42</td>\n",
       "      <td>179452.56</td>\n",
       "      <td>189076.510</td>\n",
       "      <td>222239.0000</td>\n",
       "      <td>287481.7400</td>\n",
       "      <td>211167.00</td>\n",
       "    </tr>\n",
       "    <tr>\n",
       "      <th>410926</th>\n",
       "      <td>2426504.85</td>\n",
       "      <td>2209152.05</td>\n",
       "      <td>4198626.00</td>\n",
       "      <td>3765510.70</td>\n",
       "      <td>1585601.88</td>\n",
       "      <td>1207388.64</td>\n",
       "      <td>2129337.76</td>\n",
       "      <td>857580.376</td>\n",
       "      <td>1049437.43</td>\n",
       "      <td>1097689.47</td>\n",
       "      <td>...</td>\n",
       "      <td>1146243.60</td>\n",
       "      <td>3160333.77</td>\n",
       "      <td>1697558.20</td>\n",
       "      <td>1248108.9300</td>\n",
       "      <td>2246511.09</td>\n",
       "      <td>716934.20</td>\n",
       "      <td>1879435.080</td>\n",
       "      <td>2244303.7596</td>\n",
       "      <td>1645054.6685</td>\n",
       "      <td>1194025.28</td>\n",
       "    </tr>\n",
       "  </tbody>\n",
       "</table>\n",
       "<p>5 rows × 54 columns</p>\n",
       "</div>"
      ]
     },
     "output_type": "execute_result",
     "metadata": {}
    }
   ],
   "source": [
    "TestDate.head()"
   ]
  },
  {
   "cell_type": "code",
   "execution_count": 22,
   "metadata": {},
   "outputs": [
    {
     "data": {
      "text/plain": [
       "(351, 351)"
      ]
     },
     "execution_count": 22,
     "output_type": "execute_result",
     "metadata": {}
    }
   ],
   "source": [
    "Corr = np.corrcoef(np.array(TestDate))\n",
    "Corr.shape"
   ]
  },
  {
   "cell_type": "code",
   "execution_count": 23,
   "metadata": {},
   "outputs": [],
   "source": [
    "for i in range(0, Corr.shape[0]) : \n",
    "    for j in range(0, Corr.shape[0]) : \n",
    "        \n",
    "        if i<=j :\n",
    "            Corr[i][j] = 0"
   ]
  },
  {
   "cell_type": "code",
   "execution_count": 24,
   "metadata": {},
   "outputs": [
    {
     "name": "stdout",
     "output_type": "stream",
     "text": [
      "0.935925146551\n",
      "-0.339074715917\n"
     ]
    }
   ],
   "source": [
    "print np.max(Corr)\n",
    "print np.min(Corr)"
   ]
  },
  {
   "cell_type": "code",
   "execution_count": 27,
   "metadata": {},
   "outputs": [
    {
     "name": "stdout",
     "output_type": "stream",
     "text": [
      "301 61\n"
     ]
    }
   ],
   "source": [
    "for i in range(0,Corr.shape[0]) : \n",
    "    for j in range(0,Corr.shape[0]) : \n",
    "        \n",
    "        if Corr[i][j] == np.max(Corr) :\n",
    "            print i,j"
   ]
  },
  {
   "cell_type": "code",
   "execution_count": 26,
   "metadata": {},
   "outputs": [
    {
     "name": "stdout",
     "output_type": "stream",
     "text": [
      "4956\n",
      "868\n"
     ]
    }
   ],
   "source": [
    "TestDate = TestFull[TestFull['date']==1516]\n",
    "print TestDate['product_id'].iloc[301]\n",
    "print TestDate['product_id'].iloc[61]"
   ]
  },
  {
   "cell_type": "code",
   "execution_count": 22,
   "metadata": {},
   "outputs": [],
   "source": [
    "TestDate = TestDate[(TestDate['product_id']==4956) | (TestDate['product_id']==868)]"
   ]
  },
  {
   "cell_type": "code",
   "execution_count": 23,
   "metadata": {},
   "outputs": [
    {
     "data": {
      "text/plain": [
       "(2, 57)"
      ]
     },
     "execution_count": 23,
     "output_type": "execute_result",
     "metadata": {}
    }
   ],
   "source": [
    "TestDate.shape"
   ]
  },
  {
   "cell_type": "code",
   "execution_count": 24,
   "metadata": {},
   "outputs": [],
   "source": [
    "del TestDate['ID'],TestDate['date'],TestDate['product_id']"
   ]
  },
  {
   "cell_type": "code",
   "execution_count": 25,
   "metadata": {},
   "outputs": [],
   "source": [
    "Corr = np.corrcoef(np.array(TestDate))"
   ]
  },
  {
   "cell_type": "code",
   "execution_count": 26,
   "metadata": {},
   "outputs": [
    {
     "data": {
      "text/plain": [
       "array([[ 1.        ,  0.93592515],\n",
       "       [ 0.93592515,  1.        ]])"
      ]
     },
     "execution_count": 26,
     "output_type": "execute_result",
     "metadata": {}
    }
   ],
   "source": [
    "Corr"
   ]
  },
  {
   "cell_type": "code",
   "execution_count": 27,
   "metadata": {},
   "outputs": [],
   "source": [
    "TestCorr = Training[(Training['product_id']==4956) | (Training['product_id']==868)]"
   ]
  },
  {
   "cell_type": "code",
   "execution_count": 57,
   "metadata": {},
   "outputs": [],
   "source": [
    "Result=[]\n",
    "\n",
    "for day in range(1,1885) : \n",
    "    \n",
    "    Temp = TestFull[(TestFull['date']==day)]\n",
    "    Temp = Temp[(Temp['product_id']==4956) | (Temp['product_id']==868)]\n",
    "    del Temp['ID'],Temp['date'],Temp['product_id']\n",
    "    if Temp.shape[0] == 2 : \n",
    "        Result.append(np.corrcoef(np.array(Temp))[0][1])"
   ]
  },
  {
   "cell_type": "code",
   "execution_count": 58,
   "metadata": {},
   "outputs": [
    {
     "data": {
      "text/plain": [
       "0.61847887958243453"
      ]
     },
     "execution_count": 58,
     "output_type": "execute_result",
     "metadata": {}
    }
   ],
   "source": [
    "sum(Result) / float(len(Result))"
   ]
  },
  {
   "cell_type": "code",
   "execution_count": 36,
   "metadata": {},
   "outputs": [
    {
     "name": "stdout",
     "output_type": "stream",
     "text": [
      "None\n"
     ]
    }
   ],
   "source": [
    "print temp"
   ]
  },
  {
   "cell_type": "code",
   "execution_count": 50,
   "metadata": {},
   "outputs": [
    {
     "ename": "TypeError",
     "evalue": "only integer arrays with one element can be converted to an index",
     "output_type": "error",
     "traceback": [
      "\u001b[0;31m---------------------------------------------------------------------------\u001b[0m",
      "\u001b[0;31mTypeError\u001b[0m                                 Traceback (most recent call last)",
      "\u001b[0;32m<ipython-input-50-15e3c4028182>\u001b[0m in \u001b[0;36m<module>\u001b[0;34m()\u001b[0m\n\u001b[0;32m----> 1\u001b[0;31m \u001b[0mResult\u001b[0m\u001b[0;34m[\u001b[0m\u001b[0mnp\u001b[0m\u001b[0;34m.\u001b[0m\u001b[0misnan\u001b[0m\u001b[0;34m(\u001b[0m\u001b[0mResult\u001b[0m\u001b[0;34m)\u001b[0m\u001b[0;34m]\u001b[0m\u001b[0;34m\u001b[0m\u001b[0m\n\u001b[0m",
      "\u001b[0;31mTypeError\u001b[0m: only integer arrays with one element can be converted to an index"
     ]
    }
   ],
   "source": [
    ""
   ]
  },
  {
   "cell_type": "code",
   "execution_count": null,
   "metadata": {},
   "outputs": [],
   "source": [
    ""
   ]
  }
 ],
 "metadata": {
  "kernelspec": {
   "display_name": "Python 2",
   "language": "python",
   "name": "python2"
  },
  "language_info": {
   "codemirror_mode": {
    "name": "ipython",
    "version": 2.0
   },
   "file_extension": ".py",
   "mimetype": "text/x-python",
   "name": "python",
   "nbconvert_exporter": "python",
   "pygments_lexer": "ipython2",
   "version": "2.7.10"
  }
 },
 "nbformat": 4,
 "nbformat_minor": 0
}