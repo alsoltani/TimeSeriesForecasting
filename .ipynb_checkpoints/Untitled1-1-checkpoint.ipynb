{
 "cells": [
  {
   "cell_type": "code",
   "execution_count": null,
   "metadata": {
    "collapsed": true
   },
   "outputs": [],
   "source": []
  },
  {
   "cell_type": "code",
   "execution_count": 1,
   "metadata": {
    "collapsed": false
   },
   "outputs": [
    {
     "name": "stdout",
     "output_type": "stream",
     "text": [
      "Using Theano backend.\n"
     ]
    }
   ],
   "source": [
    "from __future__ import print_function\n",
    "import numpy as np\n",
    "import pandas as pd\n",
    "from keras.preprocessing import sequence\n",
    "from keras.utils import np_utils\n",
    "from keras.models import Sequential\n",
    "from keras.layers.core import Dense, Dropout, Activation\n",
    "from keras.layers.embeddings import Embedding\n",
    "from keras.layers.recurrent import LSTM"
   ]
  },
  {
   "cell_type": "code",
   "execution_count": null,
   "metadata": {
    "collapsed": false,
    "scrolled": true
   },
   "outputs": [],
   "source": [
    "#Training Data Set\n",
    "Training = pd.read_csv('Data/training_input.csv', delimiter=',')\n",
    "TrainingSet = Training.drop(pd.isnull(Training).any(1).nonzero()[0]).reset_index(drop = True)\n",
    "outputdata=pd.read_csv('Data/training_output.csv', delimiter=';')\n",
    "outputdata.head()\n",
    "Trainingdata = pd.merge(TrainingSet, outputdata, on ='ID',how='inner')\n",
    "Trainingdata.head()"
   ]
  },
  {
   "cell_type": "code",
   "execution_count": 4,
   "metadata": {
    "collapsed": false
   },
   "outputs": [
    {
     "data": {
      "text/html": [
       "<div>\n",
       "<table border=\"1\" class=\"dataframe\">\n",
       "  <thead>\n",
       "    <tr style=\"text-align: right;\">\n",
       "      <th></th>\n",
       "      <th>ID</th>\n",
       "      <th>date</th>\n",
       "      <th>product_id</th>\n",
       "      <th>09:30:00</th>\n",
       "      <th>09:35:00</th>\n",
       "      <th>09:40:00</th>\n",
       "      <th>09:45:00</th>\n",
       "      <th>09:50:00</th>\n",
       "      <th>09:55:00</th>\n",
       "      <th>10:00:00</th>\n",
       "      <th>...</th>\n",
       "      <th>13:15:00</th>\n",
       "      <th>13:20:00</th>\n",
       "      <th>13:25:00</th>\n",
       "      <th>13:30:00</th>\n",
       "      <th>13:35:00</th>\n",
       "      <th>13:40:00</th>\n",
       "      <th>13:45:00</th>\n",
       "      <th>13:50:00</th>\n",
       "      <th>13:55:00</th>\n",
       "      <th>TARGET</th>\n",
       "    </tr>\n",
       "  </thead>\n",
       "  <tbody>\n",
       "    <tr>\n",
       "      <th>61</th>\n",
       "      <td>67</td>\n",
       "      <td>1</td>\n",
       "      <td>997</td>\n",
       "      <td>8.249340e+08</td>\n",
       "      <td>3.977526e+07</td>\n",
       "      <td>33053964.680</td>\n",
       "      <td>26265894.79</td>\n",
       "      <td>18591469.630</td>\n",
       "      <td>18164338.5000</td>\n",
       "      <td>37079356.1600</td>\n",
       "      <td>...</td>\n",
       "      <td>3165352.50000</td>\n",
       "      <td>7223492.96000</td>\n",
       "      <td>23081786.4800</td>\n",
       "      <td>17164180.4800</td>\n",
       "      <td>5576493.7500</td>\n",
       "      <td>5527994.9800</td>\n",
       "      <td>5433358.84</td>\n",
       "      <td>22393813.8200</td>\n",
       "      <td>16863831.3600</td>\n",
       "      <td>4.273502e+08</td>\n",
       "    </tr>\n",
       "    <tr>\n",
       "      <th>378</th>\n",
       "      <td>419</td>\n",
       "      <td>2</td>\n",
       "      <td>997</td>\n",
       "      <td>1.323860e+08</td>\n",
       "      <td>5.760110e+07</td>\n",
       "      <td>62103041.388</td>\n",
       "      <td>59318809.02</td>\n",
       "      <td>48054915.256</td>\n",
       "      <td>36651062.9972</td>\n",
       "      <td>42719872.6217</td>\n",
       "      <td>...</td>\n",
       "      <td>7400597.71879</td>\n",
       "      <td>9954365.99309</td>\n",
       "      <td>15731421.0391</td>\n",
       "      <td>20795500.1266</td>\n",
       "      <td>24316371.4626</td>\n",
       "      <td>21308541.5579</td>\n",
       "      <td>20096648.00</td>\n",
       "      <td>26561574.0841</td>\n",
       "      <td>20340459.6562</td>\n",
       "      <td>6.025369e+08</td>\n",
       "    </tr>\n",
       "    <tr>\n",
       "      <th>667</th>\n",
       "      <td>761</td>\n",
       "      <td>3</td>\n",
       "      <td>997</td>\n",
       "      <td>3.661150e+06</td>\n",
       "      <td>1.796871e+06</td>\n",
       "      <td>1735859.000</td>\n",
       "      <td>1484604.00</td>\n",
       "      <td>2331268.000</td>\n",
       "      <td>1714352.0000</td>\n",
       "      <td>1560160.0000</td>\n",
       "      <td>...</td>\n",
       "      <td>535602.00000</td>\n",
       "      <td>334835.00000</td>\n",
       "      <td>257664.0000</td>\n",
       "      <td>303812.0000</td>\n",
       "      <td>221870.0000</td>\n",
       "      <td>323127.0000</td>\n",
       "      <td>1119435.00</td>\n",
       "      <td>335503.0000</td>\n",
       "      <td>728859.0000</td>\n",
       "      <td>5.391139e+07</td>\n",
       "    </tr>\n",
       "    <tr>\n",
       "      <th>855</th>\n",
       "      <td>1039</td>\n",
       "      <td>4</td>\n",
       "      <td>997</td>\n",
       "      <td>1.753494e+08</td>\n",
       "      <td>1.008002e+08</td>\n",
       "      <td>98678466.990</td>\n",
       "      <td>67767693.12</td>\n",
       "      <td>84756373.680</td>\n",
       "      <td>55246714.2800</td>\n",
       "      <td>80066783.5200</td>\n",
       "      <td>...</td>\n",
       "      <td>16428415.26000</td>\n",
       "      <td>54886958.10000</td>\n",
       "      <td>17186704.8800</td>\n",
       "      <td>16743667.2000</td>\n",
       "      <td>13550902.1400</td>\n",
       "      <td>18315836.2400</td>\n",
       "      <td>15198392.42</td>\n",
       "      <td>24503894.5200</td>\n",
       "      <td>59177761.6400</td>\n",
       "      <td>1.084428e+09</td>\n",
       "    </tr>\n",
       "    <tr>\n",
       "      <th>1101</th>\n",
       "      <td>1381</td>\n",
       "      <td>5</td>\n",
       "      <td>997</td>\n",
       "      <td>7.829592e+06</td>\n",
       "      <td>5.208192e+06</td>\n",
       "      <td>9108480.000</td>\n",
       "      <td>7359910.00</td>\n",
       "      <td>6049125.000</td>\n",
       "      <td>7209668.0000</td>\n",
       "      <td>7351599.0000</td>\n",
       "      <td>...</td>\n",
       "      <td>1075929.00000</td>\n",
       "      <td>905032.00000</td>\n",
       "      <td>871926.0000</td>\n",
       "      <td>1346961.0000</td>\n",
       "      <td>1805830.0000</td>\n",
       "      <td>2611595.0000</td>\n",
       "      <td>1991550.00</td>\n",
       "      <td>1072184.0000</td>\n",
       "      <td>2206644.0000</td>\n",
       "      <td>9.930269e+07</td>\n",
       "    </tr>\n",
       "  </tbody>\n",
       "</table>\n",
       "<p>5 rows × 58 columns</p>\n",
       "</div>"
      ],
      "text/plain": [
       "        ID  date  product_id      09:30:00      09:35:00      09:40:00  \\\n",
       "61      67     1         997  8.249340e+08  3.977526e+07  33053964.680   \n",
       "378    419     2         997  1.323860e+08  5.760110e+07  62103041.388   \n",
       "667    761     3         997  3.661150e+06  1.796871e+06   1735859.000   \n",
       "855   1039     4         997  1.753494e+08  1.008002e+08  98678466.990   \n",
       "1101  1381     5         997  7.829592e+06  5.208192e+06   9108480.000   \n",
       "\n",
       "         09:45:00      09:50:00       09:55:00       10:00:00      ...       \\\n",
       "61    26265894.79  18591469.630  18164338.5000  37079356.1600      ...        \n",
       "378   59318809.02  48054915.256  36651062.9972  42719872.6217      ...        \n",
       "667    1484604.00   2331268.000   1714352.0000   1560160.0000      ...        \n",
       "855   67767693.12  84756373.680  55246714.2800  80066783.5200      ...        \n",
       "1101   7359910.00   6049125.000   7209668.0000   7351599.0000      ...        \n",
       "\n",
       "            13:15:00        13:20:00       13:25:00       13:30:00  \\\n",
       "61     3165352.50000   7223492.96000  23081786.4800  17164180.4800   \n",
       "378    7400597.71879   9954365.99309  15731421.0391  20795500.1266   \n",
       "667     535602.00000    334835.00000    257664.0000    303812.0000   \n",
       "855   16428415.26000  54886958.10000  17186704.8800  16743667.2000   \n",
       "1101   1075929.00000    905032.00000    871926.0000   1346961.0000   \n",
       "\n",
       "           13:35:00       13:40:00     13:45:00       13:50:00       13:55:00  \\\n",
       "61     5576493.7500   5527994.9800   5433358.84  22393813.8200  16863831.3600   \n",
       "378   24316371.4626  21308541.5579  20096648.00  26561574.0841  20340459.6562   \n",
       "667     221870.0000    323127.0000   1119435.00    335503.0000    728859.0000   \n",
       "855   13550902.1400  18315836.2400  15198392.42  24503894.5200  59177761.6400   \n",
       "1101   1805830.0000   2611595.0000   1991550.00   1072184.0000   2206644.0000   \n",
       "\n",
       "            TARGET  \n",
       "61    4.273502e+08  \n",
       "378   6.025369e+08  \n",
       "667   5.391139e+07  \n",
       "855   1.084428e+09  \n",
       "1101  9.930269e+07  \n",
       "\n",
       "[5 rows x 58 columns]"
      ]
     },
     "execution_count": 4,
     "metadata": {},
     "output_type": "execute_result"
    }
   ],
   "source": [
    "Train = Trainingdata[Trainingdata['product_id']==997]\n",
    "Train.head()"
   ]
  },
  {
   "cell_type": "code",
   "execution_count": 23,
   "metadata": {
    "collapsed": false
   },
   "outputs": [
    {
     "name": "stdout",
     "output_type": "stream",
     "text": [
      "[  4.27350193e+08   6.02536893e+08   5.39113920e+07 ...,   4.76314404e+08\n",
      "   2.00392333e+09   7.35016280e+08]\n"
     ]
    }
   ],
   "source": [
    "################################### Train / Test pour  1 seule action ######################################\n",
    "import sklearn\n",
    "from sklearn.cross_validation import train_test_split\n",
    "\n",
    "X_train=np.zeros((1864,55))\n",
    "for i in xrange(0,1864):\n",
    "    for j in xrange(0,55):\n",
    "        X_train[i,j]=Train.iloc[i,j+2]\n",
    "#print (X_train)\n",
    "\n",
    "Y_train=np.zeros(1864)\n",
    "for i in xrange(0,1864):\n",
    "    Y_train[i]=Train.iloc[i,57]\n",
    "print (Y_train)\n",
    "X=X_train\n",
    "Y=Y_train"
   ]
  },
  {
   "cell_type": "code",
   "execution_count": 38,
   "metadata": {
    "collapsed": false
   },
   "outputs": [
    {
     "name": "stdout",
     "output_type": "stream",
     "text": [
      "(1248L, 55L)\n",
      "(1248L,)\n"
     ]
    }
   ],
   "source": [
    "X_train,X_test,Y_train,Y_test=train_test_split(X,Y, test_size=0.33, random_state=42)\n",
    "print (X_train.shape)\n",
    "print (Y_train.shape)"
   ]
  },
  {
   "cell_type": "code",
   "execution_count": null,
   "metadata": {
    "collapsed": false
   },
   "outputs": [],
   "source": [
    "%time\n",
    "np.random.seed(1337)  # for reproducibility\n",
    "maxlen=55\n",
    "max_features = 1248\n",
    "batch_size = 2\n",
    "\n",
    "print('Loading data...')\n",
    "print(len(X_train), 'train sequences')\n",
    "print(len(X_test), 'test sequences')\n",
    "\n",
    "print(\"Pad sequences (samples x time)\")\n",
    "X_train = sequence.pad_sequences(X_train, maxlen=maxlen)\n",
    "X_test = sequence.pad_sequences(X_test, maxlen=maxlen)\n",
    "print('X_train shape:', X_train.shape)\n",
    "print('X_test shape:', X_test.shape)\n",
    "\n",
    "print('Build model...')\n",
    "model = Sequential()\n",
    "model.add(Embedding(max_features, 128, input_length=maxlen))\n",
    "model.add(LSTM(128))  # try using a GRU instead, for fun\n",
    "model.add(Dropout(0.5))\n",
    "model.add(Dense(1))\n",
    "model.add(Activation('linear'))\n",
    "\n",
    "# try using different optimizers and different optimizer configs\n",
    "model.compile(loss='binary_crossentropy',\n",
    "              optimizer='adam')\n",
    "\n",
    "print(\"Train...\")\n",
    "model.fit(X_train, Y_train, batch_size=batch_size, nb_epoch=3,\n",
    "          validation_data=(X_test, Y_test), show_accuracy=True)\n",
    "score, acc = model.evaluate(X_test, Y_test,\n",
    "                            batch_size=batch_size,\n",
    "                            show_accuracy=True)\n",
    "print('Test score:', score)\n",
    "print('Test accuracy:', acc)"
   ]
  },
  {
   "cell_type": "code",
   "execution_count": null,
   "metadata": {
    "collapsed": true
   },
   "outputs": [],
   "source": []
  }
 ],
 "metadata": {
  "kernelspec": {
   "display_name": "Python 2",
   "language": "python",
   "name": "python2"
  },
  "language_info": {
   "codemirror_mode": {
    "name": "ipython",
    "version": 2
   },
   "file_extension": ".py",
   "mimetype": "text/x-python",
   "name": "python",
   "nbconvert_exporter": "python",
   "pygments_lexer": "ipython2",
   "version": "2.7.10"
  }
 },
 "nbformat": 4,
 "nbformat_minor": 0
}
