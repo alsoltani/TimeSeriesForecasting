{
 "cells": [
  {
   "cell_type": "markdown",
   "metadata": {},
   "source": [
    "Arnaud Lecoules & Alain Soltani"
   ]
  },
  {
   "cell_type": "markdown",
   "metadata": {},
   "source": [
    "# Machine Learning project : Capital Fund Management"
   ]
  },
  {
   "cell_type": "markdown",
   "metadata": {},
   "source": [
    "For this challenge, we have for several date and financial products the volume bought every 5 minutes of the day from 9:30 AM to 1:55 PM.\n"
   ]
  },
  {
   "cell_type": "code",
   "execution_count": 3,
   "metadata": {
    "collapsed": false
   },
   "outputs": [],
   "source": [
    "%matplotlib inline\n",
    "import pandas as pd\n",
    "import time\n",
    "import numpy as np\n",
    "import matplotlib.pyplot as plt"
   ]
  },
  {
   "cell_type": "markdown",
   "metadata": {},
   "source": [
    "The measure of the error choosen by the challenge is the Mean Absolute Percentage Error (MAPE)."
   ]
  },
  {
   "cell_type": "code",
   "execution_count": 4,
   "metadata": {
    "collapsed": true
   },
   "outputs": [],
   "source": [
    "def mean_absolute_percentage_error(y_true, y_pred): \n",
    "\n",
    "    return np.mean(np.abs((y_true - y_pred) / y_true)) * 100"
   ]
  },
  {
   "cell_type": "markdown",
   "metadata": {},
   "source": [
    "## The Data"
   ]
  },
  {
   "cell_type": "code",
   "execution_count": 88,
   "metadata": {
    "collapsed": false
   },
   "outputs": [],
   "source": [
    "Training = pd.read_csv('training_input.csv', delimiter=',')\n",
    "Output = pd.read_csv('training_output.csv', delimiter=';')\n",
    "Testing = pd.read_csv('testing_input.csv', delimiter=',')"
   ]
  },
  {
   "cell_type": "code",
   "execution_count": 89,
   "metadata": {
    "collapsed": false
   },
   "outputs": [
    {
     "name": "stdout",
     "output_type": "stream",
     "text": [
      "(613220, 57)\n"
     ]
    },
    {
     "data": {
      "text/html": [
       "<div>\n",
       "<table border=\"1\" class=\"dataframe\">\n",
       "  <thead>\n",
       "    <tr style=\"text-align: right;\">\n",
       "      <th></th>\n",
       "      <th>ID</th>\n",
       "      <th>date</th>\n",
       "      <th>product_id</th>\n",
       "      <th>09:30:00</th>\n",
       "      <th>09:35:00</th>\n",
       "      <th>09:40:00</th>\n",
       "      <th>09:45:00</th>\n",
       "      <th>09:50:00</th>\n",
       "      <th>09:55:00</th>\n",
       "      <th>10:00:00</th>\n",
       "      <th>...</th>\n",
       "      <th>13:10:00</th>\n",
       "      <th>13:15:00</th>\n",
       "      <th>13:20:00</th>\n",
       "      <th>13:25:00</th>\n",
       "      <th>13:30:00</th>\n",
       "      <th>13:35:00</th>\n",
       "      <th>13:40:00</th>\n",
       "      <th>13:45:00</th>\n",
       "      <th>13:50:00</th>\n",
       "      <th>13:55:00</th>\n",
       "    </tr>\n",
       "  </thead>\n",
       "  <tbody>\n",
       "    <tr>\n",
       "      <th>0</th>\n",
       "      <td>1</td>\n",
       "      <td>1</td>\n",
       "      <td>236</td>\n",
       "      <td>24138818.08</td>\n",
       "      <td>2457975.00</td>\n",
       "      <td>741777.14</td>\n",
       "      <td>973487.28</td>\n",
       "      <td>764018.92</td>\n",
       "      <td>1074769.92</td>\n",
       "      <td>3056492.88</td>\n",
       "      <td>...</td>\n",
       "      <td>810609.36</td>\n",
       "      <td>818269.86</td>\n",
       "      <td>629216.64</td>\n",
       "      <td>1467907.56</td>\n",
       "      <td>984992.90</td>\n",
       "      <td>959853.30</td>\n",
       "      <td>892596.88</td>\n",
       "      <td>528573.62</td>\n",
       "      <td>973928.60</td>\n",
       "      <td>972596.43</td>\n",
       "    </tr>\n",
       "    <tr>\n",
       "      <th>1</th>\n",
       "      <td>2</td>\n",
       "      <td>1</td>\n",
       "      <td>238</td>\n",
       "      <td>8897508.62</td>\n",
       "      <td>104198.40</td>\n",
       "      <td>61840.92</td>\n",
       "      <td>78523.02</td>\n",
       "      <td>128729.16</td>\n",
       "      <td>60789.84</td>\n",
       "      <td>18072.62</td>\n",
       "      <td>...</td>\n",
       "      <td>19140.84</td>\n",
       "      <td>12707.50</td>\n",
       "      <td>25131.87</td>\n",
       "      <td>24124.80</td>\n",
       "      <td>46132.35</td>\n",
       "      <td>51850.26</td>\n",
       "      <td>46478.41</td>\n",
       "      <td>17199.00</td>\n",
       "      <td>34500.62</td>\n",
       "      <td>37690.24</td>\n",
       "    </tr>\n",
       "    <tr>\n",
       "      <th>2</th>\n",
       "      <td>3</td>\n",
       "      <td>1</td>\n",
       "      <td>242</td>\n",
       "      <td>6461968.95</td>\n",
       "      <td>109497.00</td>\n",
       "      <td>152577.00</td>\n",
       "      <td>164024.00</td>\n",
       "      <td>204372.00</td>\n",
       "      <td>321545.70</td>\n",
       "      <td>346236.00</td>\n",
       "      <td>...</td>\n",
       "      <td>96203.00</td>\n",
       "      <td>33978.00</td>\n",
       "      <td>239729.60</td>\n",
       "      <td>67860.00</td>\n",
       "      <td>68478.00</td>\n",
       "      <td>105222.24</td>\n",
       "      <td>101646.00</td>\n",
       "      <td>79128.00</td>\n",
       "      <td>101248.00</td>\n",
       "      <td>367120.00</td>\n",
       "    </tr>\n",
       "    <tr>\n",
       "      <th>3</th>\n",
       "      <td>4</td>\n",
       "      <td>1</td>\n",
       "      <td>243</td>\n",
       "      <td>6822223.20</td>\n",
       "      <td>220467.28</td>\n",
       "      <td>161594.35</td>\n",
       "      <td>264893.44</td>\n",
       "      <td>300326.20</td>\n",
       "      <td>707391.68</td>\n",
       "      <td>327428.00</td>\n",
       "      <td>...</td>\n",
       "      <td>437946.60</td>\n",
       "      <td>7096.00</td>\n",
       "      <td>514560.06</td>\n",
       "      <td>1395147.39</td>\n",
       "      <td>984468.82</td>\n",
       "      <td>565263.30</td>\n",
       "      <td>286416.00</td>\n",
       "      <td>71518.14</td>\n",
       "      <td>155752.10</td>\n",
       "      <td>123690.00</td>\n",
       "    </tr>\n",
       "    <tr>\n",
       "      <th>4</th>\n",
       "      <td>5</td>\n",
       "      <td>1</td>\n",
       "      <td>261</td>\n",
       "      <td>36632811.84</td>\n",
       "      <td>4470974.95</td>\n",
       "      <td>1448461.05</td>\n",
       "      <td>1500694.38</td>\n",
       "      <td>944346.50</td>\n",
       "      <td>958685.76</td>\n",
       "      <td>1685234.07</td>\n",
       "      <td>...</td>\n",
       "      <td>429049.72</td>\n",
       "      <td>289330.13</td>\n",
       "      <td>578565.65</td>\n",
       "      <td>358484.80</td>\n",
       "      <td>440292.16</td>\n",
       "      <td>795697.65</td>\n",
       "      <td>565374.30</td>\n",
       "      <td>832022.43</td>\n",
       "      <td>1425134.40</td>\n",
       "      <td>2310369.30</td>\n",
       "    </tr>\n",
       "  </tbody>\n",
       "</table>\n",
       "<p>5 rows × 57 columns</p>\n",
       "</div>"
      ],
      "text/plain": [
       "   ID  date  product_id     09:30:00    09:35:00    09:40:00    09:45:00  \\\n",
       "0   1     1         236  24138818.08  2457975.00   741777.14   973487.28   \n",
       "1   2     1         238   8897508.62   104198.40    61840.92    78523.02   \n",
       "2   3     1         242   6461968.95   109497.00   152577.00   164024.00   \n",
       "3   4     1         243   6822223.20   220467.28   161594.35   264893.44   \n",
       "4   5     1         261  36632811.84  4470974.95  1448461.05  1500694.38   \n",
       "\n",
       "    09:50:00    09:55:00    10:00:00     ...       13:10:00   13:15:00  \\\n",
       "0  764018.92  1074769.92  3056492.88     ...      810609.36  818269.86   \n",
       "1  128729.16    60789.84    18072.62     ...       19140.84   12707.50   \n",
       "2  204372.00   321545.70   346236.00     ...       96203.00   33978.00   \n",
       "3  300326.20   707391.68   327428.00     ...      437946.60    7096.00   \n",
       "4  944346.50   958685.76  1685234.07     ...      429049.72  289330.13   \n",
       "\n",
       "    13:20:00    13:25:00   13:30:00   13:35:00   13:40:00   13:45:00  \\\n",
       "0  629216.64  1467907.56  984992.90  959853.30  892596.88  528573.62   \n",
       "1   25131.87    24124.80   46132.35   51850.26   46478.41   17199.00   \n",
       "2  239729.60    67860.00   68478.00  105222.24  101646.00   79128.00   \n",
       "3  514560.06  1395147.39  984468.82  565263.30  286416.00   71518.14   \n",
       "4  578565.65   358484.80  440292.16  795697.65  565374.30  832022.43   \n",
       "\n",
       "     13:50:00    13:55:00  \n",
       "0   973928.60   972596.43  \n",
       "1    34500.62    37690.24  \n",
       "2   101248.00   367120.00  \n",
       "3   155752.10   123690.00  \n",
       "4  1425134.40  2310369.30  \n",
       "\n",
       "[5 rows x 57 columns]"
      ]
     },
     "execution_count": 89,
     "metadata": {},
     "output_type": "execute_result"
    }
   ],
   "source": [
    "print Training.shape\n",
    "Training.head()"
   ]
  },
  {
   "cell_type": "code",
   "execution_count": 90,
   "metadata": {
    "collapsed": false
   },
   "outputs": [
    {
     "name": "stdout",
     "output_type": "stream",
     "text": [
      "(613220, 2)\n"
     ]
    },
    {
     "data": {
      "text/html": [
       "<div>\n",
       "<table border=\"1\" class=\"dataframe\">\n",
       "  <thead>\n",
       "    <tr style=\"text-align: right;\">\n",
       "      <th></th>\n",
       "      <th>ID</th>\n",
       "      <th>TARGET</th>\n",
       "    </tr>\n",
       "  </thead>\n",
       "  <tbody>\n",
       "    <tr>\n",
       "      <th>0</th>\n",
       "      <td>1</td>\n",
       "      <td>36523251.91</td>\n",
       "    </tr>\n",
       "    <tr>\n",
       "      <th>1</th>\n",
       "      <td>2</td>\n",
       "      <td>5645118.17</td>\n",
       "    </tr>\n",
       "    <tr>\n",
       "      <th>2</th>\n",
       "      <td>3</td>\n",
       "      <td>8103847.53</td>\n",
       "    </tr>\n",
       "    <tr>\n",
       "      <th>3</th>\n",
       "      <td>4</td>\n",
       "      <td>20047809.46</td>\n",
       "    </tr>\n",
       "    <tr>\n",
       "      <th>4</th>\n",
       "      <td>5</td>\n",
       "      <td>36833075.51</td>\n",
       "    </tr>\n",
       "  </tbody>\n",
       "</table>\n",
       "</div>"
      ],
      "text/plain": [
       "   ID       TARGET\n",
       "0   1  36523251.91\n",
       "1   2   5645118.17\n",
       "2   3   8103847.53\n",
       "3   4  20047809.46\n",
       "4   5  36833075.51"
      ]
     },
     "execution_count": 90,
     "metadata": {},
     "output_type": "execute_result"
    }
   ],
   "source": [
    "print Output.shape\n",
    "Output.head()"
   ]
  },
  {
   "cell_type": "code",
   "execution_count": 91,
   "metadata": {
    "collapsed": false
   },
   "outputs": [
    {
     "name": "stdout",
     "output_type": "stream",
     "text": [
      "(614098, 57)\n"
     ]
    },
    {
     "data": {
      "text/html": [
       "<div>\n",
       "<table border=\"1\" class=\"dataframe\">\n",
       "  <thead>\n",
       "    <tr style=\"text-align: right;\">\n",
       "      <th></th>\n",
       "      <th>ID</th>\n",
       "      <th>date</th>\n",
       "      <th>product_id</th>\n",
       "      <th>09:30:00</th>\n",
       "      <th>09:35:00</th>\n",
       "      <th>09:40:00</th>\n",
       "      <th>09:45:00</th>\n",
       "      <th>09:50:00</th>\n",
       "      <th>09:55:00</th>\n",
       "      <th>10:00:00</th>\n",
       "      <th>...</th>\n",
       "      <th>13:10:00</th>\n",
       "      <th>13:15:00</th>\n",
       "      <th>13:20:00</th>\n",
       "      <th>13:25:00</th>\n",
       "      <th>13:30:00</th>\n",
       "      <th>13:35:00</th>\n",
       "      <th>13:40:00</th>\n",
       "      <th>13:45:00</th>\n",
       "      <th>13:50:00</th>\n",
       "      <th>13:55:00</th>\n",
       "    </tr>\n",
       "  </thead>\n",
       "  <tbody>\n",
       "    <tr>\n",
       "      <th>0</th>\n",
       "      <td>618557</td>\n",
       "      <td>1885</td>\n",
       "      <td>236</td>\n",
       "      <td>2302200.0360</td>\n",
       "      <td>988064.0616</td>\n",
       "      <td>543489.991500</td>\n",
       "      <td>505995.0237</td>\n",
       "      <td>741703.9884</td>\n",
       "      <td>447160.007000</td>\n",
       "      <td>711509.977800</td>\n",
       "      <td>...</td>\n",
       "      <td>147245.9931</td>\n",
       "      <td>243313.99620</td>\n",
       "      <td>179172.0056</td>\n",
       "      <td>268716.0000</td>\n",
       "      <td>192089.997000</td>\n",
       "      <td>108850.9983</td>\n",
       "      <td>294813.9816</td>\n",
       "      <td>243238.007600</td>\n",
       "      <td>159849.997500</td>\n",
       "      <td>242934.0000</td>\n",
       "    </tr>\n",
       "    <tr>\n",
       "      <th>1</th>\n",
       "      <td>618558</td>\n",
       "      <td>1885</td>\n",
       "      <td>238</td>\n",
       "      <td>87239.9964</td>\n",
       "      <td>50791.9986</td>\n",
       "      <td>116016.003200</td>\n",
       "      <td>57944.0000</td>\n",
       "      <td>94418.9961</td>\n",
       "      <td>247689.993200</td>\n",
       "      <td>174960.004800</td>\n",
       "      <td>...</td>\n",
       "      <td>58184.0024</td>\n",
       "      <td>21809.99910</td>\n",
       "      <td>29104.0008</td>\n",
       "      <td>72699.9970</td>\n",
       "      <td>14552.000400</td>\n",
       "      <td>72809.9980</td>\n",
       "      <td>94809.0000</td>\n",
       "      <td>21887.999700</td>\n",
       "      <td>168061.000000</td>\n",
       "      <td>43848.0012</td>\n",
       "    </tr>\n",
       "    <tr>\n",
       "      <th>2</th>\n",
       "      <td>618559</td>\n",
       "      <td>1885</td>\n",
       "      <td>242</td>\n",
       "      <td>558983.7500</td>\n",
       "      <td>268320.7600</td>\n",
       "      <td>359088.736475</td>\n",
       "      <td>397291.8800</td>\n",
       "      <td>377122.4800</td>\n",
       "      <td>433278.553887</td>\n",
       "      <td>786367.949364</td>\n",
       "      <td>...</td>\n",
       "      <td>133100.0050</td>\n",
       "      <td>374543.41407</td>\n",
       "      <td>228502.0000</td>\n",
       "      <td>114207.9957</td>\n",
       "      <td>189646.642857</td>\n",
       "      <td>117518.8000</td>\n",
       "      <td>105959.9100</td>\n",
       "      <td>154334.714224</td>\n",
       "      <td>38355.558564</td>\n",
       "      <td>56175.0000</td>\n",
       "    </tr>\n",
       "    <tr>\n",
       "      <th>3</th>\n",
       "      <td>618560</td>\n",
       "      <td>1885</td>\n",
       "      <td>243</td>\n",
       "      <td>343979.9790</td>\n",
       "      <td>65540.0000</td>\n",
       "      <td>199957.993900</td>\n",
       "      <td>81850.0050</td>\n",
       "      <td>68754.0042</td>\n",
       "      <td>101555.993800</td>\n",
       "      <td>222088.000000</td>\n",
       "      <td>...</td>\n",
       "      <td>162199.9950</td>\n",
       "      <td>104095.99680</td>\n",
       "      <td>191868.0000</td>\n",
       "      <td>3254.0001</td>\n",
       "      <td>100874.003100</td>\n",
       "      <td>26007.9984</td>\n",
       "      <td>328250.0000</td>\n",
       "      <td>58572.001800</td>\n",
       "      <td>52032.000000</td>\n",
       "      <td>35760.9978</td>\n",
       "    </tr>\n",
       "    <tr>\n",
       "      <th>4</th>\n",
       "      <td>618561</td>\n",
       "      <td>1885</td>\n",
       "      <td>261</td>\n",
       "      <td>982676.0000</td>\n",
       "      <td>901675.9827</td>\n",
       "      <td>526209.979800</td>\n",
       "      <td>875279.9664</td>\n",
       "      <td>1735031.9336</td>\n",
       "      <td>1285104.049200</td>\n",
       "      <td>481528.000000</td>\n",
       "      <td>...</td>\n",
       "      <td>176460.0068</td>\n",
       "      <td>140211.00000</td>\n",
       "      <td>212708.0041</td>\n",
       "      <td>119324.0023</td>\n",
       "      <td>129899.997500</td>\n",
       "      <td>312059.9880</td>\n",
       "      <td>416239.9920</td>\n",
       "      <td>416160.000000</td>\n",
       "      <td>296400.000000</td>\n",
       "      <td>202838.9922</td>\n",
       "    </tr>\n",
       "  </tbody>\n",
       "</table>\n",
       "<p>5 rows × 57 columns</p>\n",
       "</div>"
      ],
      "text/plain": [
       "       ID  date  product_id      09:30:00     09:35:00       09:40:00  \\\n",
       "0  618557  1885         236  2302200.0360  988064.0616  543489.991500   \n",
       "1  618558  1885         238    87239.9964   50791.9986  116016.003200   \n",
       "2  618559  1885         242   558983.7500  268320.7600  359088.736475   \n",
       "3  618560  1885         243   343979.9790   65540.0000  199957.993900   \n",
       "4  618561  1885         261   982676.0000  901675.9827  526209.979800   \n",
       "\n",
       "      09:45:00      09:50:00        09:55:00       10:00:00     ...       \\\n",
       "0  505995.0237   741703.9884   447160.007000  711509.977800     ...        \n",
       "1   57944.0000    94418.9961   247689.993200  174960.004800     ...        \n",
       "2  397291.8800   377122.4800   433278.553887  786367.949364     ...        \n",
       "3   81850.0050    68754.0042   101555.993800  222088.000000     ...        \n",
       "4  875279.9664  1735031.9336  1285104.049200  481528.000000     ...        \n",
       "\n",
       "      13:10:00      13:15:00     13:20:00     13:25:00       13:30:00  \\\n",
       "0  147245.9931  243313.99620  179172.0056  268716.0000  192089.997000   \n",
       "1   58184.0024   21809.99910   29104.0008   72699.9970   14552.000400   \n",
       "2  133100.0050  374543.41407  228502.0000  114207.9957  189646.642857   \n",
       "3  162199.9950  104095.99680  191868.0000    3254.0001  100874.003100   \n",
       "4  176460.0068  140211.00000  212708.0041  119324.0023  129899.997500   \n",
       "\n",
       "      13:35:00     13:40:00       13:45:00       13:50:00     13:55:00  \n",
       "0  108850.9983  294813.9816  243238.007600  159849.997500  242934.0000  \n",
       "1   72809.9980   94809.0000   21887.999700  168061.000000   43848.0012  \n",
       "2  117518.8000  105959.9100  154334.714224   38355.558564   56175.0000  \n",
       "3   26007.9984  328250.0000   58572.001800   52032.000000   35760.9978  \n",
       "4  312059.9880  416239.9920  416160.000000  296400.000000  202838.9922  \n",
       "\n",
       "[5 rows x 57 columns]"
      ]
     },
     "execution_count": 91,
     "metadata": {},
     "output_type": "execute_result"
    }
   ],
   "source": [
    "print Testing.shape\n",
    "Testing.head()"
   ]
  },
  {
   "cell_type": "code",
   "execution_count": 134,
   "metadata": {
    "collapsed": false
   },
   "outputs": [
    {
     "name": "stdout",
     "output_type": "stream",
     "text": [
      "Number of product_id : 352\n",
      "Number of date : 1882\n"
     ]
    }
   ],
   "source": [
    "print 'Number of product_id :',len(Training['product_id'].unique())\n",
    "print 'Number of date :',len(Training['date'].unique())"
   ]
  },
  {
   "cell_type": "markdown",
   "metadata": {},
   "source": [
    "The main difficulty in this data set is the large numbers of missing values (sometimes more than one in a row) in the train set AND in the test set. So there is two difficulties in this challenge : predict the target values and deal with the missing values. "
   ]
  },
  {
   "cell_type": "code",
   "execution_count": 93,
   "metadata": {
    "collapsed": false
   },
   "outputs": [
    {
     "name": "stdout",
     "output_type": "stream",
     "text": [
      "Number of rows with missing values in the test set : 99273\n"
     ]
    }
   ],
   "source": [
    "print 'Number of rows with missing values in the test set :',Training.shape[0] - Training.dropna().shape[0]"
   ]
  },
  {
   "cell_type": "markdown",
   "metadata": {},
   "source": [
    "We study the number of missing values by row (for the rows with missing values) : in abscissa there is the number of missing values in the row and in ordonate the number of rows. We see that a lot of rows with missing values have only 1 ot 2 missing values. 3 rows are without data in the testing set."
   ]
  },
  {
   "cell_type": "code",
   "execution_count": 94,
   "metadata": {
    "collapsed": false
   },
   "outputs": [
    {
     "name": "stdout",
     "output_type": "stream",
     "text": [
      "Distribution of the rows with missing values in the train set\n"
     ]
    },
    {
     "data": {
      "text/plain": [
       "<matplotlib.axes._subplots.AxesSubplot at 0x10d938ed0>"
      ]
     },
     "execution_count": 94,
     "metadata": {},
     "output_type": "execute_result"
    },
    {
     "data": {
      "image/png": "[encoded data removed]",
      "text/plain": [
       "<matplotlib.figure.Figure at 0x10e525510>"
      ]
     },
     "metadata": {},
     "output_type": "display_data"
    }
   ],
   "source": [
    "print 'Distribution of the rows with missing values in the train set'\n",
    "(Training.shape[1] - Training.count(axis=1)).value_counts()[1:].plot(kind='bar',figsize=(14, 6))"
   ]
  },
  {
   "cell_type": "code",
   "execution_count": 95,
   "metadata": {
    "collapsed": false
   },
   "outputs": [
    {
     "name": "stdout",
     "output_type": "stream",
     "text": [
      "Distribution of the rows with missing values in the test set\n"
     ]
    },
    {
     "data": {
      "text/plain": [
       "<matplotlib.axes._subplots.AxesSubplot at 0x10d15bd10>"
      ]
     },
     "execution_count": 95,
     "metadata": {},
     "output_type": "execute_result"
    },
    {
     "data": {
      "image/png": "[encoded data removed]",
      "text/plain": [
       "<matplotlib.figure.Figure at 0x10d182250>"
      ]
     },
     "metadata": {},
     "output_type": "display_data"
    }
   ],
   "source": [
    "print 'Distribution of the rows with missing values in the test set'\n",
    "(Testing.shape[1] - Testing.count(axis=1)).value_counts()[1:].plot(kind='bar',figsize=(14, 6))"
   ]
  },
  {
   "cell_type": "markdown",
   "metadata": {},
   "source": [
    "The distribution are quite the same between the train set and the test set."
   ]
  },
  {
   "cell_type": "markdown",
   "metadata": {},
   "source": [
    "We also looked for the features with the most missing values."
   ]
  },
  {
   "cell_type": "code",
   "execution_count": 98,
   "metadata": {
    "collapsed": false
   },
   "outputs": [
    {
     "name": "stdout",
     "output_type": "stream",
     "text": [
      "Distribution of the missing values in the train set by features\n"
     ]
    },
    {
     "data": {
      "text/plain": [
       "<matplotlib.axes._subplots.AxesSubplot at 0x113fb1450>"
      ]
     },
     "execution_count": 98,
     "metadata": {},
     "output_type": "execute_result"
    },
    {
     "data": {
      "image/png": "[encoded data removed]",
      "text/plain": [
       "<matplotlib.figure.Figure at 0x10ede07d0>"
      ]
     },
     "metadata": {},
     "output_type": "display_data"
    }
   ],
   "source": [
    "print 'Distribution of the missing values in the train set by features'\n",
    "(Training.shape[0] - Training.count(axis=0)).sort_values(ascending=False)[:-3].plot(kind='bar',figsize=(14, 6))"
   ]
  },
  {
   "cell_type": "code",
   "execution_count": 99,
   "metadata": {
    "collapsed": false
   },
   "outputs": [
    {
     "name": "stdout",
     "output_type": "stream",
     "text": [
      "Distribution of the missing values in the test set by features\n"
     ]
    },
    {
     "data": {
      "text/plain": [
       "<matplotlib.axes._subplots.AxesSubplot at 0x115f8b110>"
      ]
     },
     "execution_count": 99,
     "metadata": {},
     "output_type": "execute_result"
    },
    {
     "data": {
      "image/png": "[encoded data removed]",
      "text/plain": [
       "<matplotlib.figure.Figure at 0x10ed03a50>"
      ]
     },
     "metadata": {},
     "output_type": "display_data"
    }
   ],
   "source": [
    "print 'Distribution of the missing values in the test set by features'\n",
    "(Testing.shape[0] - Testing.count(axis=0)).sort_values(ascending=False)[:-3].plot(kind='bar',figsize=(14, 6))"
   ]
  },
  {
   "cell_type": "markdown",
   "metadata": {},
   "source": [
    "We see that the two graphs are quite the same especially with a surrepresentation of the missing values for the first temporal variable '09:30:00'."
   ]
  },
  {
   "cell_type": "markdown",
   "metadata": {},
   "source": [
    "## The model without the missing values"
   ]
  },
  {
   "cell_type": "markdown",
   "metadata": {},
   "source": [
    "In a first time we decided to build our model without the missing values."
   ]
  },
  {
   "cell_type": "code",
   "execution_count": 100,
   "metadata": {
    "collapsed": true
   },
   "outputs": [],
   "source": [
    "train = pd.merge(Training, Output, on='ID', how='inner')\n",
    "train_full = train.drop(pd.isnull(train).any(1).nonzero()[0]).reset_index(drop=True)"
   ]
  },
  {
   "cell_type": "markdown",
   "metadata": {},
   "source": [
    "### Regression Model "
   ]
  },
  {
   "cell_type": "code",
   "execution_count": 128,
   "metadata": {
    "collapsed": false
   },
   "outputs": [],
   "source": [
    "features = train_full.drop(['ID','product_id','TARGET'], axis=1)\n",
    "X_columns = train_full.columns.drop(['ID','product_id','TARGET'])\n",
    "X = features.values\n",
    "y = train_full['TARGET'].values"
   ]
  },
  {
   "cell_type": "code",
   "execution_count": 129,
   "metadata": {
    "collapsed": true
   },
   "outputs": [],
   "source": [
    "from sklearn.cross_validation import train_test_split\n",
    "\n",
    "X_train, X_test, y_train, y_test = train_test_split(\n",
    "    X, y, test_size=0.2, random_state=0)"
   ]
  },
  {
   "cell_type": "code",
   "execution_count": 130,
   "metadata": {
    "collapsed": false
   },
   "outputs": [
    {
     "name": "stdout",
     "output_type": "stream",
     "text": [
      "MAPE : 29.6518196248\n",
      "CPU times: user 16min 32s, sys: 5.48 s, total: 16min 37s\n",
      "Wall time: 17min 7s\n"
     ]
    }
   ],
   "source": [
    "%%time\n",
    "from sklearn.ensemble import RandomForestRegressor\n",
    "from sklearn.cross_validation import cross_val_score\n",
    "\n",
    "n_estimators = 50\n",
    "max_depth = 15\n",
    "max_features = 40\n",
    "reg = RandomForestRegressor(n_estimators=n_estimators, max_depth=max_depth, max_features=max_features)\n",
    "\n",
    "reg.fit(X_train, y_train)\n",
    "\n",
    "y_pred = reg.predict(X_test)\n",
    "\n",
    "print \"MAPE :\", mean_absolute_percentage_error(y_test, y_pred)"
   ]
  },
  {
   "cell_type": "markdown",
   "metadata": {},
   "source": [
    "Here we focus on the importance of the variables."
   ]
  },
  {
   "cell_type": "code",
   "execution_count": 21,
   "metadata": {
    "collapsed": false
   },
   "outputs": [
    {
     "data": {
      "image/png": "[encoded data removed]",
      "text/plain": [
       "<matplotlib.figure.Figure at 0x10ddee890>"
      ]
     },
     "metadata": {},
     "output_type": "display_data"
    }
   ],
   "source": [
    "plt.figure(figsize=(15, 5))\n",
    "\n",
    "ordering = np.argsort(reg.feature_importances_)[::-1]\n",
    "\n",
    "importances = reg.feature_importances_[ordering]\n",
    "feature_names = X_columns[ordering]\n",
    "\n",
    "x = np.arange(len(feature_names))\n",
    "plt.bar(x, importances)\n",
    "plt.xticks(x + 0.5, feature_names, rotation=90, fontsize=15);"
   ]
  },
  {
   "cell_type": "markdown",
   "metadata": {},
   "source": [
    "We tried to relaunch the model without the features with the lowest importance which can bring noise in our regression. We try several possibilities but the results wasn't very convincing. However we dropped the 'date' variable (the least important one)."
   ]
  },
  {
   "cell_type": "markdown",
   "metadata": {},
   "source": [
    "We tried several other models but without success. For example, an Adaboost regressor :"
   ]
  },
  {
   "cell_type": "code",
   "execution_count": 39,
   "metadata": {
    "collapsed": false
   },
   "outputs": [
    {
     "name": "stdout",
     "output_type": "stream",
     "text": [
      "MAPE : 36.379279734\n",
      "CPU times: user 6min 59s, sys: 2.79 s, total: 7min 2s\n",
      "Wall time: 7min 7s\n"
     ]
    }
   ],
   "source": [
    "%%time\n",
    "from sklearn.ensemble import ExtraTreesRegressor\n",
    "from sklearn.cross_validation import cross_val_score\n",
    "from sklearn.ensemble import AdaBoostRegressor\n",
    "\n",
    "reg = ExtraTreesRegressor(n_estimators=10,\n",
    "                                      max_features=25,\n",
    "                                      max_depth=15)\n",
    "regto = AdaBoostRegressor(base_estimator=reg, n_estimators=20, learning_rate=0.8)\n",
    "\n",
    "\n",
    "regto.fit(X_train, y_train)\n",
    "\n",
    "y_pred = regto.predict(X_test)\n",
    "\n",
    "print \"MAPE :\", mean_absolute_percentage_error(y_test, y_pred)"
   ]
  },
  {
   "cell_type": "markdown",
   "metadata": {},
   "source": [
    "## Dealing with the missing values"
   ]
  },
  {
   "cell_type": "markdown",
   "metadata": {},
   "source": [
    "Like we saw earlier a lot of missing values are in the variable '09:30:00', moreover we see that this variable is one of the least important variable in our model. That's why we decide to drop it. The effect is that we augmented the size of the train set (because we take only the observations without missing values) without changing the performance of our model."
   ]
  },
  {
   "cell_type": "code",
   "execution_count": 103,
   "metadata": {
    "collapsed": false
   },
   "outputs": [
    {
     "name": "stdout",
     "output_type": "stream",
     "text": [
      "(613220, 58)\n",
      "(613220, 57)\n"
     ]
    }
   ],
   "source": [
    "Training_new = train.copy()\n",
    "Training_new.drop([\"09:30:00\"], axis=1, inplace=True)\n",
    "print train.shape\n",
    "print Training_new.shape"
   ]
  },
  {
   "cell_type": "code",
   "execution_count": 102,
   "metadata": {
    "collapsed": false
   },
   "outputs": [
    {
     "name": "stdout",
     "output_type": "stream",
     "text": [
      "Number of rows without missing values with the feature 09:30:00 in train set : 513947\n",
      "Number of rows without missing values without the feature 09:30:00 in train set: 534215\n"
     ]
    }
   ],
   "source": [
    "print 'Number of rows without missing values with the feature 09:30:00 in train set :', train.drop(pd.isnull\n",
    "                                                                        (train).any(1).nonzero()[0]).shape[0]\n",
    "print 'Number of rows without missing values without the feature 09:30:00 in train set:', Training_new.drop(pd.isnull\n",
    "                                                                        (Training_new).any(1).nonzero()[0]).shape[0]"
   ]
  },
  {
   "cell_type": "code",
   "execution_count": 79,
   "metadata": {
    "collapsed": false
   },
   "outputs": [
    {
     "name": "stdout",
     "output_type": "stream",
     "text": [
      "(614098, 57)\n",
      "(614098, 56)\n"
     ]
    }
   ],
   "source": [
    "Testing_new = Testing.copy()\n",
    "Testing_new.drop([\"09:30:00\"], axis=1, inplace=True)\n",
    "print Testing.shape\n",
    "print Testing_new.shape"
   ]
  },
  {
   "cell_type": "code",
   "execution_count": 80,
   "metadata": {
    "collapsed": false
   },
   "outputs": [
    {
     "name": "stdout",
     "output_type": "stream",
     "text": [
      "Number of rows without missing values with the feature 09:30:00 in train set : 514539\n",
      "Number of rows without missing values without the feature 09:30:00 in train set: 535162\n"
     ]
    }
   ],
   "source": [
    "print 'Number of rows without missing values with the feature 09:30:00 in train set :', Testing.drop(pd.isnull\n",
    "                                                                        (Testing).any(1).nonzero()[0]).shape[0]\n",
    "print 'Number of rows without missing values without the feature 09:30:00 in train set:', Testing_new.drop(pd.isnull\n",
    "                                                                        (Testing_new).any(1).nonzero()[0]).shape[0]"
   ]
  },
  {
   "cell_type": "markdown",
   "metadata": {},
   "source": [
    "In the test set and the train set this method allows us to gain around 20000 observations without missing values. We thus gain in size for the train set and the observations of the test set that we can predict with our model."
   ]
  },
  {
   "cell_type": "code",
   "execution_count": 135,
   "metadata": {
    "collapsed": true
   },
   "outputs": [],
   "source": [
    "train_full = Training_new.drop(pd.isnull(Training_new).any(1).nonzero()[0])"
   ]
  },
  {
   "cell_type": "code",
   "execution_count": 136,
   "metadata": {
    "collapsed": false
   },
   "outputs": [],
   "source": [
    "features = train_full.drop(['ID','product_id','date','TARGET'], axis=1)\n",
    "X_columns = train_full.columns.drop(['ID','product_id','date','TARGET'])\n",
    "X = features.values\n",
    "y = train_full['TARGET'].values"
   ]
  },
  {
   "cell_type": "code",
   "execution_count": 138,
   "metadata": {
    "collapsed": false
   },
   "outputs": [],
   "source": [
    "from sklearn.cross_validation import train_test_split\n",
    "\n",
    "X_train, X_test, y_train, y_test = train_test_split(\n",
    "    X, y, test_size=0.2, random_state=0)"
   ]
  },
  {
   "cell_type": "code",
   "execution_count": 139,
   "metadata": {
    "collapsed": false
   },
   "outputs": [
    {
     "name": "stdout",
     "output_type": "stream",
     "text": [
      "MAPE : 29.6611811791\n",
      "CPU times: user 15min 31s, sys: 2.87 s, total: 15min 34s\n",
      "Wall time: 15min 37s\n"
     ]
    }
   ],
   "source": [
    "%%time\n",
    "from sklearn.ensemble import RandomForestRegressor\n",
    "from sklearn.cross_validation import cross_val_score\n",
    "\n",
    "n_estimators = 50\n",
    "max_depth = 15\n",
    "max_features = 40\n",
    "reg = RandomForestRegressor(n_estimators=n_estimators, max_depth=max_depth, max_features=max_features)\n",
    "\n",
    "reg.fit(X_train, y_train)\n",
    "\n",
    "y_pred = reg.predict(X_test)\n",
    "\n",
    "print \"MAPE :\", mean_absolute_percentage_error(y_test, y_pred)"
   ]
  },
  {
   "cell_type": "markdown",
   "metadata": {},
   "source": [
    "### Fill missing values."
   ]
  },
  {
   "cell_type": "markdown",
   "metadata": {},
   "source": [
    "We tried several ways to interpolate the missing values : sklearn's Imputer (the worst we tried), linearly interpolation with scipy's interpolate ... We will show only our best try : the time interpolation method from scipy."
   ]
  },
  {
   "cell_type": "markdown",
   "metadata": {},
   "source": [
    "We separate the train set : the observations without missing values (train_filled) and the observations with missing values (train_missing)."
   ]
  },
  {
   "cell_type": "code",
   "execution_count": 143,
   "metadata": {
    "collapsed": false
   },
   "outputs": [
    {
     "name": "stdout",
     "output_type": "stream",
     "text": [
      "(534215, 57)\n"
     ]
    }
   ],
   "source": [
    "train_filled = Training_new.drop(pd.isnull(Training_new).any(1).nonzero()[0]).reset_index(drop=True)\n",
    "train_missing = Training_new[~Training_new[\"ID\"].isin(train_filled[\"ID\"].tolist())]\n",
    "print train_filled.shape"
   ]
  },
  {
   "cell_type": "markdown",
   "metadata": {},
   "source": [
    "Present time-wise interpolation for one single row, with missing values."
   ]
  },
  {
   "cell_type": "code",
   "execution_count": 149,
   "metadata": {
    "collapsed": false
   },
   "outputs": [
    {
     "name": "stdout",
     "output_type": "stream",
     "text": [
      "Missing values : 28\n"
     ]
    },
    {
     "data": {
      "text/plain": [
       "<matplotlib.axes._subplots.AxesSubplot at 0x10adb1350>"
      ]
     },
     "execution_count": 149,
     "metadata": {},
     "output_type": "execute_result"
    },
    {
     "data": {
      "image/png": "[encoded data removed]",
      "text/plain": [
       "<matplotlib.figure.Figure at 0x10f8315d0>"
      ]
     },
     "metadata": {},
     "output_type": "display_data"
    }
   ],
   "source": [
    "row = train_missing.drop([\"ID\", \"date\", \"product_id\", \"TARGET\"], axis=1).ix[613193] # [62691]\n",
    "row.index = pd.to_datetime(row.index)\n",
    "print \"Missing values :\", np.isnan(row).sum()\n",
    "\n",
    "d = {\"time\": row.interpolate(method=\"time\"),\"none\": row}\n",
    "pd.DataFrame(d).plot(color=['black','lightcoral'])"
   ]
  },
  {
   "cell_type": "markdown",
   "metadata": {},
   "source": [
    "We filled all the observations."
   ]
  },
  {
   "cell_type": "code",
   "execution_count": 150,
   "metadata": {
    "collapsed": false
   },
   "outputs": [
    {
     "name": "stderr",
     "output_type": "stream",
     "text": [
      "/Users/Arnaud/anaconda2/lib/python2.7/site-packages/pandas/core/frame.py:2320: SettingWithCopyWarning: \n",
      "A value is trying to be set on a copy of a slice from a DataFrame.\n",
      "Try using .loc[row_indexer,col_indexer] = value instead\n",
      "\n",
      "See the caveats in the documentation: http://pandas.pydata.org/pandas-docs/stable/indexing.html#indexing-view-versus-copy\n",
      "  self[k1] = value[k2]\n"
     ]
    }
   ],
   "source": [
    "def fill_missing_time(row):\n",
    "    \n",
    "    row.index = pd.to_datetime(row.index)\n",
    "    return row.interpolate(method=\"time\").fillna(method=\"backfill\")\n",
    "\n",
    "numeric_cols = train_missing.columns.drop([\"ID\", \"date\", \"product_id\", \"TARGET\"])\n",
    "train_missing[numeric_cols] = train_missing[numeric_cols].apply(fill_missing_time, axis=1)"
   ]
  },
  {
   "cell_type": "code",
   "execution_count": 153,
   "metadata": {
    "collapsed": false
   },
   "outputs": [
    {
     "name": "stdout",
     "output_type": "stream",
     "text": [
      "Dataset shape after filling :\n",
      "(613199, 57)\n"
     ]
    }
   ],
   "source": [
    "train_full = pd.concat([train_filled, train_missing], axis=0)\n",
    "print \"Dataset shape after filling :\\n\", train_full.shape"
   ]
  },
  {
   "cell_type": "code",
   "execution_count": 154,
   "metadata": {
    "collapsed": true
   },
   "outputs": [],
   "source": [
    "features = train_full.drop([\"ID\", \"date\", \"product_id\", \"TARGET\"], axis=1)\n",
    "X_columns = train_full.columns.drop([\"ID\", \"date\", \"product_id\", \"TARGET\"])\n",
    "X, y = features.values, train_full['TARGET'].values"
   ]
  },
  {
   "cell_type": "code",
   "execution_count": 155,
   "metadata": {
    "collapsed": true
   },
   "outputs": [],
   "source": [
    "X_train, X_test, y_train, y_test = train_test_split(\n",
    "    X, y, test_size=0.2, random_state=42)"
   ]
  },
  {
   "cell_type": "code",
   "execution_count": 156,
   "metadata": {
    "collapsed": false
   },
   "outputs": [
    {
     "name": "stdout",
     "output_type": "stream",
     "text": [
      "MAPE : 439.233756321\n",
      "CPU times: user 18min 32s, sys: 4.36 s, total: 18min 36s\n",
      "Wall time: 18min 46s\n"
     ]
    }
   ],
   "source": [
    "%%time\n",
    "from sklearn.ensemble import RandomForestRegressor\n",
    "from sklearn.cross_validation import cross_val_score\n",
    "\n",
    "n_estimators = 50\n",
    "max_depth = 15\n",
    "max_features = 40\n",
    "reg = RandomForestRegressor(n_estimators=n_estimators, max_depth=max_depth, max_features=max_features)\n",
    "\n",
    "reg.fit(X_train, y_train)\n",
    "\n",
    "y_pred = reg.predict(X_test)\n",
    "\n",
    "print \"MAPE :\", mean_absolute_percentage_error(y_test, y_pred)"
   ]
  },
  {
   "cell_type": "markdown",
   "metadata": {},
   "source": [
    "We tested here only on the observations with missing values, the result is pretty bad."
   ]
  },
  {
   "cell_type": "markdown",
   "metadata": {},
   "source": [
    "## How not to interpolate "
   ]
  },
  {
   "cell_type": "markdown",
   "metadata": {
    "collapsed": true
   },
   "source": [
    "One important remark : the metric we use penalizes not only the distance between the true value and the value predicted but also the relative position of these two. For example let's y_pred our prediction and y_true the true value: if y_pred = 10 and y_true = 100, the distance between the two is 90 and the MAPE is 90% but if y_pred = 100 and y_true = 10, the distance is still 90 but the MAPE is now 900%. That's why we decided that for the value with too many missing values we will assign the minimum if the TARGET in the train set for this product, this way we have a maximum of 100% error for these observations. That's a way to limit the error for the observations with missing values. So we test this on the observations of the train set with missing values."
   ]
  },
  {
   "cell_type": "code",
   "execution_count": 105,
   "metadata": {
    "collapsed": false
   },
   "outputs": [
    {
     "name": "stdout",
     "output_type": "stream",
     "text": [
      "train_filled (534215, 57)\n",
      "train_missing (79005, 57)\n"
     ]
    }
   ],
   "source": [
    "train_filled = Training_new.drop(pd.isnull(Training_new).any(1).nonzero()[0]).reset_index(drop=True)\n",
    "train_missing = Training_new[~Training_new[\"ID\"].isin(train_filled[\"ID\"].tolist())]\n",
    "\n",
    "print 'train_filled',train_filled.shape\n",
    "print 'train_missing',train_missing.shape"
   ]
  },
  {
   "cell_type": "code",
   "execution_count": 110,
   "metadata": {
    "collapsed": false
   },
   "outputs": [
    {
     "name": "stdout",
     "output_type": "stream",
     "text": [
      "MAPE : 83.5862773074\n"
     ]
    }
   ],
   "source": [
    "min_per_product_id = train.groupby(\"product_id\").agg({\"TARGET\": np.min})\n",
    "\n",
    "validation_under = train_missing[[\"ID\", \"product_id\"]].copy().join(min_per_product_id, on=\"product_id\")\n",
    "validation = validation_under.sort_values(by=\"ID\")\n",
    "\n",
    "print \"MAPE :\", mean_absolute_percentage_error(train_missing[\"TARGET\"].values, validation[\"TARGET\"].values)"
   ]
  },
  {
   "cell_type": "markdown",
   "metadata": {},
   "source": [
    "So for these observations we have a MAPE of 84%. But we observed also that by product, the feature 'TARGET' has a large standard deviation (almost equal to the mean)."
   ]
  },
  {
   "cell_type": "code",
   "execution_count": 119,
   "metadata": {
    "collapsed": false
   },
   "outputs": [
    {
     "data": {
      "text/html": [
       "<div>\n",
       "<table border=\"1\" class=\"dataframe\">\n",
       "  <thead>\n",
       "    <tr style=\"text-align: right;\">\n",
       "      <th></th>\n",
       "      <th>TARGET_mean</th>\n",
       "      <th>TARGET_std</th>\n",
       "    </tr>\n",
       "    <tr>\n",
       "      <th>product_id</th>\n",
       "      <th></th>\n",
       "      <th></th>\n",
       "    </tr>\n",
       "  </thead>\n",
       "  <tbody>\n",
       "    <tr>\n",
       "      <th>236</th>\n",
       "      <td>24157732.043920</td>\n",
       "      <td>17776699.155772</td>\n",
       "    </tr>\n",
       "    <tr>\n",
       "      <th>238</th>\n",
       "      <td>5825229.925770</td>\n",
       "      <td>4655058.589438</td>\n",
       "    </tr>\n",
       "    <tr>\n",
       "      <th>242</th>\n",
       "      <td>19649724.759512</td>\n",
       "      <td>15224305.210163</td>\n",
       "    </tr>\n",
       "    <tr>\n",
       "      <th>243</th>\n",
       "      <td>8249545.655585</td>\n",
       "      <td>6406010.022325</td>\n",
       "    </tr>\n",
       "    <tr>\n",
       "      <th>261</th>\n",
       "      <td>30402004.119214</td>\n",
       "      <td>20845333.894698</td>\n",
       "    </tr>\n",
       "  </tbody>\n",
       "</table>\n",
       "</div>"
      ],
      "text/plain": [
       "                TARGET_mean       TARGET_std\n",
       "product_id                                  \n",
       "236         24157732.043920  17776699.155772\n",
       "238          5825229.925770   4655058.589438\n",
       "242         19649724.759512  15224305.210163\n",
       "243          8249545.655585   6406010.022325\n",
       "261         30402004.119214  20845333.894698"
      ]
     },
     "execution_count": 119,
     "metadata": {},
     "output_type": "execute_result"
    }
   ],
   "source": [
    "mean_per_product_id = train.groupby(\"product_id\").agg({\"TARGET\": np.mean})\n",
    "mean_per_product_id.columns = ['TARGET_mean']\n",
    "\n",
    "std_per_product_id = train.groupby(\"product_id\").agg({\"TARGET\": np.std})\n",
    "std_per_product_id.columns = ['TARGET_std']\n",
    "\n",
    "pd.concat([mean_per_product_id, std_per_product_id], axis=1).head()"
   ]
  },
  {
   "cell_type": "markdown",
   "metadata": {},
   "source": [
    "It means that the minimum is far from the other values. So we decided to use not the minimum but a value above, we tried many possibilities."
   ]
  },
  {
   "cell_type": "code",
   "execution_count": 122,
   "metadata": {
    "collapsed": false
   },
   "outputs": [
    {
     "name": "stdout",
     "output_type": "stream",
     "text": [
      "MAPE : 83.5862773074\n",
      "MAPE : 69.9682064614\n",
      "MAPE : 62.706405248\n",
      "MAPE : 61.7711984429\n",
      "MAPE : 65.5130846126\n"
     ]
    }
   ],
   "source": [
    "print \"MAPE :\", mean_absolute_percentage_error(train_missing[\"TARGET\"].values, validation[\"TARGET\"].values)\n",
    "print \"MAPE :\", mean_absolute_percentage_error(train_missing[\"TARGET\"].values, 2*validation[\"TARGET\"].values)\n",
    "print \"MAPE :\", mean_absolute_percentage_error(train_missing[\"TARGET\"].values, 3*validation[\"TARGET\"].values)\n",
    "print \"MAPE :\", mean_absolute_percentage_error(train_missing[\"TARGET\"].values, 4*validation[\"TARGET\"].values)\n",
    "print \"MAPE :\", mean_absolute_percentage_error(train_missing[\"TARGET\"].values, 5*validation[\"TARGET\"].values)"
   ]
  },
  {
   "cell_type": "code",
   "execution_count": null,
   "metadata": {
    "collapsed": true
   },
   "outputs": [],
   "source": []
  }
 ],
 "metadata": {
  "kernelspec": {
   "display_name": "Python 2",
   "language": "python",
   "name": "python2"
  },
  "language_info": {
   "codemirror_mode": {
    "name": "ipython",
    "version": 2
   },
   "file_extension": ".py",
   "mimetype": "text/x-python",
   "name": "python",
   "nbconvert_exporter": "python",
   "pygments_lexer": "ipython2",
   "version": "2.7.10"
  }
 },
 "nbformat": 4,
 "nbformat_minor": 0
}
