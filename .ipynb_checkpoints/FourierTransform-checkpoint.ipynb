{
 "cells": [
  {
   "cell_type": "code",
   "execution_count": 634,
   "metadata": {
    "collapsed": true
   },
   "outputs": [],
   "source": [
    "%matplotlib inline\n",
    "import matplotlib.pyplot as plt"
   ]
  },
  {
   "cell_type": "code",
   "execution_count": 635,
   "metadata": {
    "collapsed": false
   },
   "outputs": [],
   "source": [
    "import numpy as np\n",
    "import pandas as pd\n",
    "import pywt\n",
    "from sklearn.cross_validation import train_test_split\n",
    "from sklearn.ensemble import RandomForestRegressor\n",
    "from sklearn.cross_validation import cross_val_score\n",
    "from sklearn.grid_search import GridSearchCV"
   ]
  },
  {
   "cell_type": "code",
   "execution_count": 531,
   "metadata": {
    "collapsed": true
   },
   "outputs": [],
   "source": [
    "pd.options.mode.chained_assignment = None  # default='warn'"
   ]
  },
  {
   "cell_type": "code",
   "execution_count": 636,
   "metadata": {
    "collapsed": true
   },
   "outputs": [],
   "source": [
    "class DictT(object):\n",
    "\n",
    "    def __init__(self, name, level):\n",
    "            self.name = name\n",
    "            self.level = level\n",
    "            self.sizes = []\n",
    "\n",
    "    def dot(self, mat):\n",
    "\n",
    "        m = []\n",
    "\n",
    "        if mat.shape[0] != mat.size:\n",
    "            for i in xrange(mat.shape[1]):\n",
    "                c = pywt.wavedec(mat[:, i], self.name, level=self.level)\n",
    "                self.sizes.append(map(len, c))\n",
    "                c = np.concatenate(c)\n",
    "                m.append(c)\n",
    "            return np.asarray(m).T\n",
    "        else:\n",
    "            c = pywt.wavedec(mat, self.name, level=self.level)\n",
    "            self.sizes.append(map(len, c))\n",
    "            return np.concatenate(c)"
   ]
  },
  {
   "cell_type": "markdown",
   "metadata": {},
   "source": [
    "### Import data."
   ]
  },
  {
   "cell_type": "code",
   "execution_count": 637,
   "metadata": {
    "collapsed": false
   },
   "outputs": [],
   "source": [
    "train = pd.read_csv('Data/training_input.csv', delimiter=',')\n",
    "output = pd.read_csv('Data/training_output.csv', delimiter=';')\n",
    "test = pd.read_csv('Data/testing_input.csv', delimiter=',')"
   ]
  },
  {
   "cell_type": "markdown",
   "metadata": {},
   "source": [
    "Train_filled contains all the rows with no missing values.    \n",
    "Train_missing contains the rest of the training data. One important aspect of this project is thus to fill conviently all the missing values present in the training set.\n",
    "\n",
    "_NB :_ Several rows within the testing test contains no values at all. For these, we will simply use the mean on the overall dataset to fill them."
   ]
  },
  {
   "cell_type": "code",
   "execution_count": 638,
   "metadata": {
    "collapsed": false
   },
   "outputs": [],
   "source": [
    "train = pd.merge(train, output, on='ID', how='inner')"
   ]
  },
  {
   "cell_type": "code",
   "execution_count": 639,
   "metadata": {
    "collapsed": true
   },
   "outputs": [],
   "source": [
    "train_filled = train.drop(pd.isnull(train).any(1).nonzero()[0]).reset_index(drop=True)\n",
    "train_missing = train[~train[\"ID\"].isin(train_filled[\"ID\"].tolist())]"
   ]
  },
  {
   "cell_type": "code",
   "execution_count": 640,
   "metadata": {
    "collapsed": false
   },
   "outputs": [
    {
     "data": {
      "text/html": [
       "<div>\n",
       "<table border=\"1\" class=\"dataframe\">\n",
       "  <thead>\n",
       "    <tr style=\"text-align: right;\">\n",
       "      <th></th>\n",
       "      <th>Incompletion Rate</th>\n",
       "    </tr>\n",
       "  </thead>\n",
       "  <tbody>\n",
       "    <tr>\n",
       "      <th>09:30:00</th>\n",
       "      <td>0.306488</td>\n",
       "    </tr>\n",
       "    <tr>\n",
       "      <th>12:40:00</th>\n",
       "      <td>0.093852</td>\n",
       "    </tr>\n",
       "    <tr>\n",
       "      <th>12:50:00</th>\n",
       "      <td>0.093711</td>\n",
       "    </tr>\n",
       "    <tr>\n",
       "      <th>13:05:00</th>\n",
       "      <td>0.093359</td>\n",
       "    </tr>\n",
       "    <tr>\n",
       "      <th>12:55:00</th>\n",
       "      <td>0.092533</td>\n",
       "    </tr>\n",
       "  </tbody>\n",
       "</table>\n",
       "</div>"
      ],
      "text/plain": [
       "          Incompletion Rate\n",
       "09:30:00           0.306488\n",
       "12:40:00           0.093852\n",
       "12:50:00           0.093711\n",
       "13:05:00           0.093359\n",
       "12:55:00           0.092533"
      ]
     },
     "execution_count": 640,
     "metadata": {},
     "output_type": "execute_result"
    }
   ],
   "source": [
    "incompletion = pd.DataFrame(train_missing.applymap(np.isnan).mean(axis=0).sort_values(ascending=False))\n",
    "incompletion.columns = [\"Incompletion Rate\"]\n",
    "incompletion.head()"
   ]
  },
  {
   "cell_type": "markdown",
   "metadata": {},
   "source": [
    "Thus we drop the '09:30:00' column."
   ]
  },
  {
   "cell_type": "code",
   "execution_count": 552,
   "metadata": {
    "collapsed": false
   },
   "outputs": [],
   "source": [
    "train.drop([\"09:30:00\"], axis=1, inplace=True)\n",
    "test.drop([\"09:30:00\"], axis=1, inplace=True)\n",
    "train_filled = train.drop(pd.isnull(train).any(1).nonzero()[0]).reset_index(drop=True)\n",
    "train_missing = train[~train[\"ID\"].isin(train_filled[\"ID\"].tolist())]"
   ]
  },
  {
   "cell_type": "markdown",
   "metadata": {},
   "source": [
    "### Fill missing values.\n",
    "Present time-wise interpolation for one single row, with missing values."
   ]
  },
  {
   "cell_type": "code",
   "execution_count": 554,
   "metadata": {
    "collapsed": false
   },
   "outputs": [
    {
     "name": "stdout",
     "output_type": "stream",
     "text": [
      "Missing values : 28\n"
     ]
    },
    {
     "data": {
      "text/plain": [
       "<matplotlib.axes._subplots.AxesSubplot at 0x150ecbad0>"
      ]
     },
     "execution_count": 554,
     "metadata": {},
     "output_type": "execute_result"
    },
    {
     "data": {
      "image/png": "[encoded data removed]",
      "text/plain": [
       "<matplotlib.figure.Figure at 0x150e2efd0>"
      ]
     },
     "metadata": {},
     "output_type": "display_data"
    }
   ],
   "source": [
    "row = train_missing.drop([\"ID\", \"date\", \"product_id\", \"TARGET\"], axis=1).ix[613193] # [62691]\n",
    "row.index = pd.to_datetime(row.index)\n",
    "print \"Missing values :\", np.isnan(row).sum()\n",
    "\n",
    "d = {\"none\": row, \"time\": row.interpolate(method=\"time\")}\n",
    "pd.DataFrame(d).plot()"
   ]
  },
  {
   "cell_type": "code",
   "execution_count": 336,
   "metadata": {
    "collapsed": false
   },
   "outputs": [],
   "source": [
    "def fill_missing_time(row):\n",
    "    \n",
    "    row.index = pd.to_datetime(row.index)\n",
    "    return row.interpolate(method=\"time\").fillna(method=\"backfill\")\n",
    "\n",
    "numeric_cols = train_missing.columns.drop([\"ID\", \"date\", \"product_id\", \"TARGET\"])\n",
    "train_missing[numeric_cols] = train_missing[numeric_cols].apply(fill_missing_time, axis=1)"
   ]
  },
  {
   "cell_type": "markdown",
   "metadata": {},
   "source": [
    "After this step, the only remaining rows with missing values are the one with no entries at all.\n",
    "We discard them from the training set, and we will use a mean Imputer for the 4 entries from the testing set."
   ]
  },
  {
   "cell_type": "code",
   "execution_count": 294,
   "metadata": {
    "collapsed": false
   },
   "outputs": [],
   "source": [
    "novalues_index = train_missing[train_missing[numeric_cols].isnull().all(axis=1)].index\n",
    "train_missing.drop(novalues_index, axis=0, inplace=True)"
   ]
  },
  {
   "cell_type": "markdown",
   "metadata": {},
   "source": [
    "Another key issue is that the first timestamp for stock market trade, at 09:30, takes into account all previous orders that couldn't be completed the past day. Hence, backward filling this specific value makes little sense.\n",
    "As we saw that this feature has little importance (looking at fully-filled training data), we decide here to remove it."
   ]
  },
  {
   "cell_type": "code",
   "execution_count": 553,
   "metadata": {
    "collapsed": false
   },
   "outputs": [
    {
     "name": "stdout",
     "output_type": "stream",
     "text": [
      "Dataset shape after filling :\n",
      "(534215, 57)\n"
     ]
    }
   ],
   "source": [
    "# train_full = pd.concat([train_filled.drop([\"09:30:00\"], axis=1), train_missing.drop([\"09:30:00\"], axis=1)], axis=0)\n",
    "train_full = train_filled\n",
    "print \"Dataset shape after filling :\\n\", train_full.shape"
   ]
  },
  {
   "cell_type": "markdown",
   "metadata": {},
   "source": [
    "### Training a supervised model"
   ]
  },
  {
   "cell_type": "code",
   "execution_count": null,
   "metadata": {
    "collapsed": true
   },
   "outputs": [],
   "source": [
    "wave_name = 'db15'\n",
    "wave_level = None\n",
    "wavelet_operator_t = DictT(level=wave_level, name=wave_name)\n",
    "\n",
    "basis_t = wavelet_operator_t.dot(np.identity(x.shape[1]))\n",
    "basis_t /= np.sqrt(np.sum(basis_t ** 2, axis=0))\n",
    "basis = basis_t.T"
   ]
  },
  {
   "cell_type": "code",
   "execution_count": 555,
   "metadata": {
    "collapsed": false
   },
   "outputs": [],
   "source": [
    "features = train_full.drop([\"ID\", \"date\", \"product_id\", \"TARGET\"], axis=1)\n",
    "X_columns = train_full.columns.drop([\"ID\", \"date\", \"product_id\", \"TARGET\"])\n",
    "X, y = features.values, train_full['TARGET'].values\n",
    "\n",
    "X_train, X_test, y_train, y_test = train_test_split(\n",
    "    X.dot(basis), y, test_size=0.2, random_state=42)"
   ]
  },
  {
   "cell_type": "code",
   "execution_count": 556,
   "metadata": {
    "collapsed": false
   },
   "outputs": [
    {
     "name": "stdout",
     "output_type": "stream",
     "text": [
      "CPU times: user 16min 8s, sys: 6.62 s, total: 16min 15s\n",
      "Wall time: 5min 40s\n"
     ]
    }
   ],
   "source": [
    "%%time\n",
    "\n",
    "n_estimators = 50\n",
    "max_depth = 15\n",
    "max_features = 25\n",
    "reg = RandomForestRegressor(n_estimators=n_estimators, max_depth=max_depth, max_features=max_features, n_jobs=-1)\n",
    "\n",
    "reg.fit(X_train, y_train)"
   ]
  },
  {
   "cell_type": "code",
   "execution_count": 557,
   "metadata": {
    "collapsed": false
   },
   "outputs": [
    {
     "name": "stdout",
     "output_type": "stream",
     "text": [
      "(427372, 53)\n",
      "MAPE : 29.563969929\n"
     ]
    }
   ],
   "source": [
    "y_pred = reg.predict(X_test)\n",
    "print X_train.shape\n",
    "print \"MAPE :\", mean_absolute_percentage_error(y_test, y_pred)"
   ]
  },
  {
   "cell_type": "code",
   "execution_count": 578,
   "metadata": {
    "collapsed": false
   },
   "outputs": [],
   "source": [
    "numeric_cols = train_missing.columns.drop([\"ID\", \"date\", \"product_id\", \"TARGET\"])\n",
    "v_idxs = train_missing[numeric_cols].applymap(np.isnan).sum(axis=1) \n",
    "v_under_threshold = v_idxs[v_idxs >= 2].index\n",
    "v_above_threshold = v_idxs[v_idxs < 2].index"
   ]
  },
  {
   "cell_type": "markdown",
   "metadata": {},
   "source": [
    "Above threshold"
   ]
  },
  {
   "cell_type": "code",
   "execution_count": 579,
   "metadata": {
    "collapsed": false
   },
   "outputs": [],
   "source": [
    "train_missing.ix[v_above_threshold, numeric_cols] = train_missing.ix[v_above_threshold, numeric_cols].\\\n",
    "    apply(fill_missing_time, axis=1)\n",
    "y_v_above = reg.predict(train_missing.ix[v_above_threshold, numeric_cols].values)\n",
    "\n",
    "validation_above = train_missing.ix[v_above_threshold, [\"ID\", \"product_id\"]].copy()\n",
    "validation_above[\"TARGET\"] = y_v_above"
   ]
  },
  {
   "cell_type": "markdown",
   "metadata": {},
   "source": [
    "Under threshold"
   ]
  },
  {
   "cell_type": "code",
   "execution_count": 603,
   "metadata": {
    "collapsed": false
   },
   "outputs": [
    {
     "name": "stdout",
     "output_type": "stream",
     "text": [
      "MAPE : 61.7711984429\n",
      "MAPE : 7.95837306836\n"
     ]
    }
   ],
   "source": [
    "min_per_product_id = train.groupby(\"product_id\").agg({\"TARGET\": np.min})\n",
    "\n",
    "#validation_under = train_missing.ix[v_under_threshold, [\"ID\", \"product_id\"]].copy().join(min_per_product_id, on=\"product_id\")\n",
    "#validation = pd.concat([validation_under, validation_above], axis=0).sort_values(by=\"ID\")\n",
    "\n",
    "validation_under = train_missing[[\"ID\", \"product_id\"]].copy().join(min_per_product_id, on=\"product_id\")\n",
    "validation = validation_under.sort_values(by=\"ID\")\n",
    "\n",
    "print \"MAPE :\", mean_absolute_percentage_error(train_missing[\"TARGET\"].values, 4 * validation[\"TARGET\"].values)\n",
    "print \"MAPE :\", mean_absolute_percentage_error(pd.concat([train_filled, train_missing], axis=0)[\"TARGET\"].values, \n",
    "                                               np.concatenate([y, 4 * validation[\"TARGET\"].values]))\n"
   ]
  },
  {
   "cell_type": "markdown",
   "metadata": {},
   "source": [
    "### Predict on test set"
   ]
  },
  {
   "cell_type": "code",
   "execution_count": 611,
   "metadata": {
    "collapsed": true
   },
   "outputs": [],
   "source": [
    "test_filled = test.drop(pd.isnull(test).any(1).nonzero()[0]).reset_index(drop=True)\n",
    "test_missing = test[~test[\"ID\"].isin(test_filled[\"ID\"].tolist())]"
   ]
  },
  {
   "cell_type": "code",
   "execution_count": 624,
   "metadata": {
    "collapsed": false
   },
   "outputs": [
    {
     "data": {
      "text/plain": [
       "0"
      ]
     },
     "execution_count": 624,
     "metadata": {},
     "output_type": "execute_result"
    }
   ],
   "source": [
    "numeric_cols = test_missing.columns.drop([\"ID\", \"date\", \"product_id\"])\n",
    "idxs = test_missing[numeric_cols].applymap(np.isnan).sum(axis=1) \n",
    "\n",
    "under_threshold = idxs[idxs >= 1].index\n",
    "above_threshold = idxs[idxs < 1].index"
   ]
  },
  {
   "cell_type": "markdown",
   "metadata": {},
   "source": [
    "For all values above the threshold, fill values by interpolation."
   ]
  },
  {
   "cell_type": "code",
   "execution_count": 626,
   "metadata": {
    "collapsed": false
   },
   "outputs": [
    {
     "data": {
      "text/html": [
       "<div>\n",
       "<table border=\"1\" class=\"dataframe\">\n",
       "  <thead>\n",
       "    <tr style=\"text-align: right;\">\n",
       "      <th></th>\n",
       "      <th>ID</th>\n",
       "      <th>product_id</th>\n",
       "      <th>TARGET</th>\n",
       "    </tr>\n",
       "  </thead>\n",
       "  <tbody>\n",
       "    <tr>\n",
       "      <th>0</th>\n",
       "      <td>618557</td>\n",
       "      <td>236</td>\n",
       "      <td>16125994.832702</td>\n",
       "    </tr>\n",
       "    <tr>\n",
       "      <th>1</th>\n",
       "      <td>618558</td>\n",
       "      <td>238</td>\n",
       "      <td>5014144.007776</td>\n",
       "    </tr>\n",
       "    <tr>\n",
       "      <th>2</th>\n",
       "      <td>618559</td>\n",
       "      <td>242</td>\n",
       "      <td>8281054.984786</td>\n",
       "    </tr>\n",
       "    <tr>\n",
       "      <th>3</th>\n",
       "      <td>618560</td>\n",
       "      <td>243</td>\n",
       "      <td>5050476.134576</td>\n",
       "    </tr>\n",
       "    <tr>\n",
       "      <th>4</th>\n",
       "      <td>618561</td>\n",
       "      <td>261</td>\n",
       "      <td>17765309.941659</td>\n",
       "    </tr>\n",
       "  </tbody>\n",
       "</table>\n",
       "</div>"
      ],
      "text/plain": [
       "       ID  product_id           TARGET\n",
       "0  618557         236  16125994.832702\n",
       "1  618558         238   5014144.007776\n",
       "2  618559         242   8281054.984786\n",
       "3  618560         243   5050476.134576\n",
       "4  618561         261  17765309.941659"
      ]
     },
     "execution_count": 626,
     "metadata": {},
     "output_type": "execute_result"
    }
   ],
   "source": [
    "y_pred_filled = reg.predict(test_filled[numeric_cols].values)\n",
    "\n",
    "submission_filled = test_filled[[\"ID\", \"product_id\"]].copy()\n",
    "submission_filled[\"TARGET\"] = y_pred_filled\n",
    "submission_filled.head()"
   ]
  },
  {
   "cell_type": "code",
   "execution_count": 429,
   "metadata": {
    "collapsed": false
   },
   "outputs": [],
   "source": [
    "#test_missing.ix[above_threshold, numeric_cols] = test_missing.ix[above_threshold, numeric_cols].\\\n",
    "#    apply(fill_missing_time, axis=1)"
   ]
  },
  {
   "cell_type": "code",
   "execution_count": 445,
   "metadata": {
    "collapsed": false
   },
   "outputs": [
    {
     "data": {
      "text/plain": [
       "'y_pred_above = reg.predict(test_missing.ix[above_threshold, numeric_cols].values)\\n\\nsubmission_above = test_missing.ix[above_threshold, [\"ID\", \"product_id\"]].copy()\\nsubmission_above[\"TARGET\"] = y_pred_above\\nsubmission_above.head()'"
      ]
     },
     "execution_count": 445,
     "metadata": {},
     "output_type": "execute_result"
    }
   ],
   "source": [
    "\"\"\"y_pred_above = reg.predict(test_missing.ix[above_threshold, numeric_cols].values)\n",
    "\n",
    "submission_above = test_missing.ix[above_threshold, [\"ID\", \"product_id\"]].copy()\n",
    "submission_above[\"TARGET\"] = y_pred_above\n",
    "submission_above.head()\"\"\""
   ]
  },
  {
   "cell_type": "markdown",
   "metadata": {},
   "source": [
    "For all values below the threshold, control the MAPE error by replacing missing values with minimal volume per 'product_id\"."
   ]
  },
  {
   "cell_type": "code",
   "execution_count": 627,
   "metadata": {
    "collapsed": false
   },
   "outputs": [
    {
     "data": {
      "text/html": [
       "<div>\n",
       "<table border=\"1\" class=\"dataframe\">\n",
       "  <thead>\n",
       "    <tr style=\"text-align: right;\">\n",
       "      <th></th>\n",
       "      <th>ID</th>\n",
       "      <th>date</th>\n",
       "      <th>product_id</th>\n",
       "      <th>09:35:00</th>\n",
       "      <th>09:40:00</th>\n",
       "      <th>09:45:00</th>\n",
       "      <th>09:50:00</th>\n",
       "      <th>09:55:00</th>\n",
       "      <th>10:00:00</th>\n",
       "      <th>10:05:00</th>\n",
       "      <th>...</th>\n",
       "      <th>13:10:00</th>\n",
       "      <th>13:15:00</th>\n",
       "      <th>13:20:00</th>\n",
       "      <th>13:25:00</th>\n",
       "      <th>13:30:00</th>\n",
       "      <th>13:35:00</th>\n",
       "      <th>13:40:00</th>\n",
       "      <th>13:45:00</th>\n",
       "      <th>13:50:00</th>\n",
       "      <th>13:55:00</th>\n",
       "    </tr>\n",
       "  </thead>\n",
       "  <tbody>\n",
       "    <tr>\n",
       "      <th>8</th>\n",
       "      <td>618565</td>\n",
       "      <td>1885</td>\n",
       "      <td>305</td>\n",
       "      <td>85480.0040</td>\n",
       "      <td>83343.0039</td>\n",
       "      <td>59808.0028</td>\n",
       "      <td>64050.0000</td>\n",
       "      <td>34095.9984</td>\n",
       "      <td>115182.0000</td>\n",
       "      <td>91676.0000</td>\n",
       "      <td>...</td>\n",
       "      <td>46750.0000</td>\n",
       "      <td>NaN</td>\n",
       "      <td>65906.0000</td>\n",
       "      <td>38268.0000</td>\n",
       "      <td>36142.0000</td>\n",
       "      <td>29764.0000</td>\n",
       "      <td>106450.0050</td>\n",
       "      <td>97888.0046</td>\n",
       "      <td>6384.0003</td>\n",
       "      <td>38304.0018</td>\n",
       "    </tr>\n",
       "    <tr>\n",
       "      <th>13</th>\n",
       "      <td>618570</td>\n",
       "      <td>1885</td>\n",
       "      <td>389</td>\n",
       "      <td>NaN</td>\n",
       "      <td>NaN</td>\n",
       "      <td>4623800.0000</td>\n",
       "      <td>11895392.4016</td>\n",
       "      <td>4787485.8394</td>\n",
       "      <td>3363008.0000</td>\n",
       "      <td>4886784.0000</td>\n",
       "      <td>...</td>\n",
       "      <td>253700.0000</td>\n",
       "      <td>463934.9843</td>\n",
       "      <td>417501.0141</td>\n",
       "      <td>1034086.9651</td>\n",
       "      <td>1193136.0000</td>\n",
       "      <td>1289775.0000</td>\n",
       "      <td>573017.0193</td>\n",
       "      <td>905616.0304</td>\n",
       "      <td>1164240.0392</td>\n",
       "      <td>476000.0000</td>\n",
       "    </tr>\n",
       "    <tr>\n",
       "      <th>59</th>\n",
       "      <td>618616</td>\n",
       "      <td>1885</td>\n",
       "      <td>839</td>\n",
       "      <td>246256.9939</td>\n",
       "      <td>478608.0118</td>\n",
       "      <td>283290.0070</td>\n",
       "      <td>97176.0048</td>\n",
       "      <td>230393.9886</td>\n",
       "      <td>161440.0040</td>\n",
       "      <td>137088.0000</td>\n",
       "      <td>...</td>\n",
       "      <td>167916.0000</td>\n",
       "      <td>87956.0000</td>\n",
       "      <td>63952.0016</td>\n",
       "      <td>NaN</td>\n",
       "      <td>31976.0008</td>\n",
       "      <td>15983.9996</td>\n",
       "      <td>151924.0000</td>\n",
       "      <td>63984.0032</td>\n",
       "      <td>99950.0000</td>\n",
       "      <td>75962.0000</td>\n",
       "    </tr>\n",
       "    <tr>\n",
       "      <th>99</th>\n",
       "      <td>618656</td>\n",
       "      <td>1885</td>\n",
       "      <td>1333</td>\n",
       "      <td>266930.9937</td>\n",
       "      <td>440647.9896</td>\n",
       "      <td>76284.0018</td>\n",
       "      <td>169520.0040</td>\n",
       "      <td>250042.0059</td>\n",
       "      <td>97243.9977</td>\n",
       "      <td>114344.9946</td>\n",
       "      <td>...</td>\n",
       "      <td>58912.0028</td>\n",
       "      <td>12614.9997</td>\n",
       "      <td>67359.9968</td>\n",
       "      <td>75798.0018</td>\n",
       "      <td>54743.0013</td>\n",
       "      <td>113669.9946</td>\n",
       "      <td>160170.0076</td>\n",
       "      <td>37899.0009</td>\n",
       "      <td>155696.0074</td>\n",
       "      <td>NaN</td>\n",
       "    </tr>\n",
       "    <tr>\n",
       "      <th>102</th>\n",
       "      <td>618659</td>\n",
       "      <td>1885</td>\n",
       "      <td>1393</td>\n",
       "      <td>9966.0003</td>\n",
       "      <td>59850.0000</td>\n",
       "      <td>19944.0012</td>\n",
       "      <td>3320.0001</td>\n",
       "      <td>69762.0021</td>\n",
       "      <td>73017.9978</td>\n",
       "      <td>79560.0048</td>\n",
       "      <td>...</td>\n",
       "      <td>43029.9974</td>\n",
       "      <td>36354.9989</td>\n",
       "      <td>13232.0008</td>\n",
       "      <td>115570.0000</td>\n",
       "      <td>237888.0072</td>\n",
       "      <td>26423.9992</td>\n",
       "      <td>115640.0035</td>\n",
       "      <td>26432.0008</td>\n",
       "      <td>NaN</td>\n",
       "      <td>350012.0000</td>\n",
       "    </tr>\n",
       "  </tbody>\n",
       "</table>\n",
       "<p>5 rows × 56 columns</p>\n",
       "</div>"
      ],
      "text/plain": [
       "         ID  date  product_id     09:35:00     09:40:00      09:45:00  \\\n",
       "8    618565  1885         305   85480.0040   83343.0039    59808.0028   \n",
       "13   618570  1885         389          NaN          NaN  4623800.0000   \n",
       "59   618616  1885         839  246256.9939  478608.0118   283290.0070   \n",
       "99   618656  1885        1333  266930.9937  440647.9896    76284.0018   \n",
       "102  618659  1885        1393    9966.0003   59850.0000    19944.0012   \n",
       "\n",
       "          09:50:00      09:55:00      10:00:00      10:05:00     ...       \\\n",
       "8       64050.0000    34095.9984   115182.0000    91676.0000     ...        \n",
       "13   11895392.4016  4787485.8394  3363008.0000  4886784.0000     ...        \n",
       "59      97176.0048   230393.9886   161440.0040   137088.0000     ...        \n",
       "99     169520.0040   250042.0059    97243.9977   114344.9946     ...        \n",
       "102      3320.0001    69762.0021    73017.9978    79560.0048     ...        \n",
       "\n",
       "        13:10:00     13:15:00     13:20:00      13:25:00      13:30:00  \\\n",
       "8     46750.0000          NaN   65906.0000    38268.0000    36142.0000   \n",
       "13   253700.0000  463934.9843  417501.0141  1034086.9651  1193136.0000   \n",
       "59   167916.0000   87956.0000   63952.0016           NaN    31976.0008   \n",
       "99    58912.0028   12614.9997   67359.9968    75798.0018    54743.0013   \n",
       "102   43029.9974   36354.9989   13232.0008   115570.0000   237888.0072   \n",
       "\n",
       "         13:35:00     13:40:00     13:45:00      13:50:00     13:55:00  \n",
       "8      29764.0000  106450.0050   97888.0046     6384.0003   38304.0018  \n",
       "13   1289775.0000  573017.0193  905616.0304  1164240.0392  476000.0000  \n",
       "59     15983.9996  151924.0000   63984.0032    99950.0000   75962.0000  \n",
       "99    113669.9946  160170.0076   37899.0009   155696.0074          NaN  \n",
       "102    26423.9992  115640.0035   26432.0008           NaN  350012.0000  \n",
       "\n",
       "[5 rows x 56 columns]"
      ]
     },
     "execution_count": 627,
     "metadata": {},
     "output_type": "execute_result"
    }
   ],
   "source": [
    "test_missing.ix[under_threshold].head()"
   ]
  },
  {
   "cell_type": "code",
   "execution_count": 628,
   "metadata": {
    "collapsed": false
   },
   "outputs": [
    {
     "data": {
      "text/html": [
       "<div>\n",
       "<table border=\"1\" class=\"dataframe\">\n",
       "  <thead>\n",
       "    <tr style=\"text-align: right;\">\n",
       "      <th></th>\n",
       "      <th>TARGET</th>\n",
       "    </tr>\n",
       "    <tr>\n",
       "      <th>product_id</th>\n",
       "      <th></th>\n",
       "    </tr>\n",
       "  </thead>\n",
       "  <tbody>\n",
       "    <tr>\n",
       "      <th>236</th>\n",
       "      <td>1808344.0</td>\n",
       "    </tr>\n",
       "    <tr>\n",
       "      <th>238</th>\n",
       "      <td>262424.0</td>\n",
       "    </tr>\n",
       "    <tr>\n",
       "      <th>242</th>\n",
       "      <td>1687.8</td>\n",
       "    </tr>\n",
       "    <tr>\n",
       "      <th>243</th>\n",
       "      <td>383786.0</td>\n",
       "    </tr>\n",
       "    <tr>\n",
       "      <th>261</th>\n",
       "      <td>3264728.0</td>\n",
       "    </tr>\n",
       "  </tbody>\n",
       "</table>\n",
       "</div>"
      ],
      "text/plain": [
       "               TARGET\n",
       "product_id           \n",
       "236         1808344.0\n",
       "238          262424.0\n",
       "242            1687.8\n",
       "243          383786.0\n",
       "261         3264728.0"
      ]
     },
     "execution_count": 628,
     "metadata": {},
     "output_type": "execute_result"
    }
   ],
   "source": [
    "min_per_product_id = train.groupby(\"product_id\").agg({\"TARGET\": np.min})\n",
    "min_per_product_id.head()"
   ]
  },
  {
   "cell_type": "code",
   "execution_count": 629,
   "metadata": {
    "collapsed": false
   },
   "outputs": [
    {
     "data": {
      "text/html": [
       "<div>\n",
       "<table border=\"1\" class=\"dataframe\">\n",
       "  <thead>\n",
       "    <tr style=\"text-align: right;\">\n",
       "      <th></th>\n",
       "      <th>ID</th>\n",
       "      <th>product_id</th>\n",
       "      <th>TARGET</th>\n",
       "    </tr>\n",
       "  </thead>\n",
       "  <tbody>\n",
       "    <tr>\n",
       "      <th>8</th>\n",
       "      <td>618565</td>\n",
       "      <td>305</td>\n",
       "      <td>1007827.0314</td>\n",
       "    </tr>\n",
       "    <tr>\n",
       "      <th>13</th>\n",
       "      <td>618570</td>\n",
       "      <td>389</td>\n",
       "      <td>2825043.0000</td>\n",
       "    </tr>\n",
       "    <tr>\n",
       "      <th>59</th>\n",
       "      <td>618616</td>\n",
       "      <td>839</td>\n",
       "      <td>1019409.0000</td>\n",
       "    </tr>\n",
       "    <tr>\n",
       "      <th>99</th>\n",
       "      <td>618656</td>\n",
       "      <td>1333</td>\n",
       "      <td>960507.0000</td>\n",
       "    </tr>\n",
       "    <tr>\n",
       "      <th>102</th>\n",
       "      <td>618659</td>\n",
       "      <td>1393</td>\n",
       "      <td>679522.0000</td>\n",
       "    </tr>\n",
       "  </tbody>\n",
       "</table>\n",
       "</div>"
      ],
      "text/plain": [
       "         ID  product_id        TARGET\n",
       "8    618565         305  1007827.0314\n",
       "13   618570         389  2825043.0000\n",
       "59   618616         839  1019409.0000\n",
       "99   618656        1333   960507.0000\n",
       "102  618659        1393   679522.0000"
      ]
     },
     "execution_count": 629,
     "metadata": {},
     "output_type": "execute_result"
    }
   ],
   "source": [
    "submission_under = test_missing.ix[under_threshold, [\"ID\", \"product_id\"]].copy().join(min_per_product_id, on=\"product_id\")\n",
    "submission_under.head()"
   ]
  },
  {
   "cell_type": "code",
   "execution_count": 630,
   "metadata": {
    "collapsed": false
   },
   "outputs": [
    {
     "data": {
      "text/html": [
       "<div>\n",
       "<table border=\"1\" class=\"dataframe\">\n",
       "  <thead>\n",
       "    <tr style=\"text-align: right;\">\n",
       "      <th></th>\n",
       "      <th>ID</th>\n",
       "      <th>product_id</th>\n",
       "      <th>TARGET</th>\n",
       "    </tr>\n",
       "  </thead>\n",
       "  <tbody>\n",
       "    <tr>\n",
       "      <th>8</th>\n",
       "      <td>618565</td>\n",
       "      <td>305</td>\n",
       "      <td>3779351.36775</td>\n",
       "    </tr>\n",
       "    <tr>\n",
       "      <th>13</th>\n",
       "      <td>618570</td>\n",
       "      <td>389</td>\n",
       "      <td>10593911.25000</td>\n",
       "    </tr>\n",
       "    <tr>\n",
       "      <th>59</th>\n",
       "      <td>618616</td>\n",
       "      <td>839</td>\n",
       "      <td>3822783.75000</td>\n",
       "    </tr>\n",
       "    <tr>\n",
       "      <th>99</th>\n",
       "      <td>618656</td>\n",
       "      <td>1333</td>\n",
       "      <td>3601901.25000</td>\n",
       "    </tr>\n",
       "    <tr>\n",
       "      <th>102</th>\n",
       "      <td>618659</td>\n",
       "      <td>1393</td>\n",
       "      <td>2548207.50000</td>\n",
       "    </tr>\n",
       "  </tbody>\n",
       "</table>\n",
       "</div>"
      ],
      "text/plain": [
       "         ID  product_id          TARGET\n",
       "8    618565         305   3779351.36775\n",
       "13   618570         389  10593911.25000\n",
       "59   618616         839   3822783.75000\n",
       "99   618656        1333   3601901.25000\n",
       "102  618659        1393   2548207.50000"
      ]
     },
     "execution_count": 630,
     "metadata": {},
     "output_type": "execute_result"
    }
   ],
   "source": [
    "submission_under[\"TARGET\"] = 3.75 * submission_under[\"TARGET\"]\n",
    "submission_under.head()"
   ]
  },
  {
   "cell_type": "code",
   "execution_count": 631,
   "metadata": {
    "collapsed": false
   },
   "outputs": [
    {
     "data": {
      "text/html": [
       "<div>\n",
       "<table border=\"1\" class=\"dataframe\">\n",
       "  <thead>\n",
       "    <tr style=\"text-align: right;\">\n",
       "      <th></th>\n",
       "      <th>ID</th>\n",
       "      <th>product_id</th>\n",
       "      <th>TARGET</th>\n",
       "    </tr>\n",
       "  </thead>\n",
       "  <tbody>\n",
       "    <tr>\n",
       "      <th>0</th>\n",
       "      <td>618557</td>\n",
       "      <td>236</td>\n",
       "      <td>16125994.832702</td>\n",
       "    </tr>\n",
       "    <tr>\n",
       "      <th>1</th>\n",
       "      <td>618558</td>\n",
       "      <td>238</td>\n",
       "      <td>5014144.007776</td>\n",
       "    </tr>\n",
       "    <tr>\n",
       "      <th>2</th>\n",
       "      <td>618559</td>\n",
       "      <td>242</td>\n",
       "      <td>8281054.984786</td>\n",
       "    </tr>\n",
       "    <tr>\n",
       "      <th>3</th>\n",
       "      <td>618560</td>\n",
       "      <td>243</td>\n",
       "      <td>5050476.134576</td>\n",
       "    </tr>\n",
       "    <tr>\n",
       "      <th>4</th>\n",
       "      <td>618561</td>\n",
       "      <td>261</td>\n",
       "      <td>17765309.941659</td>\n",
       "    </tr>\n",
       "  </tbody>\n",
       "</table>\n",
       "</div>"
      ],
      "text/plain": [
       "       ID  product_id           TARGET\n",
       "0  618557         236  16125994.832702\n",
       "1  618558         238   5014144.007776\n",
       "2  618559         242   8281054.984786\n",
       "3  618560         243   5050476.134576\n",
       "4  618561         261  17765309.941659"
      ]
     },
     "execution_count": 631,
     "metadata": {},
     "output_type": "execute_result"
    }
   ],
   "source": [
    "#submission = pd.concat([submission_filled, submission_above, submission_under], axis=0).sort_values(by=\"ID\")\n",
    "submission = pd.concat([submission_filled, submission_under], axis=0).sort_values(by=\"ID\")\n",
    "submission.head()"
   ]
  },
  {
   "cell_type": "code",
   "execution_count": 633,
   "metadata": {
    "collapsed": false
   },
   "outputs": [],
   "source": [
    "submission.drop(\"product_id\", axis=1).to_csv(\"Submission.csv\", sep=\";\", index=False)"
   ]
  },
  {
   "cell_type": "markdown",
   "metadata": {},
   "source": [
    "### Feature selection"
   ]
  },
  {
   "cell_type": "code",
   "execution_count": 197,
   "metadata": {
    "collapsed": false
   },
   "outputs": [
    {
     "data": {
      "image/png": "[encoded data removed]",
      "text/plain": [
       "<matplotlib.figure.Figure at 0x1509360d0>"
      ]
     },
     "metadata": {},
     "output_type": "display_data"
    }
   ],
   "source": [
    "plt.figure(figsize=(15, 5))\n",
    "\n",
    "ordering = np.argsort(reg.feature_importances_)[::-1]\n",
    "\n",
    "importances = reg.feature_importances_[ordering]\n",
    "feature_names = X_columns[ordering]\n",
    "\n",
    "xx = np.arange(len(feature_names))\n",
    "plt.bar(xx, importances)\n",
    "plt.xticks(xx + 0.5, feature_names, rotation=90, fontsize=15)\n",
    "plt.show()"
   ]
  },
  {
   "cell_type": "code",
   "execution_count": 187,
   "metadata": {
    "collapsed": true
   },
   "outputs": [],
   "source": [
    "train_select = train_full[np.append(np.array(feature_names[:14]),'TARGET')]\n",
    "features = train_select.drop(\"TARGET\", axis=1)\n",
    "X_columns = train_select.columns\n",
    "X = features.values\n",
    "\n",
    "X_train, X_test, y_train, y_test = train_test_split(\n",
    "    X, y, test_size=0.2, random_state=0)"
   ]
  },
  {
   "cell_type": "code",
   "execution_count": 227,
   "metadata": {
    "collapsed": false
   },
   "outputs": [
    {
     "name": "stdout",
     "output_type": "stream",
     "text": [
      "CPU times: user 2 µs, sys: 0 ns, total: 2 µs\n",
      "Wall time: 5.01 µs\n"
     ]
    }
   ],
   "source": [
    "%%time\n",
    "\n",
    "n_estimators = 50\n",
    "max_depth = 15\n",
    "max_features = 14\n",
    "#reg = RandomForestRegressor(n_estimators=n_estimators, max_depth=max_depth, max_features=max_features)\n",
    "\n",
    "#reg.fit(X_train, y_train)"
   ]
  },
  {
   "cell_type": "code",
   "execution_count": null,
   "metadata": {
    "collapsed": true
   },
   "outputs": [],
   "source": [
    "y_pred = reg.predict(X_test)\n",
    "print \"MAPE :\", mean_absolute_percentage_error(y_pred, y_test)"
   ]
  },
  {
   "cell_type": "markdown",
   "metadata": {},
   "source": [
    "Training dataset for our supervised learning method."
   ]
  },
  {
   "cell_type": "code",
   "execution_count": 115,
   "metadata": {
    "collapsed": true
   },
   "outputs": [],
   "source": [
    "x = train_full.drop([\"ID\", \"date\", \"product_id\", \"TARGET\"], axis=1).values\n",
    "y = train_full[\"TARGET\"].values"
   ]
  },
  {
   "cell_type": "code",
   "execution_count": 116,
   "metadata": {
    "collapsed": false
   },
   "outputs": [
    {
     "name": "stdout",
     "output_type": "stream",
     "text": [
      "Full training set shape :\n",
      "(613199, 54) \n",
      "(613199,)\n"
     ]
    }
   ],
   "source": [
    "print \"Full training set shape :\\n\", x.shape, \"\\n\", y.shape"
   ]
  },
  {
   "cell_type": "markdown",
   "metadata": {},
   "source": [
    "### Create wavelet dictionary.\n",
    "NB: 'db1' is the classical DFT operator."
   ]
  },
  {
   "cell_type": "code",
   "execution_count": 118,
   "metadata": {
    "collapsed": true
   },
   "outputs": [],
   "source": [
    "wave_name = 'db20'\n",
    "wave_level = None\n",
    "wavelet_operator_t = DictT(level=wave_level, name=wave_name)\n",
    "\n",
    "basis_t = wavelet_operator_t.dot(np.identity(x.shape[1]))\n",
    "basis_t /= np.sqrt(np.sum(basis_t ** 2, axis=0))\n",
    "basis = basis_t.T"
   ]
  },
  {
   "cell_type": "markdown",
   "metadata": {},
   "source": [
    "### Selecting the best model.\n",
    "Training, validation split the transformed data, using Fourier/Wavelet."
   ]
  },
  {
   "cell_type": "code",
   "execution_count": 123,
   "metadata": {
    "collapsed": false
   },
   "outputs": [],
   "source": [
    "# x_train, x_val, y_train, y_val = train_test_split(x.dot(basis), y, test_size=0.3)\n",
    "x_train, x_val, y_train, y_val = train_test_split(x, y, test_size=0.3)"
   ]
  },
  {
   "cell_type": "code",
   "execution_count": 124,
   "metadata": {
    "collapsed": false
   },
   "outputs": [
    {
     "name": "stdout",
     "output_type": "stream",
     "text": [
      "Training set :\n",
      "(429239, 54) \n",
      "(429239,)\n",
      "Validation set :\n",
      "(183960, 54) \n",
      "(183960,)\n"
     ]
    }
   ],
   "source": [
    "print \"Training set :\\n\", x_train.shape, \"\\n\", y_train.shape\n",
    "print \"Validation set :\\n\", x_val.shape, \"\\n\", y_val.shape"
   ]
  },
  {
   "cell_type": "markdown",
   "metadata": {},
   "source": [
    "Supervised learning method.    \n",
    "_TODO:_ Use GridSearchCV for the best parameters."
   ]
  },
  {
   "cell_type": "code",
   "execution_count": 125,
   "metadata": {
    "collapsed": false
   },
   "outputs": [
    {
     "name": "stderr",
     "output_type": "stream",
     "text": [
      "[Parallel(n_jobs=-1)]: Done  15 out of  15 | elapsed:  1.3min finished\n",
      "[Parallel(n_jobs=4)]: Done  15 out of  15 | elapsed:    1.3s finished\n"
     ]
    },
    {
     "name": "stdout",
     "output_type": "stream",
     "text": [
      "building tree 1 of 15\n",
      "building tree 2 of 15\n",
      "building tree 3 of 15\n",
      "building tree 4 of 15\n",
      "building tree 5 of 15\n",
      "building tree 6 of 15\n",
      "building tree 7 of 15\n",
      "building tree 8 of 15\n",
      "building tree 9 of 15\n",
      "building tree 10 of 15\n",
      "building tree 11 of 15\n",
      "building tree 12 of 15\n",
      "building tree 13 of 15\n",
      "building tree 14 of 15\n",
      "building tree 15 of 15\n",
      "CPU times: user 4min 15s, sys: 1.8 s, total: 4min 17s\n",
      "Wall time: 1min 21s\n"
     ]
    }
   ],
   "source": [
    "%%time\n",
    "\n",
    "\"\"\"\n",
    "reg_grid = {\n",
    "    \"max_depth\": [10, 20, 40, None],\n",
    "    \"max_features\": [20, 30, 40, 'auto'],\n",
    "    \"min_samples_split\": [1, 5, 10],\n",
    "    \"min_samples_leaf\": [1, 5, 10],\n",
    "    \"bootstrap\": [True, False]}\n",
    "\n",
    "reg = GridSearchCV(RandomForestRegressor(n_estimators=50, n_jobs=-1),\n",
    "                   param_grid=reg_grid, n_jobs=-1, verbose=5)\n",
    "\"\"\"\n",
    "\n",
    "reg = RandomForestRegressor(n_estimators=15, \n",
    "                            max_features=20, \n",
    "                            min_samples_split=1, \n",
    "                            bootstrap=True, \n",
    "                            max_depth=20, \n",
    "                            min_samples_leaf=1,\n",
    "                            n_jobs=-1,\n",
    "                            verbose=5)\n",
    "reg.fit(x_train, y_train)\n",
    "y_val_pred = reg.predict(x_val)\n",
    "\n",
    "# params = reg.best_params_\n",
    "# print params"
   ]
  },
  {
   "cell_type": "markdown",
   "metadata": {},
   "source": [
    "### Mean Absolute Percentage Error."
   ]
  },
  {
   "cell_type": "code",
   "execution_count": 126,
   "metadata": {
    "collapsed": false
   },
   "outputs": [
    {
     "name": "stdout",
     "output_type": "stream",
     "text": [
      "MAPE : 120.311589774\n"
     ]
    }
   ],
   "source": [
    "def mean_absolute_percentage_error(y_true, y_pred): \n",
    "\n",
    "    \"\"\"\n",
    "    Note: does not handle mix 1d representation\n",
    "    if _is_1d(y_true): \n",
    "        y_true, y_pred = _check_1d_array(y_true, y_pred)\n",
    "    \"\"\"\n",
    "\n",
    "    return np.mean(np.abs((y_true - y_pred) / y_true)) * 100\n",
    "\n",
    "print \"MAPE :\", mean_absolute_percentage_error(y_val, y_val_pred)"
   ]
  },
  {
   "cell_type": "markdown",
   "metadata": {},
   "source": [
    "### Score the test dataset."
   ]
  },
  {
   "cell_type": "markdown",
   "metadata": {},
   "source": [
    "If training rows contain no missing entry, use the supervised learning method reg.    \n",
    "Otherwise, simply output the average target per product."
   ]
  },
  {
   "cell_type": "code",
   "execution_count": 44,
   "metadata": {
    "collapsed": false
   },
   "outputs": [],
   "source": [
    "test_filled = test.drop(pd.isnull(test).any(1).nonzero()[0]).reset_index(drop=True)\n",
    "test_missing = test[~test[\"ID\"].isin(test_filled[\"ID\"].tolist())]"
   ]
  },
  {
   "cell_type": "code",
   "execution_count": 104,
   "metadata": {
    "collapsed": false
   },
   "outputs": [],
   "source": [
    "reg.fit(x.dot(basis), y)"
   ]
  },
  {
   "cell_type": "markdown",
   "metadata": {},
   "source": [
    "For all test rows without any missing values, predict the actual data."
   ]
  },
  {
   "cell_type": "code",
   "execution_count": 123,
   "metadata": {
    "collapsed": false
   },
   "outputs": [],
   "source": [
    "def predict_filled_values(filled_dataframe, reg):\n",
    "    \n",
    "    y = reg.predict(filled_dataframe.drop([\"ID\", \"date\", \"product_id\"], axis=1).values.dot(basis))\n",
    "    df_y = pd.DataFrame(y)\n",
    "    df_y.columns = [\"TARGET\"]\n",
    "    df_y[\"ID\"] = filled_dataframe[\"ID\"]\n",
    "    \n",
    "    return df_y[[\"ID\", \"TARGET\"]]"
   ]
  },
  {
   "cell_type": "markdown",
   "metadata": {},
   "source": [
    "For test rows with missing values, just set the output to the average target per product."
   ]
  },
  {
   "cell_type": "code",
   "execution_count": 112,
   "metadata": {
    "collapsed": true
   },
   "outputs": [],
   "source": [
    "def predict_missing_values(missing_dataframe):\n",
    "    \n",
    "    df = pd.merge(missing_dataframe.reset_index(), average_target_per_product, on=\"product_id\")\n",
    "    df = df.sort_values(by=\"index\").reset_index()\n",
    "    return df[[\"ID\", \"TARGET\"]]"
   ]
  },
  {
   "cell_type": "markdown",
   "metadata": {},
   "source": [
    "Concatenate predictions to obtain the final result."
   ]
  },
  {
   "cell_type": "code",
   "execution_count": 113,
   "metadata": {
    "collapsed": false
   },
   "outputs": [],
   "source": [
    "def predict_all_values(filled, missing, reg):\n",
    "    \n",
    "    return pd.concat([predict_filled_values(filled, reg), \n",
    "                      predict_missing_values(missing)], axis=0).sort_values(by=\"ID\")"
   ]
  },
  {
   "cell_type": "code",
   "execution_count": 114,
   "metadata": {
    "collapsed": false
   },
   "outputs": [
    {
     "name": "stderr",
     "output_type": "stream",
     "text": [
      "[Parallel(n_jobs=4)]: Done  15 out of  15 | elapsed:    1.5s finished\n"
     ]
    },
    {
     "data": {
      "text/html": [
       "<div>\n",
       "<table border=\"1\" class=\"dataframe\">\n",
       "  <thead>\n",
       "    <tr style=\"text-align: right;\">\n",
       "      <th></th>\n",
       "      <th>ID</th>\n",
       "      <th>TARGET</th>\n",
       "    </tr>\n",
       "  </thead>\n",
       "  <tbody>\n",
       "    <tr>\n",
       "      <th>0</th>\n",
       "      <td>618557</td>\n",
       "      <td>20148047.066664</td>\n",
       "    </tr>\n",
       "    <tr>\n",
       "      <th>1</th>\n",
       "      <td>618558</td>\n",
       "      <td>4388666.535405</td>\n",
       "    </tr>\n",
       "    <tr>\n",
       "      <th>2</th>\n",
       "      <td>618559</td>\n",
       "      <td>7456074.494341</td>\n",
       "    </tr>\n",
       "    <tr>\n",
       "      <th>3</th>\n",
       "      <td>618560</td>\n",
       "      <td>5233019.985268</td>\n",
       "    </tr>\n",
       "    <tr>\n",
       "      <th>4</th>\n",
       "      <td>618561</td>\n",
       "      <td>15595865.176292</td>\n",
       "    </tr>\n",
       "  </tbody>\n",
       "</table>\n",
       "</div>"
      ],
      "text/plain": [
       "       ID           TARGET\n",
       "0  618557  20148047.066664\n",
       "1  618558   4388666.535405\n",
       "2  618559   7456074.494341\n",
       "3  618560   5233019.985268\n",
       "4  618561  15595865.176292"
      ]
     },
     "execution_count": 114,
     "metadata": {},
     "output_type": "execute_result"
    }
   ],
   "source": [
    "y_test = predict_all_values(test_filled, test_missing, reg)\n",
    "y_test.head()"
   ]
  },
  {
   "cell_type": "code",
   "execution_count": null,
   "metadata": {
    "collapsed": true
   },
   "outputs": [],
   "source": [
    "# df_test.to_csv(\"Submission.csv\", sep=\";\", index=False)"
   ]
  }
 ],
 "metadata": {
  "kernelspec": {
   "display_name": "Python 2",
   "language": "python",
   "name": "python2"
  },
  "language_info": {
   "codemirror_mode": {
    "name": "ipython",
    "version": 2
   },
   "file_extension": ".py",
   "mimetype": "text/x-python",
   "name": "python",
   "nbconvert_exporter": "python",
   "pygments_lexer": "ipython2",
   "version": "2.7.10"
  }
 },
 "nbformat": 4,
 "nbformat_minor": 0
}
