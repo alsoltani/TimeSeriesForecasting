{
 "cells": [
  {
   "cell_type": "code",
   "execution_count": 1,
   "metadata": {
    "collapsed": false
   },
   "outputs": [],
   "source": [
    "import pandas as pd\n",
    "import time\n",
    "import numpy as np"
   ]
  },
  {
   "cell_type": "code",
   "execution_count": 2,
   "metadata": {
    "collapsed": false
   },
   "outputs": [],
   "source": [
    "Training = pd.read_csv('Data/training_input.csv', delimiter=',')\n",
    "Output = pd.read_csv('Data/training_output.csv', delimiter=';')"
   ]
  },
  {
   "cell_type": "code",
   "execution_count": 3,
   "metadata": {
    "collapsed": false
   },
   "outputs": [
    {
     "name": "stdout",
     "output_type": "stream",
     "text": [
      "(613220, 57)\n",
      "(613220, 2)\n"
     ]
    }
   ],
   "source": [
    "print Training.shape\n",
    "print Output.shape"
   ]
  },
  {
   "cell_type": "code",
   "execution_count": 4,
   "metadata": {
    "collapsed": false
   },
   "outputs": [
    {
     "data": {
      "text/html": [
       "<div>\n",
       "<table border=\"1\" class=\"dataframe\">\n",
       "  <thead>\n",
       "    <tr style=\"text-align: right;\">\n",
       "      <th></th>\n",
       "      <th>ID</th>\n",
       "      <th>date</th>\n",
       "      <th>product_id</th>\n",
       "      <th>09:30:00</th>\n",
       "      <th>09:35:00</th>\n",
       "      <th>09:40:00</th>\n",
       "      <th>09:45:00</th>\n",
       "      <th>09:50:00</th>\n",
       "      <th>09:55:00</th>\n",
       "      <th>10:00:00</th>\n",
       "      <th>...</th>\n",
       "      <th>13:10:00</th>\n",
       "      <th>13:15:00</th>\n",
       "      <th>13:20:00</th>\n",
       "      <th>13:25:00</th>\n",
       "      <th>13:30:00</th>\n",
       "      <th>13:35:00</th>\n",
       "      <th>13:40:00</th>\n",
       "      <th>13:45:00</th>\n",
       "      <th>13:50:00</th>\n",
       "      <th>13:55:00</th>\n",
       "    </tr>\n",
       "  </thead>\n",
       "  <tbody>\n",
       "    <tr>\n",
       "      <th>0</th>\n",
       "      <td>1</td>\n",
       "      <td>1</td>\n",
       "      <td>236</td>\n",
       "      <td>24138818.08</td>\n",
       "      <td>2457975.00</td>\n",
       "      <td>741777.14</td>\n",
       "      <td>973487.28</td>\n",
       "      <td>764018.92</td>\n",
       "      <td>1074769.92</td>\n",
       "      <td>3056492.88</td>\n",
       "      <td>...</td>\n",
       "      <td>810609.36</td>\n",
       "      <td>818269.86</td>\n",
       "      <td>629216.64</td>\n",
       "      <td>1467907.56</td>\n",
       "      <td>984992.90</td>\n",
       "      <td>959853.30</td>\n",
       "      <td>892596.88</td>\n",
       "      <td>528573.62</td>\n",
       "      <td>973928.60</td>\n",
       "      <td>972596.43</td>\n",
       "    </tr>\n",
       "    <tr>\n",
       "      <th>1</th>\n",
       "      <td>2</td>\n",
       "      <td>1</td>\n",
       "      <td>238</td>\n",
       "      <td>8897508.62</td>\n",
       "      <td>104198.40</td>\n",
       "      <td>61840.92</td>\n",
       "      <td>78523.02</td>\n",
       "      <td>128729.16</td>\n",
       "      <td>60789.84</td>\n",
       "      <td>18072.62</td>\n",
       "      <td>...</td>\n",
       "      <td>19140.84</td>\n",
       "      <td>12707.50</td>\n",
       "      <td>25131.87</td>\n",
       "      <td>24124.80</td>\n",
       "      <td>46132.35</td>\n",
       "      <td>51850.26</td>\n",
       "      <td>46478.41</td>\n",
       "      <td>17199.00</td>\n",
       "      <td>34500.62</td>\n",
       "      <td>37690.24</td>\n",
       "    </tr>\n",
       "    <tr>\n",
       "      <th>2</th>\n",
       "      <td>3</td>\n",
       "      <td>1</td>\n",
       "      <td>242</td>\n",
       "      <td>6461968.95</td>\n",
       "      <td>109497.00</td>\n",
       "      <td>152577.00</td>\n",
       "      <td>164024.00</td>\n",
       "      <td>204372.00</td>\n",
       "      <td>321545.70</td>\n",
       "      <td>346236.00</td>\n",
       "      <td>...</td>\n",
       "      <td>96203.00</td>\n",
       "      <td>33978.00</td>\n",
       "      <td>239729.60</td>\n",
       "      <td>67860.00</td>\n",
       "      <td>68478.00</td>\n",
       "      <td>105222.24</td>\n",
       "      <td>101646.00</td>\n",
       "      <td>79128.00</td>\n",
       "      <td>101248.00</td>\n",
       "      <td>367120.00</td>\n",
       "    </tr>\n",
       "    <tr>\n",
       "      <th>3</th>\n",
       "      <td>4</td>\n",
       "      <td>1</td>\n",
       "      <td>243</td>\n",
       "      <td>6822223.20</td>\n",
       "      <td>220467.28</td>\n",
       "      <td>161594.35</td>\n",
       "      <td>264893.44</td>\n",
       "      <td>300326.20</td>\n",
       "      <td>707391.68</td>\n",
       "      <td>327428.00</td>\n",
       "      <td>...</td>\n",
       "      <td>437946.60</td>\n",
       "      <td>7096.00</td>\n",
       "      <td>514560.06</td>\n",
       "      <td>1395147.39</td>\n",
       "      <td>984468.82</td>\n",
       "      <td>565263.30</td>\n",
       "      <td>286416.00</td>\n",
       "      <td>71518.14</td>\n",
       "      <td>155752.10</td>\n",
       "      <td>123690.00</td>\n",
       "    </tr>\n",
       "    <tr>\n",
       "      <th>4</th>\n",
       "      <td>5</td>\n",
       "      <td>1</td>\n",
       "      <td>261</td>\n",
       "      <td>36632811.84</td>\n",
       "      <td>4470974.95</td>\n",
       "      <td>1448461.05</td>\n",
       "      <td>1500694.38</td>\n",
       "      <td>944346.50</td>\n",
       "      <td>958685.76</td>\n",
       "      <td>1685234.07</td>\n",
       "      <td>...</td>\n",
       "      <td>429049.72</td>\n",
       "      <td>289330.13</td>\n",
       "      <td>578565.65</td>\n",
       "      <td>358484.80</td>\n",
       "      <td>440292.16</td>\n",
       "      <td>795697.65</td>\n",
       "      <td>565374.30</td>\n",
       "      <td>832022.43</td>\n",
       "      <td>1425134.40</td>\n",
       "      <td>2310369.30</td>\n",
       "    </tr>\n",
       "  </tbody>\n",
       "</table>\n",
       "<p>5 rows × 57 columns</p>\n",
       "</div>"
      ],
      "text/plain": [
       "   ID  date  product_id     09:30:00    09:35:00    09:40:00    09:45:00  \\\n",
       "0   1     1         236  24138818.08  2457975.00   741777.14   973487.28   \n",
       "1   2     1         238   8897508.62   104198.40    61840.92    78523.02   \n",
       "2   3     1         242   6461968.95   109497.00   152577.00   164024.00   \n",
       "3   4     1         243   6822223.20   220467.28   161594.35   264893.44   \n",
       "4   5     1         261  36632811.84  4470974.95  1448461.05  1500694.38   \n",
       "\n",
       "    09:50:00    09:55:00    10:00:00     ...       13:10:00   13:15:00  \\\n",
       "0  764018.92  1074769.92  3056492.88     ...      810609.36  818269.86   \n",
       "1  128729.16    60789.84    18072.62     ...       19140.84   12707.50   \n",
       "2  204372.00   321545.70   346236.00     ...       96203.00   33978.00   \n",
       "3  300326.20   707391.68   327428.00     ...      437946.60    7096.00   \n",
       "4  944346.50   958685.76  1685234.07     ...      429049.72  289330.13   \n",
       "\n",
       "    13:20:00    13:25:00   13:30:00   13:35:00   13:40:00   13:45:00  \\\n",
       "0  629216.64  1467907.56  984992.90  959853.30  892596.88  528573.62   \n",
       "1   25131.87    24124.80   46132.35   51850.26   46478.41   17199.00   \n",
       "2  239729.60    67860.00   68478.00  105222.24  101646.00   79128.00   \n",
       "3  514560.06  1395147.39  984468.82  565263.30  286416.00   71518.14   \n",
       "4  578565.65   358484.80  440292.16  795697.65  565374.30  832022.43   \n",
       "\n",
       "     13:50:00    13:55:00  \n",
       "0   973928.60   972596.43  \n",
       "1    34500.62    37690.24  \n",
       "2   101248.00   367120.00  \n",
       "3   155752.10   123690.00  \n",
       "4  1425134.40  2310369.30  \n",
       "\n",
       "[5 rows x 57 columns]"
      ]
     },
     "execution_count": 4,
     "metadata": {},
     "output_type": "execute_result"
    }
   ],
   "source": [
    "Training.head()"
   ]
  },
  {
   "cell_type": "code",
   "execution_count": 5,
   "metadata": {
    "collapsed": false
   },
   "outputs": [],
   "source": [
    "Training = pd.merge(Training, Output, on ='ID')"
   ]
  },
  {
   "cell_type": "code",
   "execution_count": 6,
   "metadata": {
    "collapsed": false
   },
   "outputs": [
    {
     "data": {
      "text/plain": [
       "(613220, 58)"
      ]
     },
     "execution_count": 6,
     "metadata": {},
     "output_type": "execute_result"
    }
   ],
   "source": [
    "Training.shape"
   ]
  },
  {
   "cell_type": "code",
   "execution_count": 7,
   "metadata": {
    "collapsed": false
   },
   "outputs": [
    {
     "name": "stdout",
     "output_type": "stream",
     "text": [
      "nombres de dates (1882,)\n",
      "nombres de produits (352,)\n"
     ]
    }
   ],
   "source": [
    "print \"nombres de dates\", Training['date'].value_counts().shape\n",
    "print \"nombres de produits\", Training['product_id'].value_counts().shape"
   ]
  },
  {
   "cell_type": "code",
   "execution_count": 8,
   "metadata": {
    "collapsed": false
   },
   "outputs": [
    {
     "data": {
      "text/plain": [
       "(99273,)"
      ]
     },
     "execution_count": 8,
     "metadata": {},
     "output_type": "execute_result"
    }
   ],
   "source": [
    "pd.isnull(Training).any(1).nonzero()[0].shape"
   ]
  },
  {
   "cell_type": "code",
   "execution_count": 35,
   "metadata": {
    "collapsed": false
   },
   "outputs": [],
   "source": [
    "#print Correlations.dtypes\n",
    "del Correlations['ID'], Correlations['date'], Correlations['product_id'], Correlations['09:30:00']"
   ]
  },
  {
   "cell_type": "code",
   "execution_count": 39,
   "metadata": {
    "collapsed": false
   },
   "outputs": [
    {
     "data": {
      "text/plain": [
       "array([[ 1.        , -0.04052538,  0.04454275, ...,         nan,\n",
       "         0.29698578,  0.29093226],\n",
       "       [-0.04052538,  1.        ,  0.08472152, ...,         nan,\n",
       "         0.12803588,  0.33051518],\n",
       "       [ 0.04454275,  0.08472152,  1.        , ...,         nan,\n",
       "         0.11892571,  0.08996533],\n",
       "       ..., \n",
       "       [        nan,         nan,         nan, ...,         nan,\n",
       "                nan,         nan],\n",
       "       [ 0.29698578,  0.12803588,  0.11892571, ...,         nan,\n",
       "         1.        ,  0.0010871 ],\n",
       "       [ 0.29093226,  0.33051518,  0.08996533, ...,         nan,\n",
       "         0.0010871 ,  1.        ]])"
      ]
     },
     "execution_count": 39,
     "metadata": {},
     "output_type": "execute_result"
    }
   ],
   "source": [
    "np.corrcoef(np.array(Correlations))"
   ]
  },
  {
   "cell_type": "code",
   "execution_count": 24,
   "metadata": {
    "collapsed": false
   },
   "outputs": [
    {
     "data": {
      "text/html": [
       "<div>\n",
       "<table border=\"1\" class=\"dataframe\">\n",
       "  <thead>\n",
       "    <tr style=\"text-align: right;\">\n",
       "      <th></th>\n",
       "      <th>09:30:00</th>\n",
       "      <th>09:35:00</th>\n",
       "      <th>09:40:00</th>\n",
       "      <th>09:45:00</th>\n",
       "      <th>09:50:00</th>\n",
       "      <th>09:55:00</th>\n",
       "      <th>10:00:00</th>\n",
       "      <th>10:05:00</th>\n",
       "      <th>10:10:00</th>\n",
       "      <th>10:15:00</th>\n",
       "      <th>...</th>\n",
       "      <th>13:10:00</th>\n",
       "      <th>13:15:00</th>\n",
       "      <th>13:20:00</th>\n",
       "      <th>13:25:00</th>\n",
       "      <th>13:30:00</th>\n",
       "      <th>13:35:00</th>\n",
       "      <th>13:40:00</th>\n",
       "      <th>13:45:00</th>\n",
       "      <th>13:50:00</th>\n",
       "      <th>13:55:00</th>\n",
       "    </tr>\n",
       "  </thead>\n",
       "  <tbody>\n",
       "    <tr>\n",
       "      <th>1</th>\n",
       "      <td>8897508.62</td>\n",
       "      <td>104198.4</td>\n",
       "      <td>61840.92</td>\n",
       "      <td>78523.02</td>\n",
       "      <td>128729.16</td>\n",
       "      <td>60789.84</td>\n",
       "      <td>18072.62</td>\n",
       "      <td>108036.1</td>\n",
       "      <td>105709.11</td>\n",
       "      <td>28800</td>\n",
       "      <td>...</td>\n",
       "      <td>19140.84</td>\n",
       "      <td>12707.5</td>\n",
       "      <td>25131.87</td>\n",
       "      <td>24124.8</td>\n",
       "      <td>46132.35</td>\n",
       "      <td>51850.26</td>\n",
       "      <td>46478.41</td>\n",
       "      <td>17199</td>\n",
       "      <td>34500.62</td>\n",
       "      <td>37690.24</td>\n",
       "    </tr>\n",
       "    <tr>\n",
       "      <th>2</th>\n",
       "      <td>6461968.95</td>\n",
       "      <td>109497.0</td>\n",
       "      <td>152577.00</td>\n",
       "      <td>164024.00</td>\n",
       "      <td>204372.00</td>\n",
       "      <td>321545.70</td>\n",
       "      <td>346236.00</td>\n",
       "      <td>244627.0</td>\n",
       "      <td>142075.00</td>\n",
       "      <td>232429</td>\n",
       "      <td>...</td>\n",
       "      <td>96203.00</td>\n",
       "      <td>33978.0</td>\n",
       "      <td>239729.60</td>\n",
       "      <td>67860.0</td>\n",
       "      <td>68478.00</td>\n",
       "      <td>105222.24</td>\n",
       "      <td>101646.00</td>\n",
       "      <td>79128</td>\n",
       "      <td>101248.00</td>\n",
       "      <td>367120.00</td>\n",
       "    </tr>\n",
       "  </tbody>\n",
       "</table>\n",
       "<p>2 rows × 54 columns</p>\n",
       "</div>"
      ],
      "text/plain": [
       "     09:30:00  09:35:00   09:40:00   09:45:00   09:50:00   09:55:00  \\\n",
       "1  8897508.62  104198.4   61840.92   78523.02  128729.16   60789.84   \n",
       "2  6461968.95  109497.0  152577.00  164024.00  204372.00  321545.70   \n",
       "\n",
       "    10:00:00  10:05:00   10:10:00  10:15:00    ...      13:10:00  13:15:00  \\\n",
       "1   18072.62  108036.1  105709.11     28800    ...      19140.84   12707.5   \n",
       "2  346236.00  244627.0  142075.00    232429    ...      96203.00   33978.0   \n",
       "\n",
       "    13:20:00  13:25:00  13:30:00   13:35:00   13:40:00  13:45:00   13:50:00  \\\n",
       "1   25131.87   24124.8  46132.35   51850.26   46478.41     17199   34500.62   \n",
       "2  239729.60   67860.0  68478.00  105222.24  101646.00     79128  101248.00   \n",
       "\n",
       "    13:55:00  \n",
       "1   37690.24  \n",
       "2  367120.00  \n",
       "\n",
       "[2 rows x 54 columns]"
      ]
     },
     "execution_count": 24,
     "metadata": {},
     "output_type": "execute_result"
    }
   ],
   "source": [
    "Correlations[1:3]"
   ]
  },
  {
   "cell_type": "code",
   "execution_count": 40,
   "metadata": {
    "collapsed": false
   },
   "outputs": [
    {
     "data": {
      "text/html": [
       "<div>\n",
       "<table border=\"1\" class=\"dataframe\">\n",
       "  <thead>\n",
       "    <tr style=\"text-align: right;\">\n",
       "      <th></th>\n",
       "      <th>ID</th>\n",
       "      <th>date</th>\n",
       "      <th>product_id</th>\n",
       "      <th>09:30:00</th>\n",
       "      <th>09:35:00</th>\n",
       "      <th>09:40:00</th>\n",
       "      <th>09:45:00</th>\n",
       "      <th>09:50:00</th>\n",
       "      <th>09:55:00</th>\n",
       "      <th>10:00:00</th>\n",
       "      <th>...</th>\n",
       "      <th>13:10:00</th>\n",
       "      <th>13:15:00</th>\n",
       "      <th>13:20:00</th>\n",
       "      <th>13:25:00</th>\n",
       "      <th>13:30:00</th>\n",
       "      <th>13:35:00</th>\n",
       "      <th>13:40:00</th>\n",
       "      <th>13:45:00</th>\n",
       "      <th>13:50:00</th>\n",
       "      <th>13:55:00</th>\n",
       "    </tr>\n",
       "  </thead>\n",
       "  <tbody>\n",
       "    <tr>\n",
       "      <th>0</th>\n",
       "      <td>1</td>\n",
       "      <td>1</td>\n",
       "      <td>236</td>\n",
       "      <td>24138818.08</td>\n",
       "      <td>2457975.00</td>\n",
       "      <td>741777.14</td>\n",
       "      <td>973487.28</td>\n",
       "      <td>764018.92</td>\n",
       "      <td>1074769.92</td>\n",
       "      <td>3056492.88</td>\n",
       "      <td>...</td>\n",
       "      <td>810609.36</td>\n",
       "      <td>818269.86</td>\n",
       "      <td>629216.64</td>\n",
       "      <td>1467907.56</td>\n",
       "      <td>984992.90</td>\n",
       "      <td>959853.30</td>\n",
       "      <td>892596.88</td>\n",
       "      <td>528573.62</td>\n",
       "      <td>973928.60</td>\n",
       "      <td>972596.43</td>\n",
       "    </tr>\n",
       "    <tr>\n",
       "      <th>1</th>\n",
       "      <td>2</td>\n",
       "      <td>1</td>\n",
       "      <td>238</td>\n",
       "      <td>8897508.62</td>\n",
       "      <td>104198.40</td>\n",
       "      <td>61840.92</td>\n",
       "      <td>78523.02</td>\n",
       "      <td>128729.16</td>\n",
       "      <td>60789.84</td>\n",
       "      <td>18072.62</td>\n",
       "      <td>...</td>\n",
       "      <td>19140.84</td>\n",
       "      <td>12707.50</td>\n",
       "      <td>25131.87</td>\n",
       "      <td>24124.80</td>\n",
       "      <td>46132.35</td>\n",
       "      <td>51850.26</td>\n",
       "      <td>46478.41</td>\n",
       "      <td>17199.00</td>\n",
       "      <td>34500.62</td>\n",
       "      <td>37690.24</td>\n",
       "    </tr>\n",
       "    <tr>\n",
       "      <th>2</th>\n",
       "      <td>3</td>\n",
       "      <td>1</td>\n",
       "      <td>242</td>\n",
       "      <td>6461968.95</td>\n",
       "      <td>109497.00</td>\n",
       "      <td>152577.00</td>\n",
       "      <td>164024.00</td>\n",
       "      <td>204372.00</td>\n",
       "      <td>321545.70</td>\n",
       "      <td>346236.00</td>\n",
       "      <td>...</td>\n",
       "      <td>96203.00</td>\n",
       "      <td>33978.00</td>\n",
       "      <td>239729.60</td>\n",
       "      <td>67860.00</td>\n",
       "      <td>68478.00</td>\n",
       "      <td>105222.24</td>\n",
       "      <td>101646.00</td>\n",
       "      <td>79128.00</td>\n",
       "      <td>101248.00</td>\n",
       "      <td>367120.00</td>\n",
       "    </tr>\n",
       "    <tr>\n",
       "      <th>3</th>\n",
       "      <td>4</td>\n",
       "      <td>1</td>\n",
       "      <td>243</td>\n",
       "      <td>6822223.20</td>\n",
       "      <td>220467.28</td>\n",
       "      <td>161594.35</td>\n",
       "      <td>264893.44</td>\n",
       "      <td>300326.20</td>\n",
       "      <td>707391.68</td>\n",
       "      <td>327428.00</td>\n",
       "      <td>...</td>\n",
       "      <td>437946.60</td>\n",
       "      <td>7096.00</td>\n",
       "      <td>514560.06</td>\n",
       "      <td>1395147.39</td>\n",
       "      <td>984468.82</td>\n",
       "      <td>565263.30</td>\n",
       "      <td>286416.00</td>\n",
       "      <td>71518.14</td>\n",
       "      <td>155752.10</td>\n",
       "      <td>123690.00</td>\n",
       "    </tr>\n",
       "    <tr>\n",
       "      <th>4</th>\n",
       "      <td>5</td>\n",
       "      <td>1</td>\n",
       "      <td>261</td>\n",
       "      <td>36632811.84</td>\n",
       "      <td>4470974.95</td>\n",
       "      <td>1448461.05</td>\n",
       "      <td>1500694.38</td>\n",
       "      <td>944346.50</td>\n",
       "      <td>958685.76</td>\n",
       "      <td>1685234.07</td>\n",
       "      <td>...</td>\n",
       "      <td>429049.72</td>\n",
       "      <td>289330.13</td>\n",
       "      <td>578565.65</td>\n",
       "      <td>358484.80</td>\n",
       "      <td>440292.16</td>\n",
       "      <td>795697.65</td>\n",
       "      <td>565374.30</td>\n",
       "      <td>832022.43</td>\n",
       "      <td>1425134.40</td>\n",
       "      <td>2310369.30</td>\n",
       "    </tr>\n",
       "  </tbody>\n",
       "</table>\n",
       "<p>5 rows × 57 columns</p>\n",
       "</div>"
      ],
      "text/plain": [
       "   ID  date  product_id     09:30:00    09:35:00    09:40:00    09:45:00  \\\n",
       "0   1     1         236  24138818.08  2457975.00   741777.14   973487.28   \n",
       "1   2     1         238   8897508.62   104198.40    61840.92    78523.02   \n",
       "2   3     1         242   6461968.95   109497.00   152577.00   164024.00   \n",
       "3   4     1         243   6822223.20   220467.28   161594.35   264893.44   \n",
       "4   5     1         261  36632811.84  4470974.95  1448461.05  1500694.38   \n",
       "\n",
       "    09:50:00    09:55:00    10:00:00     ...       13:10:00   13:15:00  \\\n",
       "0  764018.92  1074769.92  3056492.88     ...      810609.36  818269.86   \n",
       "1  128729.16    60789.84    18072.62     ...       19140.84   12707.50   \n",
       "2  204372.00   321545.70   346236.00     ...       96203.00   33978.00   \n",
       "3  300326.20   707391.68   327428.00     ...      437946.60    7096.00   \n",
       "4  944346.50   958685.76  1685234.07     ...      429049.72  289330.13   \n",
       "\n",
       "    13:20:00    13:25:00   13:30:00   13:35:00   13:40:00   13:45:00  \\\n",
       "0  629216.64  1467907.56  984992.90  959853.30  892596.88  528573.62   \n",
       "1   25131.87    24124.80   46132.35   51850.26   46478.41   17199.00   \n",
       "2  239729.60    67860.00   68478.00  105222.24  101646.00   79128.00   \n",
       "3  514560.06  1395147.39  984468.82  565263.30  286416.00   71518.14   \n",
       "4  578565.65   358484.80  440292.16  795697.65  565374.30  832022.43   \n",
       "\n",
       "     13:50:00    13:55:00  \n",
       "0   973928.60   972596.43  \n",
       "1    34500.62    37690.24  \n",
       "2   101248.00   367120.00  \n",
       "3   155752.10   123690.00  \n",
       "4  1425134.40  2310369.30  \n",
       "\n",
       "[5 rows x 57 columns]"
      ]
     },
     "execution_count": 40,
     "metadata": {},
     "output_type": "execute_result"
    }
   ],
   "source": [
    "Output.head()"
   ]
  },
  {
   "cell_type": "code",
   "execution_count": 42,
   "metadata": {
    "collapsed": false
   },
   "outputs": [
    {
     "data": {
      "text/plain": [
       "ID              int64\n",
       "date            int64\n",
       "product_id      int64\n",
       "09:30:00      float64\n",
       "09:35:00      float64\n",
       "09:40:00      float64\n",
       "09:45:00      float64\n",
       "09:50:00      float64\n",
       "09:55:00      float64\n",
       "10:00:00      float64\n",
       "10:05:00      float64\n",
       "10:10:00      float64\n",
       "10:15:00      float64\n",
       "10:20:00      float64\n",
       "10:25:00      float64\n",
       "10:30:00      float64\n",
       "10:35:00      float64\n",
       "10:40:00      float64\n",
       "10:45:00      float64\n",
       "10:50:00      float64\n",
       "10:55:00      float64\n",
       "11:00:00      float64\n",
       "11:05:00      float64\n",
       "11:10:00      float64\n",
       "11:15:00      float64\n",
       "11:20:00      float64\n",
       "11:25:00      float64\n",
       "11:30:00      float64\n",
       "11:35:00      float64\n",
       "11:40:00      float64\n",
       "11:45:00      float64\n",
       "11:50:00      float64\n",
       "11:55:00      float64\n",
       "12:00:00      float64\n",
       "12:05:00      float64\n",
       "12:10:00      float64\n",
       "12:15:00      float64\n",
       "12:20:00      float64\n",
       "12:25:00      float64\n",
       "12:30:00      float64\n",
       "12:35:00      float64\n",
       "12:40:00      float64\n",
       "12:45:00      float64\n",
       "12:50:00      float64\n",
       "12:55:00      float64\n",
       "13:00:00      float64\n",
       "13:05:00      float64\n",
       "13:10:00      float64\n",
       "13:15:00      float64\n",
       "13:20:00      float64\n",
       "13:25:00      float64\n",
       "13:30:00      float64\n",
       "13:35:00      float64\n",
       "13:40:00      float64\n",
       "13:45:00      float64\n",
       "13:50:00      float64\n",
       "13:55:00      float64\n",
       "dtype: object"
      ]
     },
     "execution_count": 42,
     "metadata": {},
     "output_type": "execute_result"
    }
   ],
   "source": [
    "Output.dtypes"
   ]
  },
  {
   "cell_type": "code",
   "execution_count": 64,
   "metadata": {
    "collapsed": false
   },
   "outputs": [],
   "source": [
    "testing = pd.read_csv('Data/testing_input.csv', delimiter=';')"
   ]
  },
  {
   "cell_type": "code",
   "execution_count": 65,
   "metadata": {
    "collapsed": false
   },
   "outputs": [
    {
     "data": {
      "text/plain": [
       "(0,)"
      ]
     },
     "execution_count": 65,
     "metadata": {},
     "output_type": "execute_result"
    }
   ],
   "source": [
    "pd.isnull(testing).any(1).nonzero()[0].shape"
   ]
  },
  {
   "cell_type": "code",
   "execution_count": null,
   "metadata": {
    "collapsed": true
   },
   "outputs": [],
   "source": []
  }
 ],
 "metadata": {
  "kernelspec": {
   "display_name": "Python 2",
   "language": "python",
   "name": "python2"
  },
  "language_info": {
   "codemirror_mode": {
    "name": "ipython",
    "version": 2
   },
   "file_extension": ".py",
   "mimetype": "text/x-python",
   "name": "python",
   "nbconvert_exporter": "python",
   "pygments_lexer": "ipython2",
   "version": "2.7.10"
  }
 },
 "nbformat": 4,
 "nbformat_minor": 0
}
