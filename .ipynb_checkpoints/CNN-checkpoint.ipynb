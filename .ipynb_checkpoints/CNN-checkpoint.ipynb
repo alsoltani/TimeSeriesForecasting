{
 "cells": [
  {
   "cell_type": "code",
   "execution_count": 1,
   "metadata": {
    "collapsed": false
   },
   "outputs": [
    {
     "name": "stdout",
     "output_type": "stream",
     "text": [
      "Using Theano backend.\n"
     ]
    }
   ],
   "source": [
    "import numpy as np\n",
    "import pandas as pd\n",
    "import pywt\n",
    "from sklearn.cross_validation import train_test_split\n",
    "from sklearn.ensemble import RandomForestRegressor\n",
    "from sklearn.cross_validation import cross_val_score\n",
    "from sklearn.grid_search import GridSearchCV\n",
    "from sklearn.preprocessing import Imputer\n",
    "from sklearn.tree import DecisionTreeRegressor\n",
    "from sklearn.ensemble import AdaBoostRegressor\n",
    "from keras.preprocessing import sequence\n",
    "from keras.models import Sequential\n",
    "from keras.optimizers import SGD\n",
    "from keras.layers.core import Dense, Dropout, Activation\n",
    "from keras.layers.embeddings import Embedding\n",
    "from keras.layers.recurrent import LSTM, GRU, SimpleRNN\n",
    "from keras.layers.convolutional import Convolution1D, MaxPooling1D\n",
    "from keras.layers.core import Flatten, Reshape\n",
    "from keras.optimizers import Adam\n",
    "   "
   ]
  },
  {
   "cell_type": "code",
   "execution_count": 2,
   "metadata": {
    "collapsed": true
   },
   "outputs": [],
   "source": [
    "class DictT(object):\n",
    "\n",
    "    def __init__(self, name, level):\n",
    "            self.name = name\n",
    "            self.level = level\n",
    "            self.sizes = []\n",
    "\n",
    "    def dot(self, mat):\n",
    "\n",
    "        m = []\n",
    "\n",
    "        if mat.shape[0] != mat.size:\n",
    "            for i in xrange(mat.shape[1]):\n",
    "                c = pywt.wavedec(mat[:, i], self.name, level=self.level)\n",
    "                self.sizes.append(map(len, c))\n",
    "                c = np.concatenate(c)\n",
    "                m.append(c)\n",
    "            return np.asarray(m).T\n",
    "        else:\n",
    "            c = pywt.wavedec(mat, self.name, level=self.level)\n",
    "            self.sizes.append(map(len, c))\n",
    "            return np.concatenate(c)"
   ]
  },
  {
   "cell_type": "code",
   "execution_count": 3,
   "metadata": {
    "collapsed": false
   },
   "outputs": [
    {
     "data": {
      "text/plain": [
       "(613220, 57)"
      ]
     },
     "execution_count": 3,
     "metadata": {},
     "output_type": "execute_result"
    }
   ],
   "source": [
    "training_set = pd.read_csv('Data/training_input.csv', delimiter=',')\n",
    "output = pd.read_csv('Data/training_output.csv', delimiter=';')\n",
    "training_set.shape"
   ]
  },
  {
   "cell_type": "code",
   "execution_count": 4,
   "metadata": {
    "collapsed": false
   },
   "outputs": [],
   "source": [
    "training_set_filled = pd.merge(training_set, output, on='ID', how='inner')\n",
    "#training_set_filled = training_set_filled.drop(pd.isnull(training_set).any(1).nonzero()[0]).reset_index(drop=True)\n",
    "x = training_set_filled.drop([\"ID\", \"date\", \"product_id\", \"TARGET\"], axis=1).values\n",
    "y = training_set_filled[\"TARGET\"].values\n",
    "n=training_set.shape[0]\n",
    "\n"
   ]
  },
  {
   "cell_type": "code",
   "execution_count": 5,
   "metadata": {
    "collapsed": false
   },
   "outputs": [],
   "source": [
    "wave_name = 'db1'\n",
    "wave_level = None\n",
    "wavelet_operator_t = DictT(level=wave_level, name=wave_name)\n",
    "\n",
    "basis_t = wavelet_operator_t.dot(np.identity(x.shape[1]))\n",
    "basis_t /= np.sqrt(np.sum(basis_t ** 2, axis=0))\n",
    "basis = basis_t.T"
   ]
  },
  {
   "cell_type": "code",
   "execution_count": 22,
   "metadata": {
    "collapsed": false
   },
   "outputs": [
    {
     "name": "stdout",
     "output_type": "stream",
     "text": [
      "(613220L, 54L)\n",
      "(410857L, 54L)\n",
      "(202363L, 54L)\n"
     ]
    }
   ],
   "source": [
    "import math\n",
    "from sklearn.preprocessing import Imputer\n",
    "length=len(x[0,:])\n",
    "for i in xrange(0,x.shape[0]):\n",
    "### Extremal values NaN\n",
    "#Start\n",
    "    if math.isnan(x[i,0])==True:\n",
    "        compteur=1\n",
    "        while math.isnan(x[i,compteur])==True and compteur<=52:\n",
    "            compteur=compteur+1\n",
    "        for k in xrange(0,compteur):\n",
    "             x[i,k]=x[i,compteur]\n",
    "#End\n",
    "    if math.isnan(x[i,length-1])==True:\n",
    "        compteur=length-2\n",
    "        while math.isnan(x[i,compteur])==True and 1<=compteur:\n",
    "            compteur=compteur-1\n",
    "        for k in xrange(compteur,length):\n",
    "            x[i,k]=x[i,compteur]\n",
    "    index=1 \n",
    "    while index<=length-2:\n",
    "        if math.isnan(x[i,index])==True:\n",
    "            start=index\n",
    "            end=index+1\n",
    "            while math.isnan(x[i,end])==True and end <= length-2:\n",
    "                end+=1\n",
    "            x0=x[i,start-1]\n",
    "            xN=x[i,end]\n",
    "            for j in xrange(start,end):\n",
    "                x[i,j]=x0+((xN-x0+0.0)/(end-start+1))*(j-start+1)\n",
    "            index=end+1\n",
    "        else:\n",
    "            index=index+1\n",
    "\n",
    "\n",
    "print x.shape\n",
    "\n",
    "x_train, x_val, y_train, y_val = train_test_split(\n",
    "    x, y, test_size=0.33)\n",
    "\n",
    "imp_train = Imputer(missing_values='NaN', strategy='mean', axis=0)\n",
    "imp_val = Imputer(missing_values='NaN', strategy='mean', axis=0)\n",
    "imp_train.fit(x_train)\n",
    "imp_val.fit(x_val)\n",
    "x_train=imp_train.transform(x_train)\n",
    "x_val=imp_val.transform(x_val)\n",
    "\n",
    "print x_train.shape\n",
    "print x_val.shape"
   ]
  },
  {
   "cell_type": "code",
   "execution_count": 6,
   "metadata": {
    "collapsed": false
   },
   "outputs": [
    {
     "name": "stdout",
     "output_type": "stream",
     "text": [
      "0\n"
     ]
    }
   ],
   "source": [
    "count=0\n",
    "for i in xrange(0,x_val.shape[0]):\n",
    "    for j in xrange(0,x_val.shape[1]):\n",
    "        if math.isnan(x_val[i,j])==True:\n",
    "            count=count+1\n",
    "            \n",
    "print count"
   ]
  },
  {
   "cell_type": "code",
   "execution_count": 7,
   "metadata": {
    "collapsed": false
   },
   "outputs": [],
   "source": [
    "import theano\n",
    "new_shape=(410857,54,1)\n",
    "val_shape=(202363, 54,1)\n",
    "x_train_2=np.reshape(x_train,new_shape).astype(theano.config.floatX)\n",
    "x_val_2=np.reshape(x_val,val_shape).astype(theano.config.floatX)"
   ]
  },
  {
   "cell_type": "code",
   "execution_count": 8,
   "metadata": {
    "collapsed": false
   },
   "outputs": [
    {
     "name": "stdout",
     "output_type": "stream",
     "text": [
      "0\n",
      "('ITERATION:', 0)\n",
      "lr : 0.000000.6\n",
      "Train...\n",
      "Train on 410857 samples, validate on 202363 samples\n",
      "Epoch 1/1\n",
      "410857/410857 [==============================] - 85s - loss: 106.8725 - acc: 1.0000 - val_loss: 100.8520 - val_acc: 1.0000\n",
      "202363/202363 [==============================] - 14s    \n",
      "('Test score:', 100.85195646744414)\n",
      "('Test accuracy:', 1.0)\n",
      "(202363L, 54L, 1L)\n",
      "[[   461850.6875  ]\n",
      " [   187337.4375  ]\n",
      " [   814465.375   ]\n",
      " ..., \n",
      " [    35023.796875]\n",
      " [   453544.09375 ]\n",
      " [ 16369802.      ]]\n",
      "[[ -1.69292160e+07   1.00000000e+00]\n",
      " [ -1.50462040e+07   1.00000000e+00]\n",
      " [ -1.04781890e+07   1.00000000e+00]\n",
      " ..., \n",
      " [  1.65884032e+08   1.00000000e+00]\n",
      " [  1.72290912e+08   1.00000000e+00]\n",
      " [  2.28867184e+08   1.00000000e+00]]\n"
     ]
    },
    {
     "data": {
      "text/plain": [
       "'344344/344344 [==============================] - 177s - loss: 12865254416382372.0000 - acc: 1.0000 - val_loss: 12616425271575980.0000 - val_acc: 1.0000\\n169603/169603 [==============================] - 30s   '"
      ]
     },
     "execution_count": 8,
     "metadata": {},
     "output_type": "execute_result"
    }
   ],
   "source": [
    "lr=0.0\n",
    "for i in xrange(0,1):\n",
    "    print i\n",
    "    model = Sequential()\n",
    "    model.add(Convolution1D(nb_filter=32,filter_length =8,init='glorot_uniform',input_shape=(54,1)))\n",
    "    model.add(Activation('relu'))\n",
    "    model.add(MaxPooling1D(3))\n",
    "    model.add(Dropout(0.5))\n",
    "    #model.add(Convolution1D(nb_filter=64,filter_length =4,init='glorot_uniform'))\n",
    "    #model.add(Activation('tanh'))\n",
    "    model.add(Convolution1D(nb_filter=64,filter_length=2,init='glorot_uniform'))\n",
    "    model.add(Activation('relu'))\n",
    "    model.add(MaxPooling1D(2))\n",
    "    model.add(Dropout(0.5))\n",
    "    model.add(Flatten())\n",
    "    model.add(Dense(128,init='glorot_uniform'))\n",
    "    model.add(Activation('relu'))\n",
    "    model.add(Dropout(0.5))\n",
    "    model.add(Dense(1))\n",
    "    print('ITERATION:', i)\n",
    "    lr=lr+0.0000000001\n",
    "    print \"lr : %f.6\" % lr\n",
    "    adam = Adam(lr=lr)\n",
    "    model.compile(loss='mean_absolute_percentage_error',\n",
    "              optimizer=adam)\n",
    "\n",
    "    print('Train...')\n",
    "    model.fit(x_train_2, y_train, batch_size=100, nb_epoch=1,\n",
    "          validation_data=(x_val_2, y_val), show_accuracy=True)\n",
    "    score, acc = model.evaluate(x_val_2, y_val, batch_size=100,\n",
    "                            show_accuracy=True)\n",
    "    print('Test score:', score)\n",
    "    print('Test accuracy:', acc)\n",
    "    y_val_pred=model.predict(x_val_2)\n",
    "    from scipy.stats import itemfreq \n",
    "    print(x_val_2.shape)\n",
    "    print y_val_pred\n",
    "    freq=itemfreq(y_val_pred)\n",
    "    print freq\n",
    "'''344344/344344 [==============================] - 177s - loss: 12865254416382372.0000 - acc: 1.0000 - val_loss: 12616425271575980.0000 - val_acc: 1.0000\n",
    "169603/169603 [==============================] - 30s   '''\n",
    "\n"
   ]
  },
  {
   "cell_type": "code",
   "execution_count": 10,
   "metadata": {
    "collapsed": false
   },
   "outputs": [],
   "source": [
    "\n",
    "### Submission Data ###\n",
    "testing = pd.read_csv('Data/testing_input.csv', delimiter=',')\n",
    "x_test = testing.drop([\"ID\", \"date\", \"product_id\"], axis=1).values\n",
    "###Imputing Missing Values by linear line ###\n",
    "length=len(x_test[0,:])\n",
    "\n",
    "for i in xrange(0,x_test.shape[0]):\n",
    "### Extremal values NaN\n",
    "#Start\n",
    "    if math.isnan(x_test[i,0])==True:\n",
    "        compteur=1\n",
    "        while math.isnan(x_test[i,compteur])==True and compteur<=52:\n",
    "            compteur=compteur+1\n",
    "        for k in xrange(0,compteur):\n",
    "             x_test[i,k]=x_test[i,compteur]\n",
    "#End\n",
    "    if math.isnan(x_test[i,length-1])==True:\n",
    "        compteur=length-2\n",
    "        while math.isnan(x_test[i,compteur])==True and 1<=compteur:\n",
    "            compteur=compteur-1\n",
    "        for k in xrange(compteur,length):\n",
    "            x_test[i,k]=x_test[i,compteur]\n",
    "    index=1 \n",
    "    while index<=length-2:\n",
    "        if math.isnan(x_test[i,index])==True:\n",
    "            start=index\n",
    "            end=index+1\n",
    "            while math.isnan(x_test[i,end])==True and end <= length-2:\n",
    "                end+=1\n",
    "            x0=x_test[i,start-1]\n",
    "            xN=x_test[i,end]\n",
    "            for j in xrange(start,end):\n",
    "                x_test[i,j]=x0+((xN-x0+0.0)/(end-start+1))*(j-start+1)\n",
    "            index=end+1\n",
    "        else:\n",
    "            index=index+1\n",
    "\n",
    "imp = Imputer(missing_values='NaN', strategy='mean', axis=0)\n",
    "imp.fit(x_test)\n",
    "x_test=imp.transform(x_test)\n",
    "\n",
    "\n",
    "imp_x=Imputer(missing_values='NaN', strategy='mean', axis=0)\n",
    "imp_x.fit(x)\n",
    "x=imp_x.transform(x)\n",
    "new_shape=(613220, 54,1)\n",
    "x=np.reshape(x,new_shape).astype(theano.config.floatX)"
   ]
  },
  {
   "cell_type": "code",
   "execution_count": 24,
   "metadata": {
    "collapsed": false
   },
   "outputs": [
    {
     "name": "stdout",
     "output_type": "stream",
     "text": [
      "Train on 613220 samples, validate on 202363 samples\n",
      "Epoch 1/10\n",
      "613220/613220 [==============================] - 124s - loss: 105.3605 - acc: 1.0000 - val_loss: 111.5902 - val_acc: 1.0000\n",
      "Epoch 2/10\n",
      "613220/613220 [==============================] - 120s - loss: 110.3876 - acc: 1.0000 - val_loss: 111.5902 - val_acc: 1.0000\n",
      "Epoch 3/10\n",
      "613220/613220 [==============================] - 120s - loss: 106.2858 - acc: 1.0000 - val_loss: 111.5902 - val_acc: 1.0000\n",
      "Epoch 4/10\n",
      "613220/613220 [==============================] - 123s - loss: 108.2586 - acc: 1.0000 - val_loss: 111.5902 - val_acc: 1.0000\n",
      "Epoch 5/10\n",
      "613220/613220 [==============================] - 122s - loss: 107.5819 - acc: 1.0000 - val_loss: 111.5902 - val_acc: 1.0000\n",
      "Epoch 6/10\n",
      "613220/613220 [==============================] - 124s - loss: 107.8836 - acc: 1.0000 - val_loss: 111.5902 - val_acc: 1.0000\n",
      "Epoch 7/10\n",
      "613220/613220 [==============================] - 121s - loss: 106.7344 - acc: 1.0000 - val_loss: 111.5902 - val_acc: 1.0000\n",
      "Epoch 8/10\n",
      "613220/613220 [==============================] - 129s - loss: 105.8680 - acc: 1.0000 - val_loss: 111.5902 - val_acc: 1.0000\n",
      "Epoch 9/10\n",
      "613220/613220 [==============================] - 132s - loss: 107.0474 - acc: 1.0000 - val_loss: 111.5902 - val_acc: 1.0000\n",
      "Epoch 10/10\n",
      "613220/613220 [==============================] - 129s - loss: 108.6512 - acc: 1.0000 - val_loss: 111.5902 - val_acc: 1.0000\n"
     ]
    },
    {
     "data": {
      "text/plain": [
       "<keras.callbacks.History at 0x338cb160>"
      ]
     },
     "execution_count": 24,
     "metadata": {},
     "output_type": "execute_result"
    }
   ],
   "source": [
    "adam = Adam(lr=0.0000000001)\n",
    "model.compile(loss='mean_absolute_percentage_error',optimizer=adam)\n",
    "model.fit(x, y, batch_size=100, nb_epoch=10,\n",
    "          validation_data=(x_val_2, y_val), show_accuracy=True)\n",
    "\n"
   ]
  },
  {
   "cell_type": "code",
   "execution_count": 25,
   "metadata": {
    "collapsed": false
   },
   "outputs": [
    {
     "name": "stdout",
     "output_type": "stream",
     "text": [
      "(614098L, 54L, 1L)\n"
     ]
    }
   ],
   "source": [
    "test_shape=(614098, 54,1)\n",
    "x_test=np.reshape(x_test,test_shape).astype(theano.config.floatX)\n",
    "print x_test.shape\n",
    "y_test=model.predict(x_test)"
   ]
  },
  {
   "cell_type": "code",
   "execution_count": 26,
   "metadata": {
    "collapsed": true
   },
   "outputs": [],
   "source": [
    "df_test = pd.DataFrame(y_test)\n",
    "df_test.columns = [\"TARGET\"]\n",
    "df_test[\"ID\"] = testing[\"ID\"]\n",
    "cols = df_test.columns.tolist()\n",
    "cols = cols[-1:] + cols[:-1]\n",
    "df_test = df_test[cols]\n",
    "df_test.head()\n",
    "df_test.sort_values(by=[\"ID\"],axis=0,inplace=True)\n",
    "df_test.head\n",
    "df_test.to_csv(\"Submission.csv\", sep=\",\", index=False)"
   ]
  },
  {
   "cell_type": "code",
   "execution_count": 27,
   "metadata": {
    "collapsed": false
   },
   "outputs": [
    {
     "data": {
      "text/html": [
       "<div>\n",
       "<table border=\"1\" class=\"dataframe\">\n",
       "  <thead>\n",
       "    <tr style=\"text-align: right;\">\n",
       "      <th></th>\n",
       "      <th>ID</th>\n",
       "      <th>TARGET</th>\n",
       "    </tr>\n",
       "  </thead>\n",
       "  <tbody>\n",
       "    <tr>\n",
       "      <th>0</th>\n",
       "      <td>618557</td>\n",
       "      <td>138444.625000</td>\n",
       "    </tr>\n",
       "    <tr>\n",
       "      <th>1</th>\n",
       "      <td>618558</td>\n",
       "      <td>85418.085938</td>\n",
       "    </tr>\n",
       "    <tr>\n",
       "      <th>2</th>\n",
       "      <td>618559</td>\n",
       "      <td>346991.218750</td>\n",
       "    </tr>\n",
       "    <tr>\n",
       "      <th>3</th>\n",
       "      <td>618560</td>\n",
       "      <td>34041.558594</td>\n",
       "    </tr>\n",
       "    <tr>\n",
       "      <th>4</th>\n",
       "      <td>618561</td>\n",
       "      <td>456523.812500</td>\n",
       "    </tr>\n",
       "  </tbody>\n",
       "</table>\n",
       "</div>"
      ],
      "text/plain": [
       "       ID         TARGET\n",
       "0  618557  138444.625000\n",
       "1  618558   85418.085938\n",
       "2  618559  346991.218750\n",
       "3  618560   34041.558594\n",
       "4  618561  456523.812500"
      ]
     },
     "execution_count": 27,
     "metadata": {},
     "output_type": "execute_result"
    }
   ],
   "source": [
    "df_test = pd.DataFrame(y_test)\n",
    "df_test.columns = [\"TARGET\"]\n",
    "df_test[\"ID\"] = testing[\"ID\"]\n",
    "cols = df_test.columns.tolist()\n",
    "cols = cols[-1:] + cols[:-1]\n",
    "df_test = df_test[cols]\n",
    "df_test.head()"
   ]
  },
  {
   "cell_type": "code",
   "execution_count": 29,
   "metadata": {
    "collapsed": false
   },
   "outputs": [],
   "source": [
    "df_test.to_csv(\"Submission.csv\", sep=\",\", index=False)"
   ]
  },
  {
   "cell_type": "code",
   "execution_count": null,
   "metadata": {
    "collapsed": true
   },
   "outputs": [],
   "source": []
  }
 ],
 "metadata": {
  "kernelspec": {
   "display_name": "Python 2",
   "language": "python",
   "name": "python2"
  },
  "language_info": {
   "codemirror_mode": {
    "name": "ipython",
    "version": 2
   },
   "file_extension": ".py",
   "mimetype": "text/x-python",
   "name": "python",
   "nbconvert_exporter": "python",
   "pygments_lexer": "ipython2",
   "version": "2.7.10"
  }
 },
 "nbformat": 4,
 "nbformat_minor": 0
}
