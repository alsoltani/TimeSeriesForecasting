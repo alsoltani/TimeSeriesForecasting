{
 "cells": [
  {
   "cell_type": "code",
   "execution_count": 1,
   "metadata": {
    "collapsed": true
   },
   "outputs": [],
   "source": [
    "%matplotlib inline\n",
    "import pandas as pd\n",
    "import time\n",
    "import numpy as np\n",
    "import matplotlib.pyplot as plt"
   ]
  },
  {
   "cell_type": "code",
   "execution_count": 2,
   "metadata": {
    "collapsed": false
   },
   "outputs": [],
   "source": [
    "import seaborn as sns; sns.set()"
   ]
  },
  {
   "cell_type": "code",
   "execution_count": 3,
   "metadata": {
    "collapsed": true
   },
   "outputs": [],
   "source": [
    "Training = pd.read_csv('/Users/Arnaud/Desktop/ChallengeML/training_input.csv', delimiter=',')\n",
    "Output = pd.read_csv('/Users/Arnaud/Desktop/ChallengeML/training_output.csv', delimiter=';')"
   ]
  },
  {
   "cell_type": "code",
   "execution_count": 4,
   "metadata": {
    "collapsed": true
   },
   "outputs": [],
   "source": [
    "Training = pd.merge(Training, Output, on ='ID')"
   ]
  },
  {
   "cell_type": "code",
   "execution_count": 5,
   "metadata": {
    "collapsed": false
   },
   "outputs": [
    {
     "data": {
      "text/plain": [
       "(613220, 58)"
      ]
     },
     "execution_count": 5,
     "metadata": {},
     "output_type": "execute_result"
    }
   ],
   "source": [
    "Training.shape"
   ]
  },
  {
   "cell_type": "code",
   "execution_count": 6,
   "metadata": {
    "collapsed": true
   },
   "outputs": [],
   "source": [
    "TestFull = Training.drop(pd.isnull(Training).any(1).nonzero()[0]).reset_index(drop = True)"
   ]
  },
  {
   "cell_type": "code",
   "execution_count": 7,
   "metadata": {
    "collapsed": false
   },
   "outputs": [
    {
     "name": "stdout",
     "output_type": "stream",
     "text": [
      "(513947, 58)\n",
      "['ID' 'date' 'product_id' '09:30:00' '09:35:00' '09:40:00' '09:45:00'\n",
      " '09:50:00' '09:55:00' '10:00:00' '10:05:00' '10:10:00' '10:15:00'\n",
      " '10:20:00' '10:25:00' '10:30:00' '10:35:00' '10:40:00' '10:45:00'\n",
      " '10:50:00' '10:55:00' '11:00:00' '11:05:00' '11:10:00' '11:15:00'\n",
      " '11:20:00' '11:25:00' '11:30:00' '11:35:00' '11:40:00' '11:45:00'\n",
      " '11:50:00' '11:55:00' '12:00:00' '12:05:00' '12:10:00' '12:15:00'\n",
      " '12:20:00' '12:25:00' '12:30:00' '12:35:00' '12:40:00' '12:45:00'\n",
      " '12:50:00' '12:55:00' '13:00:00' '13:05:00' '13:10:00' '13:15:00'\n",
      " '13:20:00' '13:25:00' '13:30:00' '13:35:00' '13:40:00' '13:45:00'\n",
      " '13:50:00' '13:55:00' 'TARGET']\n"
     ]
    }
   ],
   "source": [
    "print TestFull.shape\n",
    "print TestFull.columns.values"
   ]
  },
  {
   "cell_type": "code",
   "execution_count": 8,
   "metadata": {
    "collapsed": false
   },
   "outputs": [],
   "source": [
    "del TestFull['ID'], TestFull['date'], TestFull['product_id']"
   ]
  },
  {
   "cell_type": "code",
   "execution_count": 9,
   "metadata": {
    "collapsed": false
   },
   "outputs": [
    {
     "data": {
      "text/plain": [
       "09:30:00     6079961.685724\n",
       "09:35:00     2973521.486158\n",
       "09:40:00     2763798.900231\n",
       "09:45:00     2655015.216648\n",
       "09:50:00     2533070.448137\n",
       "09:55:00     2357192.940235\n",
       "10:00:00     2681334.580605\n",
       "10:05:00     2406479.177236\n",
       "10:10:00     2242428.031503\n",
       "10:15:00     2156953.036417\n",
       "10:20:00     2067224.317770\n",
       "10:25:00     1948895.885916\n",
       "10:30:00     2042904.725377\n",
       "10:35:00     1909479.931295\n",
       "10:40:00     1835468.205290\n",
       "10:45:00     1783736.036156\n",
       "10:50:00     1720167.190118\n",
       "10:55:00     1649102.712842\n",
       "11:00:00     1689200.926634\n",
       "11:05:00     1635597.916463\n",
       "11:10:00     1568781.653684\n",
       "11:15:00     1542924.013695\n",
       "11:20:00     1511988.909707\n",
       "11:25:00     1473255.501487\n",
       "11:30:00     1512439.561299\n",
       "11:35:00     1425821.951436\n",
       "11:40:00     1366365.319374\n",
       "11:45:00     1353005.860924\n",
       "11:50:00     1316127.832850\n",
       "11:55:00     1284786.076683\n",
       "12:00:00     1326876.627343\n",
       "12:05:00     1256642.770931\n",
       "12:10:00     1207727.930910\n",
       "12:15:00     1182673.881999\n",
       "12:20:00     1165357.636279\n",
       "12:25:00     1137866.524976\n",
       "12:30:00     1172827.218243\n",
       "12:35:00     1139667.116678\n",
       "12:40:00     1103359.093052\n",
       "12:45:00     1109994.732358\n",
       "12:50:00     1108509.754419\n",
       "12:55:00     1074951.618148\n",
       "13:00:00     1164063.276103\n",
       "13:05:00     1142021.201663\n",
       "13:10:00     1131205.731918\n",
       "13:15:00     1132213.295670\n",
       "13:20:00     1132982.193469\n",
       "13:25:00     1130813.521120\n",
       "13:30:00     1195372.583807\n",
       "13:35:00     1176784.402448\n",
       "13:40:00     1168208.101338\n",
       "13:45:00     1189256.003263\n",
       "13:50:00     1209024.995550\n",
       "13:55:00     1215469.071960\n",
       "TARGET      49970943.368300\n",
       "dtype: float64"
      ]
     },
     "execution_count": 9,
     "metadata": {},
     "output_type": "execute_result"
    }
   ],
   "source": [
    "TestFull.mean(axis=0)"
   ]
  },
  {
   "cell_type": "code",
   "execution_count": 92,
   "metadata": {
    "collapsed": false
   },
   "outputs": [],
   "source": [
    "TestFull = TestFull[['10:00:00','10:10:00','13:55:00','13:50:00','10:20:00','09:50:00','09:40:00','TARGET']]\n"
   ]
  },
  {
   "cell_type": "code",
   "execution_count": 62,
   "metadata": {
    "collapsed": false
   },
   "outputs": [],
   "source": [
    "for i in range(1,TestFull.columns.shape[0]-1):\n",
    "\n",
    "    TestFull[\"diff{0}\".format(i)]=TestFull.iloc[:,i]-TestFull.iloc[:,i-1]"
   ]
  },
  {
   "cell_type": "code",
   "execution_count": 10,
   "metadata": {
    "collapsed": false
   },
   "outputs": [],
   "source": [
    "features = TestFull.drop(['TARGET'], axis=1)\n",
    "X_columns = TestFull.columns.drop(['TARGET'])\n",
    "X = features.values\n",
    "y = TestFull['TARGET'].values"
   ]
  },
  {
   "cell_type": "code",
   "execution_count": 11,
   "metadata": {
    "collapsed": true
   },
   "outputs": [],
   "source": [
    "from sklearn.cross_validation import train_test_split\n",
    "\n",
    "X_train, X_test, y_train, y_test = train_test_split(\n",
    "    X, y, test_size=0.2, random_state=0)"
   ]
  },
  {
   "cell_type": "code",
   "execution_count": 12,
   "metadata": {
    "collapsed": false
   },
   "outputs": [
    {
     "name": "stdout",
     "output_type": "stream",
     "text": [
      "log RMSE: 34601399.4286 +/-1488717.4959\n",
      "CPU times: user 195 ms, sys: 296 ms, total: 491 ms\n",
      "Wall time: 2min 22s\n"
     ]
    }
   ],
   "source": [
    "%%time\n",
    "from sklearn.ensemble import RandomForestRegressor\n",
    "from sklearn.cross_validation import cross_val_score\n",
    "\n",
    "n_estimators = 20\n",
    "max_depth = 20\n",
    "max_features = 7\n",
    "reg = RandomForestRegressor(n_estimators=n_estimators, max_depth=max_depth, max_features=max_features)\n",
    "\n",
    "scores = cross_val_score(reg, X_train, y_train, cv=5, scoring='mean_squared_error',n_jobs=3)\n",
    "print(\"log RMSE: {:.4f} +/-{:.4f}\".format(\n",
    "    np.mean(np.sqrt(-scores)), np.std(np.sqrt(-scores))))"
   ]
  },
  {
   "cell_type": "code",
   "execution_count": 13,
   "metadata": {
    "collapsed": false
   },
   "outputs": [
    {
     "data": {
      "text/plain": [
       "RandomForestRegressor(bootstrap=True, criterion='mse', max_depth=20,\n",
       "           max_features=7, max_leaf_nodes=None, min_samples_leaf=1,\n",
       "           min_samples_split=2, min_weight_fraction_leaf=0.0,\n",
       "           n_estimators=20, n_jobs=1, oob_score=False, random_state=None,\n",
       "           verbose=0, warm_start=False)"
      ]
     },
     "execution_count": 13,
     "metadata": {},
     "output_type": "execute_result"
    }
   ],
   "source": [
    "reg.fit(X_train, y_train)"
   ]
  },
  {
   "cell_type": "code",
   "execution_count": 14,
   "metadata": {
    "collapsed": false
   },
   "outputs": [
    {
     "data": {
      "image/png": "[encoded data removed]",
      "text/plain": [
       "<matplotlib.figure.Figure at 0x10a13b990>"
      ]
     },
     "metadata": {},
     "output_type": "display_data"
    }
   ],
   "source": [
    "plt.figure(figsize=(15, 5))\n",
    "\n",
    "ordering = np.argsort(reg.feature_importances_)[::-1][:50]\n",
    "\n",
    "importances = reg.feature_importances_[ordering]\n",
    "feature_names = X_columns[ordering]\n",
    "\n",
    "x = np.arange(len(feature_names))\n",
    "plt.bar(x, importances)\n",
    "plt.xticks(x + 0.5, feature_names, rotation=90, fontsize=15);"
   ]
  },
  {
   "cell_type": "code",
   "execution_count": 17,
   "metadata": {
    "collapsed": false
   },
   "outputs": [
    {
     "data": {
      "text/plain": [
       "Index([u'10:10:00', u'10:00:00', u'10:05:00', u'09:45:00', u'09:40:00',\n",
       "       u'13:55:00', u'10:20:00', u'10:40:00', u'09:35:00', u'09:50:00',\n",
       "       u'13:50:00', u'09:55:00', u'10:30:00', u'10:35:00', u'10:50:00',\n",
       "       u'10:55:00', u'13:35:00', u'13:45:00', u'13:40:00', u'13:20:00',\n",
       "       u'10:15:00', u'13:25:00', u'13:15:00', u'11:05:00', u'10:45:00',\n",
       "       u'10:25:00', u'11:00:00', u'13:30:00', u'12:10:00', u'12:45:00',\n",
       "       u'11:30:00', u'13:00:00', u'13:05:00', u'12:55:00', u'11:45:00',\n",
       "       u'11:20:00', u'11:50:00', u'13:10:00', u'11:40:00', u'12:35:00',\n",
       "       u'12:15:00', u'11:35:00', u'12:50:00', u'11:25:00', u'12:00:00',\n",
       "       u'11:10:00', u'09:30:00', u'12:05:00', u'12:25:00', u'11:55:00'],\n",
       "      dtype='object')"
      ]
     },
     "execution_count": 17,
     "metadata": {},
     "output_type": "execute_result"
    }
   ],
   "source": [
    "feature_names"
   ]
  },
  {
   "cell_type": "code",
   "execution_count": null,
   "metadata": {
    "collapsed": true
   },
   "outputs": [],
   "source": []
  }
 ],
 "metadata": {
  "kernelspec": {
   "display_name": "Python 2",
   "language": "python",
   "name": "python2"
  },
  "language_info": {
   "codemirror_mode": {
    "name": "ipython",
    "version": 2
   },
   "file_extension": ".py",
   "mimetype": "text/x-python",
   "name": "python",
   "nbconvert_exporter": "python",
   "pygments_lexer": "ipython2",
   "version": "2.7.11"
  }
 },
 "nbformat": 4,
 "nbformat_minor": 0
}
